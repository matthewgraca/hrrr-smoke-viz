{
 "cells": [
  {
   "cell_type": "markdown",
   "id": "f1617cd9-424c-4208-9b3d-d807cc773692",
   "metadata": {},
   "source": [
    "# Inventory of functions used\n",
    "A crude inventory of functions used. They're not very portable (a lot of hardcoded stuff), but if there's a need to we can refactor them to be more portable, and make more sense."
   ]
  },
  {
   "cell_type": "code",
   "execution_count": 1,
   "id": "ddd653db-1865-4e58-a7de-ab37e97f1c8d",
   "metadata": {},
   "outputs": [],
   "source": [
    "from herbie import Herbie, wgrib2, paint\n",
    "from herbie.toolbox import EasyMap, ccrs, pc\n",
    "from pathlib import Path\n",
    "import matplotlib.pyplot as plt\n",
    "import pandas as pd\n",
    "import xarray as xr\n",
    "import numpy as np\n",
    "import math\n",
    "import cv2\n",
    "import requests\n",
    "import json\n",
    "import os\n",
    "import sys\n",
    "from scipy.interpolate import NearestNDInterpolator, LinearNDInterpolator"
   ]
  },
  {
   "cell_type": "markdown",
   "id": "08aeeb2e-e44a-4a62-b109-12d52f9428e7",
   "metadata": {},
   "source": [
    "## HRRR"
   ]
  },
  {
   "cell_type": "markdown",
   "id": "02a44cc7-1e1b-4055-9765-8b5132bad5b3",
   "metadata": {},
   "source": [
    "### `get_hrrr_data(preloaded)`\n",
    "- Uses `herbie` to download HRRR-smoke's near-surface smoke field (called \"MASSDEN\").\n",
    "    - Note that these are not forecasts; we download the hourly-assimilated data.\n",
    "- Downloads 7 days of data (1-10 to 1-17), 24 hours (00 to 23) -> 168 hours.\n",
    "- Returns a list of 168 grib files."
   ]
  },
  {
   "cell_type": "code",
   "execution_count": 2,
   "id": "e41c4b95-a054-4c3f-a13d-daf0b27c0d46",
   "metadata": {},
   "outputs": [],
   "source": [
    "# returns list of grib files (not herbie objects)\n",
    "# downloads 7 days of data (1-10 to 1-17), 24 hours (00 to 23) -> 168 hours\n",
    "# not forecasts -- downloading actual hourly updated data\n",
    "def get_hrrr_data():\n",
    "    start_day, end_day = 10, 17\n",
    "    start_hour, end_hour = 0, 24\n",
    "    grib_files = []\n",
    "    for day in range(start_day, end_day):\n",
    "        for hour in range(start_hour, end_hour):\n",
    "            date = f\"2025-01-{str(day).zfill(2)}-{str(hour).zfill(2)}\"\n",
    "            H = Herbie(\n",
    "                date,\n",
    "                model=\"hrrr\",\n",
    "                product=\"sfc\",\n",
    "            )\n",
    "            H.download(\"MASSDEN\")\n",
    "            my_file = H.get_localFilePath(\"MASSDEN\")\n",
    "            grib_files.append(my_file)\n",
    "            \n",
    "    return grib_files"
   ]
  },
  {
   "cell_type": "markdown",
   "id": "2b419fc6-4a4f-4ca6-9872-82bed7ab19c7",
   "metadata": {},
   "source": [
    "### `subregion_grib_files_to_numpy(grib_files, extent)`\n",
    "- Arguments:\n",
    "    - `grib_files`: list of grib files\n",
    "    - `extent`: (longitude bottom, longitude top, latitude bottom, latitude top)\n",
    "    - `row`, `col`: the row and column values for the subregion (you kinda just have to know this ahead of time by subregioning the grib and peeking into the xarray dataset values)\n",
    "- Validates downloads\n",
    "- Subregions each grib file\n",
    "- Converts the grib file into xarray, then to numpy\n",
    "- Returns a numpy array of the grib data"
   ]
  },
  {
   "cell_type": "code",
   "execution_count": 3,
   "id": "e2f82385-ad77-41e4-b400-db81653c8a34",
   "metadata": {},
   "outputs": [],
   "source": [
    "def subregion_grib_files_to_numpy(grib_files, extent, row=30, col=26):\n",
    "    n_frames = len(grib_files)\n",
    "    hrrr_subregion_np = np.empty((n_frames, row, col))\n",
    "    hrrr_subregion_xarr = [None] * n_frames\n",
    "    for count, file in enumerate(grib_files):\n",
    "        # subregion the grib files\n",
    "        idx_file = wgrib2.create_inventory_file(file)    \n",
    "        subset_file = wgrib2.region(file, extent, name=\"la_region\")\n",
    "    \n",
    "        # print progress\n",
    "        if ((count + 1) % 10 == 0 or count + 1 == len(grib_files)):\n",
    "            print(f\"{count+1}/{len(grib_files)} files converted.\")\n",
    "    \n",
    "        # store as xarray and numpy\n",
    "        hrrr_xarr = xr.open_dataset(subset_file, engine=\"cfgrib\", decode_timedelta=False)\n",
    "        hrrr_subregion_xarr[count] = hrrr_xarr\n",
    "        hrrr_subregion_np[count] = np.flip(hrrr_xarr.mdens.to_numpy(), axis=0)\n",
    "        \n",
    "    return hrrr_subregion_np"
   ]
  },
  {
   "cell_type": "markdown",
   "id": "9bd62a83-4532-4940-bc96-59efdd532768",
   "metadata": {},
   "source": [
    "### `sliding_window_of(frames, sample_size, rows, cols, channels)`\n",
    "- Arguments:\n",
    "    - `frames`: a numpy array of frames\n",
    "    - `sample_size`: the desired size of a sample\n",
    "    - `rows`, `cols`: the row and column dimensions of the frame\n",
    "    - `channels`: the number of channels in the sample\n",
    "- Creates a sliding window of samples. e.g:\n",
    "    - 5 frame sample = sample 1: 0-4 frames, sample 2: 1-5 frames, ..., sample n: \\[n-1, n-1+4\\] frames.\n",
    "- Returns a numpy array containing the samples "
   ]
  },
  {
   "cell_type": "code",
   "execution_count": 4,
   "id": "046c40c6-9f9e-4ebc-bdd5-fc8dbe603a00",
   "metadata": {},
   "outputs": [],
   "source": [
    "def sliding_window_of(frames, sample_size, rows, cols, channels):\n",
    "    n_samples = len(frames) - sample_size\n",
    "    samples = np.empty((n_samples, sample_size, rows, cols, channels))\n",
    "    for i in range(n_samples):\n",
    "        samples[i] = np.array([frames[j] for j in range(i, i + sample_size)])\n",
    "        \n",
    "    return samples"
   ]
  },
  {
   "cell_type": "markdown",
   "id": "45898b63-73d7-4fb2-b0dc-9dc8409a57b6",
   "metadata": {},
   "source": [
    "### `np_to_final_input(hrrr_subregion_np)`\n",
    "- Arguments:\n",
    "    - `hrrr_subregion_np`: a numpy array that contains the hrrr data that has been subject to a subregion.\n",
    "- Interpolates\n",
    "- Creates a channel axis\n",
    "- Creates samples from frames\n",
    "- Returns the final input for the convlstm"
   ]
  },
  {
   "cell_type": "code",
   "execution_count": 5,
   "id": "5b60fb85-9bdc-43aa-951e-952dcdd12f44",
   "metadata": {},
   "outputs": [],
   "source": [
    "def np_to_final_input(hrrr_subregion_np):\n",
    "    rows, cols, channels = 40, 40, 1\n",
    "    n_frames = len(hrrr_subregion_np)\n",
    "    frames = np.empty(shape=(n_frames, rows, cols, channels))\n",
    "    \n",
    "    for i, frame in enumerate(hrrr_subregion_np):\n",
    "        new_frame = cv2.resize(frame, (rows, cols))\n",
    "        new_frame = np.reshape(new_frame, (rows, cols, channels))\n",
    "        frames[i] = new_frame\n",
    "\n",
    "    complete_dataset = sliding_window_of(frames, 5, rows, cols, channels)\n",
    "    \n",
    "    return complete_dataset"
   ]
  },
  {
   "cell_type": "markdown",
   "id": "305bda88-ffdf-4476-91f8-764809f94363",
   "metadata": {},
   "source": [
    "## AirNow"
   ]
  },
  {
   "cell_type": "markdown",
   "id": "3c63dbb4-6fc2-4500-aed3-1f6114ef2dba",
   "metadata": {},
   "source": [
    "### `get_airnow_data()`\n",
    "- Arguments:\n",
    "    - bounding box\n",
    "- Gets AirNow data\n",
    "- Downloads 7 days of data (1-10 to 1-17), 24 hours (00 to 23) -> 168 hours.\n",
    "- Returns a list of 168 dataframes of station data."
   ]
  },
  {
   "cell_type": "code",
   "execution_count": 6,
   "id": "01d43d52-7b17-4148-8d55-30ac582afa37",
   "metadata": {},
   "outputs": [],
   "source": [
    "def get_airnow_data(lon_bottom, lat_bottom, lon_top, lat_top):\n",
    "    # get airnow data from the EPA\n",
    "    if os.path.exists('data/airnow.json'):\n",
    "        print(\"data/airnow.json already exists; skipping request...\")\n",
    "    else:\n",
    "        date_start = '2025-01-10T00'\n",
    "        date_end = '2025-01-16T23'\n",
    "        bbox = f'{lon_bottom},{lat_bottom},{lon_top},{lat_top}'\n",
    "        airnow_api_key = print(\"YOU NEED TO ADD YOUR API KEY!\")\n",
    "        URL = \"https://www.airnowapi.org/aq/data\"\n",
    "        \n",
    "        # location given here\n",
    "        \n",
    "        # defining a params dict for the parameters to be sent to the API\n",
    "        PARAMS = {\n",
    "            'startDate':date_start,\n",
    "            'endDate':date_end,\n",
    "            'parameters':'PM25',\n",
    "            'BBOX':bbox,\n",
    "            'dataType':'B',\n",
    "            'format':'application/json',\n",
    "            'verbose':'0',\n",
    "            'monitorType':'2',\n",
    "            'includerawconcentrations':'1',\n",
    "            'API_KEY':airnow_api_key\n",
    "        }\n",
    "        \n",
    "        # sending get request and saving the response as response object\n",
    "        response = requests.get(url = URL, params = PARAMS)\n",
    "    \n",
    "        # extracting data in json format\n",
    "        airnow_data = response.json()\n",
    "        with open('data/airnow.json', 'w') as file:\n",
    "            json.dump(airnow_data, file)\n",
    "            print(\"JSON data saved to data/airnow.json\")\n",
    "        \n",
    "    # open json file and convert to dataframe\n",
    "    with open('data/airnow.json', 'r') as file:\n",
    "        airnow_data = json.load(file)\n",
    "    airnow_df = pd.json_normalize(airnow_data)\n",
    "\n",
    "    # group station data by time\n",
    "    list_df = [group for name, group in airnow_df.groupby('UTC')]\n",
    "    \n",
    "    return list_df"
   ]
  },
  {
   "cell_type": "markdown",
   "id": "9599c640-de43-4016-885a-6a41ef9a6d92",
   "metadata": {},
   "source": [
    "### `preprocess_ground_sites(df, dim, latMax, latMin, lonMax, lonMin)`\n",
    "- Arguments:\n",
    "    - `df`: dataframe containing the station data\n",
    "    - `dim`: the desired dimensions of the grid\n",
    "    - bounding box data\n",
    "- Converts the station data into a grid format with the desired dimensions\n",
    "- Returns the preprocessed frame"
   ]
  },
  {
   "cell_type": "code",
   "execution_count": 7,
   "id": "77d7a8c9-5c56-4d24-a035-82ddc76caf09",
   "metadata": {},
   "outputs": [],
   "source": [
    "def preprocess_ground_sites(df, dim, latMax, latMin, lonMax, lonMin):\n",
    "    latDist, lonDist = abs(latMax - latMin), abs(lonMax - lonMin)\n",
    "    unInter = np.zeros((dim,dim))\n",
    "    dfArr = np.array(df[['Latitude','Longitude','Value']])\n",
    "    for i in range(dfArr.shape[0]):\n",
    "        # Calculate x\n",
    "        x = int(((latMax - dfArr[i,0]) / latDist) * dim)\n",
    "        if x >= dim:\n",
    "            x = dim - 1\n",
    "        if x <= 0:\n",
    "            x = 0\n",
    "        # Calculate y\n",
    "        y = dim - int(((lonMax + abs(dfArr[i,1])) / lonDist) * dim)\n",
    "        if y >= dim:\n",
    "            y = dim - 1\n",
    "        if y <= 0:\n",
    "            y = 0\n",
    "        if dfArr[i,2] < 0:\n",
    "            unInter[x,y] = 0\n",
    "        else:\n",
    "            unInter[x,y] = dfArr[i,2]\n",
    "    return unInter"
   ]
  },
  {
   "cell_type": "markdown",
   "id": "a350fbd0-f82c-41ca-ba28-f14e3e583b4c",
   "metadata": {},
   "source": [
    "### `interpolated_frame(f, dim)`\n",
    "- Arguments:\n",
    "    - `f`: the frame to be interpolated\n",
    "    - `dim`: the desired dimensions of the frame\n",
    "- Returns the given frame, interpolated with IDW"
   ]
  },
  {
   "cell_type": "code",
   "execution_count": 8,
   "id": "f0fb9f18-cbac-48cd-866a-5a4e736adfab",
   "metadata": {},
   "outputs": [],
   "source": [
    "def interpolate_frame(f, dim):\n",
    "    i = 0\n",
    "    interpolated = []\n",
    "    count = 0\n",
    "    idx = 0\n",
    "    x_list = []\n",
    "    y_list = []\n",
    "    values = []\n",
    "    for x in range(f.shape[0]):\n",
    "        for y in range(f.shape[1]):\n",
    "            if f[x,y] != 0:\n",
    "                x_list.append(x)\n",
    "                y_list.append(y)\n",
    "                values.append(f[x,y])\n",
    "    coords = list(zip(x_list,y_list))\n",
    "    try:\n",
    "        interp = NearestNDInterpolator(coords, values)\n",
    "        X = np.arange(0,dim)\n",
    "        Y = np.arange(0,dim)\n",
    "        X, Y = np.meshgrid(X, Y)\n",
    "        Z = interp(X, Y)\n",
    "    except ValueError:\n",
    "        Z = np.zeros((dim,dim))\n",
    "    interpolated = Z\n",
    "    count += 1\n",
    "    i += 1\n",
    "    interpolated = np.array(interpolated)\n",
    "    return interpolated"
   ]
  },
  {
   "cell_type": "markdown",
   "id": "ab6d792d-1b9d-4ba5-829e-a5b970fc98db",
   "metadata": {},
   "source": [
    "## ETC"
   ]
  },
  {
   "cell_type": "markdown",
   "id": "32ea35af-2ef6-4900-8dd3-afdc5624918c",
   "metadata": {},
   "source": [
    "### `std_scale(data)`\n",
    "- Arguments:\n",
    "    - `data`, which is a numpy array of data\n",
    "- Performs standard scaling"
   ]
  },
  {
   "cell_type": "code",
   "execution_count": 9,
   "id": "c98019d3-3d53-4226-8862-cf63ff5623ff",
   "metadata": {},
   "outputs": [],
   "source": [
    "# we scale each sample relative to other samples\n",
    "def std_scale(data):\n",
    "    mean = np.mean(data)\n",
    "    stddev = np.std(data)\n",
    "    return (data - mean) / stddev"
   ]
  },
  {
   "cell_type": "markdown",
   "id": "43dfe2b7-adb0-41dc-a47e-baadfcdb455f",
   "metadata": {},
   "source": [
    "# HRRR preprocessing"
   ]
  },
  {
   "cell_type": "code",
   "execution_count": 10,
   "id": "fd82a2c6-086c-4b63-892b-2dd695988569",
   "metadata": {
    "scrolled": true
   },
   "outputs": [
    {
     "name": "stdout",
     "output_type": "stream",
     "text": [
      "✅ Found ┊ model=hrrr ┊ \u001b[3mproduct=sfc\u001b[0m ┊ \u001b[38;2;41;130;13m2025-Jan-10 00:00 UTC\u001b[92m F00\u001b[0m ┊ \u001b[38;2;255;153;0m\u001b[3mGRIB2 @ aws\u001b[0m ┊ \u001b[38;2;255;153;0m\u001b[3mIDX @ aws\u001b[0m\n",
      "✅ Found ┊ model=hrrr ┊ \u001b[3mproduct=sfc\u001b[0m ┊ \u001b[38;2;41;130;13m2025-Jan-10 01:00 UTC\u001b[92m F00\u001b[0m ┊ \u001b[38;2;255;153;0m\u001b[3mGRIB2 @ aws\u001b[0m ┊ \u001b[38;2;255;153;0m\u001b[3mIDX @ aws\u001b[0m\n",
      "✅ Found ┊ model=hrrr ┊ \u001b[3mproduct=sfc\u001b[0m ┊ \u001b[38;2;41;130;13m2025-Jan-10 02:00 UTC\u001b[92m F00\u001b[0m ┊ \u001b[38;2;255;153;0m\u001b[3mGRIB2 @ aws\u001b[0m ┊ \u001b[38;2;255;153;0m\u001b[3mIDX @ aws\u001b[0m\n",
      "✅ Found ┊ model=hrrr ┊ \u001b[3mproduct=sfc\u001b[0m ┊ \u001b[38;2;41;130;13m2025-Jan-10 03:00 UTC\u001b[92m F00\u001b[0m ┊ \u001b[38;2;255;153;0m\u001b[3mGRIB2 @ aws\u001b[0m ┊ \u001b[38;2;255;153;0m\u001b[3mIDX @ aws\u001b[0m\n",
      "✅ Found ┊ model=hrrr ┊ \u001b[3mproduct=sfc\u001b[0m ┊ \u001b[38;2;41;130;13m2025-Jan-10 04:00 UTC\u001b[92m F00\u001b[0m ┊ \u001b[38;2;255;153;0m\u001b[3mGRIB2 @ aws\u001b[0m ┊ \u001b[38;2;255;153;0m\u001b[3mIDX @ aws\u001b[0m\n",
      "✅ Found ┊ model=hrrr ┊ \u001b[3mproduct=sfc\u001b[0m ┊ \u001b[38;2;41;130;13m2025-Jan-10 05:00 UTC\u001b[92m F00\u001b[0m ┊ \u001b[38;2;255;153;0m\u001b[3mGRIB2 @ aws\u001b[0m ┊ \u001b[38;2;255;153;0m\u001b[3mIDX @ aws\u001b[0m\n",
      "✅ Found ┊ model=hrrr ┊ \u001b[3mproduct=sfc\u001b[0m ┊ \u001b[38;2;41;130;13m2025-Jan-10 06:00 UTC\u001b[92m F00\u001b[0m ┊ \u001b[38;2;255;153;0m\u001b[3mGRIB2 @ aws\u001b[0m ┊ \u001b[38;2;255;153;0m\u001b[3mIDX @ aws\u001b[0m\n",
      "✅ Found ┊ model=hrrr ┊ \u001b[3mproduct=sfc\u001b[0m ┊ \u001b[38;2;41;130;13m2025-Jan-10 07:00 UTC\u001b[92m F00\u001b[0m ┊ \u001b[38;2;255;153;0m\u001b[3mGRIB2 @ aws\u001b[0m ┊ \u001b[38;2;255;153;0m\u001b[3mIDX @ aws\u001b[0m\n",
      "✅ Found ┊ model=hrrr ┊ \u001b[3mproduct=sfc\u001b[0m ┊ \u001b[38;2;41;130;13m2025-Jan-10 08:00 UTC\u001b[92m F00\u001b[0m ┊ \u001b[38;2;255;153;0m\u001b[3mGRIB2 @ aws\u001b[0m ┊ \u001b[38;2;255;153;0m\u001b[3mIDX @ aws\u001b[0m\n",
      "✅ Found ┊ model=hrrr ┊ \u001b[3mproduct=sfc\u001b[0m ┊ \u001b[38;2;41;130;13m2025-Jan-10 09:00 UTC\u001b[92m F00\u001b[0m ┊ \u001b[38;2;255;153;0m\u001b[3mGRIB2 @ aws\u001b[0m ┊ \u001b[38;2;255;153;0m\u001b[3mIDX @ aws\u001b[0m\n",
      "✅ Found ┊ model=hrrr ┊ \u001b[3mproduct=sfc\u001b[0m ┊ \u001b[38;2;41;130;13m2025-Jan-10 10:00 UTC\u001b[92m F00\u001b[0m ┊ \u001b[38;2;255;153;0m\u001b[3mGRIB2 @ aws\u001b[0m ┊ \u001b[38;2;255;153;0m\u001b[3mIDX @ aws\u001b[0m\n",
      "✅ Found ┊ model=hrrr ┊ \u001b[3mproduct=sfc\u001b[0m ┊ \u001b[38;2;41;130;13m2025-Jan-10 11:00 UTC\u001b[92m F00\u001b[0m ┊ \u001b[38;2;255;153;0m\u001b[3mGRIB2 @ aws\u001b[0m ┊ \u001b[38;2;255;153;0m\u001b[3mIDX @ aws\u001b[0m\n",
      "✅ Found ┊ model=hrrr ┊ \u001b[3mproduct=sfc\u001b[0m ┊ \u001b[38;2;41;130;13m2025-Jan-10 12:00 UTC\u001b[92m F00\u001b[0m ┊ \u001b[38;2;255;153;0m\u001b[3mGRIB2 @ aws\u001b[0m ┊ \u001b[38;2;255;153;0m\u001b[3mIDX @ aws\u001b[0m\n",
      "✅ Found ┊ model=hrrr ┊ \u001b[3mproduct=sfc\u001b[0m ┊ \u001b[38;2;41;130;13m2025-Jan-10 13:00 UTC\u001b[92m F00\u001b[0m ┊ \u001b[38;2;255;153;0m\u001b[3mGRIB2 @ aws\u001b[0m ┊ \u001b[38;2;255;153;0m\u001b[3mIDX @ aws\u001b[0m\n",
      "✅ Found ┊ model=hrrr ┊ \u001b[3mproduct=sfc\u001b[0m ┊ \u001b[38;2;41;130;13m2025-Jan-10 14:00 UTC\u001b[92m F00\u001b[0m ┊ \u001b[38;2;255;153;0m\u001b[3mGRIB2 @ aws\u001b[0m ┊ \u001b[38;2;255;153;0m\u001b[3mIDX @ aws\u001b[0m\n",
      "✅ Found ┊ model=hrrr ┊ \u001b[3mproduct=sfc\u001b[0m ┊ \u001b[38;2;41;130;13m2025-Jan-10 15:00 UTC\u001b[92m F00\u001b[0m ┊ \u001b[38;2;255;153;0m\u001b[3mGRIB2 @ aws\u001b[0m ┊ \u001b[38;2;255;153;0m\u001b[3mIDX @ aws\u001b[0m\n",
      "✅ Found ┊ model=hrrr ┊ \u001b[3mproduct=sfc\u001b[0m ┊ \u001b[38;2;41;130;13m2025-Jan-10 16:00 UTC\u001b[92m F00\u001b[0m ┊ \u001b[38;2;255;153;0m\u001b[3mGRIB2 @ aws\u001b[0m ┊ \u001b[38;2;255;153;0m\u001b[3mIDX @ aws\u001b[0m\n",
      "✅ Found ┊ model=hrrr ┊ \u001b[3mproduct=sfc\u001b[0m ┊ \u001b[38;2;41;130;13m2025-Jan-10 17:00 UTC\u001b[92m F00\u001b[0m ┊ \u001b[38;2;255;153;0m\u001b[3mGRIB2 @ aws\u001b[0m ┊ \u001b[38;2;255;153;0m\u001b[3mIDX @ aws\u001b[0m\n",
      "✅ Found ┊ model=hrrr ┊ \u001b[3mproduct=sfc\u001b[0m ┊ \u001b[38;2;41;130;13m2025-Jan-10 18:00 UTC\u001b[92m F00\u001b[0m ┊ \u001b[38;2;255;153;0m\u001b[3mGRIB2 @ aws\u001b[0m ┊ \u001b[38;2;255;153;0m\u001b[3mIDX @ aws\u001b[0m\n",
      "✅ Found ┊ model=hrrr ┊ \u001b[3mproduct=sfc\u001b[0m ┊ \u001b[38;2;41;130;13m2025-Jan-10 19:00 UTC\u001b[92m F00\u001b[0m ┊ \u001b[38;2;255;153;0m\u001b[3mGRIB2 @ aws\u001b[0m ┊ \u001b[38;2;255;153;0m\u001b[3mIDX @ aws\u001b[0m\n",
      "✅ Found ┊ model=hrrr ┊ \u001b[3mproduct=sfc\u001b[0m ┊ \u001b[38;2;41;130;13m2025-Jan-10 20:00 UTC\u001b[92m F00\u001b[0m ┊ \u001b[38;2;255;153;0m\u001b[3mGRIB2 @ aws\u001b[0m ┊ \u001b[38;2;255;153;0m\u001b[3mIDX @ aws\u001b[0m\n",
      "✅ Found ┊ model=hrrr ┊ \u001b[3mproduct=sfc\u001b[0m ┊ \u001b[38;2;41;130;13m2025-Jan-10 21:00 UTC\u001b[92m F00\u001b[0m ┊ \u001b[38;2;255;153;0m\u001b[3mGRIB2 @ aws\u001b[0m ┊ \u001b[38;2;255;153;0m\u001b[3mIDX @ aws\u001b[0m\n",
      "✅ Found ┊ model=hrrr ┊ \u001b[3mproduct=sfc\u001b[0m ┊ \u001b[38;2;41;130;13m2025-Jan-10 22:00 UTC\u001b[92m F00\u001b[0m ┊ \u001b[38;2;255;153;0m\u001b[3mGRIB2 @ aws\u001b[0m ┊ \u001b[38;2;255;153;0m\u001b[3mIDX @ aws\u001b[0m\n",
      "✅ Found ┊ model=hrrr ┊ \u001b[3mproduct=sfc\u001b[0m ┊ \u001b[38;2;41;130;13m2025-Jan-10 23:00 UTC\u001b[92m F00\u001b[0m ┊ \u001b[38;2;255;153;0m\u001b[3mGRIB2 @ aws\u001b[0m ┊ \u001b[38;2;255;153;0m\u001b[3mIDX @ aws\u001b[0m\n",
      "✅ Found ┊ model=hrrr ┊ \u001b[3mproduct=sfc\u001b[0m ┊ \u001b[38;2;41;130;13m2025-Jan-11 00:00 UTC\u001b[92m F00\u001b[0m ┊ \u001b[38;2;255;153;0m\u001b[3mGRIB2 @ aws\u001b[0m ┊ \u001b[38;2;255;153;0m\u001b[3mIDX @ aws\u001b[0m\n",
      "✅ Found ┊ model=hrrr ┊ \u001b[3mproduct=sfc\u001b[0m ┊ \u001b[38;2;41;130;13m2025-Jan-11 01:00 UTC\u001b[92m F00\u001b[0m ┊ \u001b[38;2;255;153;0m\u001b[3mGRIB2 @ aws\u001b[0m ┊ \u001b[38;2;255;153;0m\u001b[3mIDX @ aws\u001b[0m\n",
      "✅ Found ┊ model=hrrr ┊ \u001b[3mproduct=sfc\u001b[0m ┊ \u001b[38;2;41;130;13m2025-Jan-11 02:00 UTC\u001b[92m F00\u001b[0m ┊ \u001b[38;2;255;153;0m\u001b[3mGRIB2 @ aws\u001b[0m ┊ \u001b[38;2;255;153;0m\u001b[3mIDX @ aws\u001b[0m\n",
      "✅ Found ┊ model=hrrr ┊ \u001b[3mproduct=sfc\u001b[0m ┊ \u001b[38;2;41;130;13m2025-Jan-11 03:00 UTC\u001b[92m F00\u001b[0m ┊ \u001b[38;2;255;153;0m\u001b[3mGRIB2 @ aws\u001b[0m ┊ \u001b[38;2;255;153;0m\u001b[3mIDX @ aws\u001b[0m\n",
      "✅ Found ┊ model=hrrr ┊ \u001b[3mproduct=sfc\u001b[0m ┊ \u001b[38;2;41;130;13m2025-Jan-11 04:00 UTC\u001b[92m F00\u001b[0m ┊ \u001b[38;2;255;153;0m\u001b[3mGRIB2 @ aws\u001b[0m ┊ \u001b[38;2;255;153;0m\u001b[3mIDX @ aws\u001b[0m\n",
      "✅ Found ┊ model=hrrr ┊ \u001b[3mproduct=sfc\u001b[0m ┊ \u001b[38;2;41;130;13m2025-Jan-11 05:00 UTC\u001b[92m F00\u001b[0m ┊ \u001b[38;2;255;153;0m\u001b[3mGRIB2 @ aws\u001b[0m ┊ \u001b[38;2;255;153;0m\u001b[3mIDX @ aws\u001b[0m\n",
      "✅ Found ┊ model=hrrr ┊ \u001b[3mproduct=sfc\u001b[0m ┊ \u001b[38;2;41;130;13m2025-Jan-11 06:00 UTC\u001b[92m F00\u001b[0m ┊ \u001b[38;2;255;153;0m\u001b[3mGRIB2 @ aws\u001b[0m ┊ \u001b[38;2;255;153;0m\u001b[3mIDX @ aws\u001b[0m\n",
      "✅ Found ┊ model=hrrr ┊ \u001b[3mproduct=sfc\u001b[0m ┊ \u001b[38;2;41;130;13m2025-Jan-11 07:00 UTC\u001b[92m F00\u001b[0m ┊ \u001b[38;2;255;153;0m\u001b[3mGRIB2 @ aws\u001b[0m ┊ \u001b[38;2;255;153;0m\u001b[3mIDX @ aws\u001b[0m\n",
      "✅ Found ┊ model=hrrr ┊ \u001b[3mproduct=sfc\u001b[0m ┊ \u001b[38;2;41;130;13m2025-Jan-11 08:00 UTC\u001b[92m F00\u001b[0m ┊ \u001b[38;2;255;153;0m\u001b[3mGRIB2 @ aws\u001b[0m ┊ \u001b[38;2;255;153;0m\u001b[3mIDX @ aws\u001b[0m\n",
      "✅ Found ┊ model=hrrr ┊ \u001b[3mproduct=sfc\u001b[0m ┊ \u001b[38;2;41;130;13m2025-Jan-11 09:00 UTC\u001b[92m F00\u001b[0m ┊ \u001b[38;2;255;153;0m\u001b[3mGRIB2 @ aws\u001b[0m ┊ \u001b[38;2;255;153;0m\u001b[3mIDX @ aws\u001b[0m\n",
      "✅ Found ┊ model=hrrr ┊ \u001b[3mproduct=sfc\u001b[0m ┊ \u001b[38;2;41;130;13m2025-Jan-11 10:00 UTC\u001b[92m F00\u001b[0m ┊ \u001b[38;2;255;153;0m\u001b[3mGRIB2 @ aws\u001b[0m ┊ \u001b[38;2;255;153;0m\u001b[3mIDX @ aws\u001b[0m\n",
      "✅ Found ┊ model=hrrr ┊ \u001b[3mproduct=sfc\u001b[0m ┊ \u001b[38;2;41;130;13m2025-Jan-11 11:00 UTC\u001b[92m F00\u001b[0m ┊ \u001b[38;2;255;153;0m\u001b[3mGRIB2 @ aws\u001b[0m ┊ \u001b[38;2;255;153;0m\u001b[3mIDX @ aws\u001b[0m\n",
      "✅ Found ┊ model=hrrr ┊ \u001b[3mproduct=sfc\u001b[0m ┊ \u001b[38;2;41;130;13m2025-Jan-11 12:00 UTC\u001b[92m F00\u001b[0m ┊ \u001b[38;2;255;153;0m\u001b[3mGRIB2 @ aws\u001b[0m ┊ \u001b[38;2;255;153;0m\u001b[3mIDX @ aws\u001b[0m\n",
      "✅ Found ┊ model=hrrr ┊ \u001b[3mproduct=sfc\u001b[0m ┊ \u001b[38;2;41;130;13m2025-Jan-11 13:00 UTC\u001b[92m F00\u001b[0m ┊ \u001b[38;2;255;153;0m\u001b[3mGRIB2 @ aws\u001b[0m ┊ \u001b[38;2;255;153;0m\u001b[3mIDX @ aws\u001b[0m\n",
      "✅ Found ┊ model=hrrr ┊ \u001b[3mproduct=sfc\u001b[0m ┊ \u001b[38;2;41;130;13m2025-Jan-11 14:00 UTC\u001b[92m F00\u001b[0m ┊ \u001b[38;2;255;153;0m\u001b[3mGRIB2 @ aws\u001b[0m ┊ \u001b[38;2;255;153;0m\u001b[3mIDX @ aws\u001b[0m\n",
      "✅ Found ┊ model=hrrr ┊ \u001b[3mproduct=sfc\u001b[0m ┊ \u001b[38;2;41;130;13m2025-Jan-11 15:00 UTC\u001b[92m F00\u001b[0m ┊ \u001b[38;2;255;153;0m\u001b[3mGRIB2 @ aws\u001b[0m ┊ \u001b[38;2;255;153;0m\u001b[3mIDX @ aws\u001b[0m\n",
      "✅ Found ┊ model=hrrr ┊ \u001b[3mproduct=sfc\u001b[0m ┊ \u001b[38;2;41;130;13m2025-Jan-11 16:00 UTC\u001b[92m F00\u001b[0m ┊ \u001b[38;2;255;153;0m\u001b[3mGRIB2 @ aws\u001b[0m ┊ \u001b[38;2;255;153;0m\u001b[3mIDX @ aws\u001b[0m\n",
      "✅ Found ┊ model=hrrr ┊ \u001b[3mproduct=sfc\u001b[0m ┊ \u001b[38;2;41;130;13m2025-Jan-11 17:00 UTC\u001b[92m F00\u001b[0m ┊ \u001b[38;2;255;153;0m\u001b[3mGRIB2 @ aws\u001b[0m ┊ \u001b[38;2;255;153;0m\u001b[3mIDX @ aws\u001b[0m\n",
      "✅ Found ┊ model=hrrr ┊ \u001b[3mproduct=sfc\u001b[0m ┊ \u001b[38;2;41;130;13m2025-Jan-11 18:00 UTC\u001b[92m F00\u001b[0m ┊ \u001b[38;2;255;153;0m\u001b[3mGRIB2 @ aws\u001b[0m ┊ \u001b[38;2;255;153;0m\u001b[3mIDX @ aws\u001b[0m\n",
      "✅ Found ┊ model=hrrr ┊ \u001b[3mproduct=sfc\u001b[0m ┊ \u001b[38;2;41;130;13m2025-Jan-11 19:00 UTC\u001b[92m F00\u001b[0m ┊ \u001b[38;2;255;153;0m\u001b[3mGRIB2 @ aws\u001b[0m ┊ \u001b[38;2;255;153;0m\u001b[3mIDX @ aws\u001b[0m\n",
      "✅ Found ┊ model=hrrr ┊ \u001b[3mproduct=sfc\u001b[0m ┊ \u001b[38;2;41;130;13m2025-Jan-11 20:00 UTC\u001b[92m F00\u001b[0m ┊ \u001b[38;2;255;153;0m\u001b[3mGRIB2 @ aws\u001b[0m ┊ \u001b[38;2;255;153;0m\u001b[3mIDX @ aws\u001b[0m\n",
      "✅ Found ┊ model=hrrr ┊ \u001b[3mproduct=sfc\u001b[0m ┊ \u001b[38;2;41;130;13m2025-Jan-11 21:00 UTC\u001b[92m F00\u001b[0m ┊ \u001b[38;2;255;153;0m\u001b[3mGRIB2 @ aws\u001b[0m ┊ \u001b[38;2;255;153;0m\u001b[3mIDX @ aws\u001b[0m\n",
      "✅ Found ┊ model=hrrr ┊ \u001b[3mproduct=sfc\u001b[0m ┊ \u001b[38;2;41;130;13m2025-Jan-11 22:00 UTC\u001b[92m F00\u001b[0m ┊ \u001b[38;2;255;153;0m\u001b[3mGRIB2 @ aws\u001b[0m ┊ \u001b[38;2;255;153;0m\u001b[3mIDX @ aws\u001b[0m\n",
      "✅ Found ┊ model=hrrr ┊ \u001b[3mproduct=sfc\u001b[0m ┊ \u001b[38;2;41;130;13m2025-Jan-11 23:00 UTC\u001b[92m F00\u001b[0m ┊ \u001b[38;2;255;153;0m\u001b[3mGRIB2 @ aws\u001b[0m ┊ \u001b[38;2;255;153;0m\u001b[3mIDX @ aws\u001b[0m\n",
      "✅ Found ┊ model=hrrr ┊ \u001b[3mproduct=sfc\u001b[0m ┊ \u001b[38;2;41;130;13m2025-Jan-12 00:00 UTC\u001b[92m F00\u001b[0m ┊ \u001b[38;2;255;153;0m\u001b[3mGRIB2 @ aws\u001b[0m ┊ \u001b[38;2;255;153;0m\u001b[3mIDX @ aws\u001b[0m\n",
      "✅ Found ┊ model=hrrr ┊ \u001b[3mproduct=sfc\u001b[0m ┊ \u001b[38;2;41;130;13m2025-Jan-12 01:00 UTC\u001b[92m F00\u001b[0m ┊ \u001b[38;2;255;153;0m\u001b[3mGRIB2 @ aws\u001b[0m ┊ \u001b[38;2;255;153;0m\u001b[3mIDX @ aws\u001b[0m\n",
      "✅ Found ┊ model=hrrr ┊ \u001b[3mproduct=sfc\u001b[0m ┊ \u001b[38;2;41;130;13m2025-Jan-12 02:00 UTC\u001b[92m F00\u001b[0m ┊ \u001b[38;2;255;153;0m\u001b[3mGRIB2 @ aws\u001b[0m ┊ \u001b[38;2;255;153;0m\u001b[3mIDX @ aws\u001b[0m\n",
      "✅ Found ┊ model=hrrr ┊ \u001b[3mproduct=sfc\u001b[0m ┊ \u001b[38;2;41;130;13m2025-Jan-12 03:00 UTC\u001b[92m F00\u001b[0m ┊ \u001b[38;2;255;153;0m\u001b[3mGRIB2 @ aws\u001b[0m ┊ \u001b[38;2;255;153;0m\u001b[3mIDX @ aws\u001b[0m\n",
      "✅ Found ┊ model=hrrr ┊ \u001b[3mproduct=sfc\u001b[0m ┊ \u001b[38;2;41;130;13m2025-Jan-12 04:00 UTC\u001b[92m F00\u001b[0m ┊ \u001b[38;2;255;153;0m\u001b[3mGRIB2 @ aws\u001b[0m ┊ \u001b[38;2;255;153;0m\u001b[3mIDX @ aws\u001b[0m\n",
      "✅ Found ┊ model=hrrr ┊ \u001b[3mproduct=sfc\u001b[0m ┊ \u001b[38;2;41;130;13m2025-Jan-12 05:00 UTC\u001b[92m F00\u001b[0m ┊ \u001b[38;2;255;153;0m\u001b[3mGRIB2 @ aws\u001b[0m ┊ \u001b[38;2;255;153;0m\u001b[3mIDX @ aws\u001b[0m\n",
      "✅ Found ┊ model=hrrr ┊ \u001b[3mproduct=sfc\u001b[0m ┊ \u001b[38;2;41;130;13m2025-Jan-12 06:00 UTC\u001b[92m F00\u001b[0m ┊ \u001b[38;2;255;153;0m\u001b[3mGRIB2 @ aws\u001b[0m ┊ \u001b[38;2;255;153;0m\u001b[3mIDX @ aws\u001b[0m\n",
      "✅ Found ┊ model=hrrr ┊ \u001b[3mproduct=sfc\u001b[0m ┊ \u001b[38;2;41;130;13m2025-Jan-12 07:00 UTC\u001b[92m F00\u001b[0m ┊ \u001b[38;2;255;153;0m\u001b[3mGRIB2 @ aws\u001b[0m ┊ \u001b[38;2;255;153;0m\u001b[3mIDX @ aws\u001b[0m\n",
      "✅ Found ┊ model=hrrr ┊ \u001b[3mproduct=sfc\u001b[0m ┊ \u001b[38;2;41;130;13m2025-Jan-12 08:00 UTC\u001b[92m F00\u001b[0m ┊ \u001b[38;2;255;153;0m\u001b[3mGRIB2 @ aws\u001b[0m ┊ \u001b[38;2;255;153;0m\u001b[3mIDX @ aws\u001b[0m\n",
      "✅ Found ┊ model=hrrr ┊ \u001b[3mproduct=sfc\u001b[0m ┊ \u001b[38;2;41;130;13m2025-Jan-12 09:00 UTC\u001b[92m F00\u001b[0m ┊ \u001b[38;2;255;153;0m\u001b[3mGRIB2 @ aws\u001b[0m ┊ \u001b[38;2;255;153;0m\u001b[3mIDX @ aws\u001b[0m\n",
      "✅ Found ┊ model=hrrr ┊ \u001b[3mproduct=sfc\u001b[0m ┊ \u001b[38;2;41;130;13m2025-Jan-12 10:00 UTC\u001b[92m F00\u001b[0m ┊ \u001b[38;2;255;153;0m\u001b[3mGRIB2 @ aws\u001b[0m ┊ \u001b[38;2;255;153;0m\u001b[3mIDX @ aws\u001b[0m\n",
      "✅ Found ┊ model=hrrr ┊ \u001b[3mproduct=sfc\u001b[0m ┊ \u001b[38;2;41;130;13m2025-Jan-12 11:00 UTC\u001b[92m F00\u001b[0m ┊ \u001b[38;2;255;153;0m\u001b[3mGRIB2 @ aws\u001b[0m ┊ \u001b[38;2;255;153;0m\u001b[3mIDX @ aws\u001b[0m\n",
      "✅ Found ┊ model=hrrr ┊ \u001b[3mproduct=sfc\u001b[0m ┊ \u001b[38;2;41;130;13m2025-Jan-12 12:00 UTC\u001b[92m F00\u001b[0m ┊ \u001b[38;2;255;153;0m\u001b[3mGRIB2 @ aws\u001b[0m ┊ \u001b[38;2;255;153;0m\u001b[3mIDX @ aws\u001b[0m\n",
      "✅ Found ┊ model=hrrr ┊ \u001b[3mproduct=sfc\u001b[0m ┊ \u001b[38;2;41;130;13m2025-Jan-12 13:00 UTC\u001b[92m F00\u001b[0m ┊ \u001b[38;2;255;153;0m\u001b[3mGRIB2 @ aws\u001b[0m ┊ \u001b[38;2;255;153;0m\u001b[3mIDX @ aws\u001b[0m\n",
      "✅ Found ┊ model=hrrr ┊ \u001b[3mproduct=sfc\u001b[0m ┊ \u001b[38;2;41;130;13m2025-Jan-12 14:00 UTC\u001b[92m F00\u001b[0m ┊ \u001b[38;2;255;153;0m\u001b[3mGRIB2 @ aws\u001b[0m ┊ \u001b[38;2;255;153;0m\u001b[3mIDX @ aws\u001b[0m\n",
      "✅ Found ┊ model=hrrr ┊ \u001b[3mproduct=sfc\u001b[0m ┊ \u001b[38;2;41;130;13m2025-Jan-12 15:00 UTC\u001b[92m F00\u001b[0m ┊ \u001b[38;2;255;153;0m\u001b[3mGRIB2 @ aws\u001b[0m ┊ \u001b[38;2;255;153;0m\u001b[3mIDX @ aws\u001b[0m\n",
      "✅ Found ┊ model=hrrr ┊ \u001b[3mproduct=sfc\u001b[0m ┊ \u001b[38;2;41;130;13m2025-Jan-12 16:00 UTC\u001b[92m F00\u001b[0m ┊ \u001b[38;2;255;153;0m\u001b[3mGRIB2 @ aws\u001b[0m ┊ \u001b[38;2;255;153;0m\u001b[3mIDX @ aws\u001b[0m\n",
      "✅ Found ┊ model=hrrr ┊ \u001b[3mproduct=sfc\u001b[0m ┊ \u001b[38;2;41;130;13m2025-Jan-12 17:00 UTC\u001b[92m F00\u001b[0m ┊ \u001b[38;2;255;153;0m\u001b[3mGRIB2 @ aws\u001b[0m ┊ \u001b[38;2;255;153;0m\u001b[3mIDX @ aws\u001b[0m\n",
      "✅ Found ┊ model=hrrr ┊ \u001b[3mproduct=sfc\u001b[0m ┊ \u001b[38;2;41;130;13m2025-Jan-12 18:00 UTC\u001b[92m F00\u001b[0m ┊ \u001b[38;2;255;153;0m\u001b[3mGRIB2 @ aws\u001b[0m ┊ \u001b[38;2;255;153;0m\u001b[3mIDX @ aws\u001b[0m\n",
      "✅ Found ┊ model=hrrr ┊ \u001b[3mproduct=sfc\u001b[0m ┊ \u001b[38;2;41;130;13m2025-Jan-12 19:00 UTC\u001b[92m F00\u001b[0m ┊ \u001b[38;2;255;153;0m\u001b[3mGRIB2 @ aws\u001b[0m ┊ \u001b[38;2;255;153;0m\u001b[3mIDX @ aws\u001b[0m\n",
      "✅ Found ┊ model=hrrr ┊ \u001b[3mproduct=sfc\u001b[0m ┊ \u001b[38;2;41;130;13m2025-Jan-12 20:00 UTC\u001b[92m F00\u001b[0m ┊ \u001b[38;2;255;153;0m\u001b[3mGRIB2 @ aws\u001b[0m ┊ \u001b[38;2;255;153;0m\u001b[3mIDX @ aws\u001b[0m\n",
      "✅ Found ┊ model=hrrr ┊ \u001b[3mproduct=sfc\u001b[0m ┊ \u001b[38;2;41;130;13m2025-Jan-12 21:00 UTC\u001b[92m F00\u001b[0m ┊ \u001b[38;2;255;153;0m\u001b[3mGRIB2 @ aws\u001b[0m ┊ \u001b[38;2;255;153;0m\u001b[3mIDX @ aws\u001b[0m\n",
      "✅ Found ┊ model=hrrr ┊ \u001b[3mproduct=sfc\u001b[0m ┊ \u001b[38;2;41;130;13m2025-Jan-12 22:00 UTC\u001b[92m F00\u001b[0m ┊ \u001b[38;2;255;153;0m\u001b[3mGRIB2 @ aws\u001b[0m ┊ \u001b[38;2;255;153;0m\u001b[3mIDX @ aws\u001b[0m\n",
      "✅ Found ┊ model=hrrr ┊ \u001b[3mproduct=sfc\u001b[0m ┊ \u001b[38;2;41;130;13m2025-Jan-12 23:00 UTC\u001b[92m F00\u001b[0m ┊ \u001b[38;2;255;153;0m\u001b[3mGRIB2 @ aws\u001b[0m ┊ \u001b[38;2;255;153;0m\u001b[3mIDX @ aws\u001b[0m\n",
      "✅ Found ┊ model=hrrr ┊ \u001b[3mproduct=sfc\u001b[0m ┊ \u001b[38;2;41;130;13m2025-Jan-13 00:00 UTC\u001b[92m F00\u001b[0m ┊ \u001b[38;2;255;153;0m\u001b[3mGRIB2 @ aws\u001b[0m ┊ \u001b[38;2;255;153;0m\u001b[3mIDX @ aws\u001b[0m\n",
      "✅ Found ┊ model=hrrr ┊ \u001b[3mproduct=sfc\u001b[0m ┊ \u001b[38;2;41;130;13m2025-Jan-13 01:00 UTC\u001b[92m F00\u001b[0m ┊ \u001b[38;2;255;153;0m\u001b[3mGRIB2 @ aws\u001b[0m ┊ \u001b[38;2;255;153;0m\u001b[3mIDX @ aws\u001b[0m\n",
      "✅ Found ┊ model=hrrr ┊ \u001b[3mproduct=sfc\u001b[0m ┊ \u001b[38;2;41;130;13m2025-Jan-13 02:00 UTC\u001b[92m F00\u001b[0m ┊ \u001b[38;2;255;153;0m\u001b[3mGRIB2 @ aws\u001b[0m ┊ \u001b[38;2;255;153;0m\u001b[3mIDX @ aws\u001b[0m\n",
      "✅ Found ┊ model=hrrr ┊ \u001b[3mproduct=sfc\u001b[0m ┊ \u001b[38;2;41;130;13m2025-Jan-13 03:00 UTC\u001b[92m F00\u001b[0m ┊ \u001b[38;2;255;153;0m\u001b[3mGRIB2 @ aws\u001b[0m ┊ \u001b[38;2;255;153;0m\u001b[3mIDX @ aws\u001b[0m\n",
      "✅ Found ┊ model=hrrr ┊ \u001b[3mproduct=sfc\u001b[0m ┊ \u001b[38;2;41;130;13m2025-Jan-13 04:00 UTC\u001b[92m F00\u001b[0m ┊ \u001b[38;2;255;153;0m\u001b[3mGRIB2 @ aws\u001b[0m ┊ \u001b[38;2;255;153;0m\u001b[3mIDX @ aws\u001b[0m\n",
      "✅ Found ┊ model=hrrr ┊ \u001b[3mproduct=sfc\u001b[0m ┊ \u001b[38;2;41;130;13m2025-Jan-13 05:00 UTC\u001b[92m F00\u001b[0m ┊ \u001b[38;2;255;153;0m\u001b[3mGRIB2 @ aws\u001b[0m ┊ \u001b[38;2;255;153;0m\u001b[3mIDX @ aws\u001b[0m\n",
      "✅ Found ┊ model=hrrr ┊ \u001b[3mproduct=sfc\u001b[0m ┊ \u001b[38;2;41;130;13m2025-Jan-13 06:00 UTC\u001b[92m F00\u001b[0m ┊ \u001b[38;2;255;153;0m\u001b[3mGRIB2 @ aws\u001b[0m ┊ \u001b[38;2;255;153;0m\u001b[3mIDX @ aws\u001b[0m\n",
      "✅ Found ┊ model=hrrr ┊ \u001b[3mproduct=sfc\u001b[0m ┊ \u001b[38;2;41;130;13m2025-Jan-13 07:00 UTC\u001b[92m F00\u001b[0m ┊ \u001b[38;2;255;153;0m\u001b[3mGRIB2 @ aws\u001b[0m ┊ \u001b[38;2;255;153;0m\u001b[3mIDX @ aws\u001b[0m\n",
      "✅ Found ┊ model=hrrr ┊ \u001b[3mproduct=sfc\u001b[0m ┊ \u001b[38;2;41;130;13m2025-Jan-13 08:00 UTC\u001b[92m F00\u001b[0m ┊ \u001b[38;2;255;153;0m\u001b[3mGRIB2 @ aws\u001b[0m ┊ \u001b[38;2;255;153;0m\u001b[3mIDX @ aws\u001b[0m\n",
      "✅ Found ┊ model=hrrr ┊ \u001b[3mproduct=sfc\u001b[0m ┊ \u001b[38;2;41;130;13m2025-Jan-13 09:00 UTC\u001b[92m F00\u001b[0m ┊ \u001b[38;2;255;153;0m\u001b[3mGRIB2 @ aws\u001b[0m ┊ \u001b[38;2;255;153;0m\u001b[3mIDX @ aws\u001b[0m\n",
      "✅ Found ┊ model=hrrr ┊ \u001b[3mproduct=sfc\u001b[0m ┊ \u001b[38;2;41;130;13m2025-Jan-13 10:00 UTC\u001b[92m F00\u001b[0m ┊ \u001b[38;2;255;153;0m\u001b[3mGRIB2 @ aws\u001b[0m ┊ \u001b[38;2;255;153;0m\u001b[3mIDX @ aws\u001b[0m\n",
      "✅ Found ┊ model=hrrr ┊ \u001b[3mproduct=sfc\u001b[0m ┊ \u001b[38;2;41;130;13m2025-Jan-13 11:00 UTC\u001b[92m F00\u001b[0m ┊ \u001b[38;2;255;153;0m\u001b[3mGRIB2 @ aws\u001b[0m ┊ \u001b[38;2;255;153;0m\u001b[3mIDX @ aws\u001b[0m\n",
      "✅ Found ┊ model=hrrr ┊ \u001b[3mproduct=sfc\u001b[0m ┊ \u001b[38;2;41;130;13m2025-Jan-13 12:00 UTC\u001b[92m F00\u001b[0m ┊ \u001b[38;2;255;153;0m\u001b[3mGRIB2 @ aws\u001b[0m ┊ \u001b[38;2;255;153;0m\u001b[3mIDX @ aws\u001b[0m\n",
      "✅ Found ┊ model=hrrr ┊ \u001b[3mproduct=sfc\u001b[0m ┊ \u001b[38;2;41;130;13m2025-Jan-13 13:00 UTC\u001b[92m F00\u001b[0m ┊ \u001b[38;2;255;153;0m\u001b[3mGRIB2 @ aws\u001b[0m ┊ \u001b[38;2;255;153;0m\u001b[3mIDX @ aws\u001b[0m\n",
      "✅ Found ┊ model=hrrr ┊ \u001b[3mproduct=sfc\u001b[0m ┊ \u001b[38;2;41;130;13m2025-Jan-13 14:00 UTC\u001b[92m F00\u001b[0m ┊ \u001b[38;2;255;153;0m\u001b[3mGRIB2 @ aws\u001b[0m ┊ \u001b[38;2;255;153;0m\u001b[3mIDX @ aws\u001b[0m\n",
      "✅ Found ┊ model=hrrr ┊ \u001b[3mproduct=sfc\u001b[0m ┊ \u001b[38;2;41;130;13m2025-Jan-13 15:00 UTC\u001b[92m F00\u001b[0m ┊ \u001b[38;2;255;153;0m\u001b[3mGRIB2 @ aws\u001b[0m ┊ \u001b[38;2;255;153;0m\u001b[3mIDX @ aws\u001b[0m\n",
      "✅ Found ┊ model=hrrr ┊ \u001b[3mproduct=sfc\u001b[0m ┊ \u001b[38;2;41;130;13m2025-Jan-13 16:00 UTC\u001b[92m F00\u001b[0m ┊ \u001b[38;2;255;153;0m\u001b[3mGRIB2 @ aws\u001b[0m ┊ \u001b[38;2;255;153;0m\u001b[3mIDX @ aws\u001b[0m\n",
      "✅ Found ┊ model=hrrr ┊ \u001b[3mproduct=sfc\u001b[0m ┊ \u001b[38;2;41;130;13m2025-Jan-13 17:00 UTC\u001b[92m F00\u001b[0m ┊ \u001b[38;2;255;153;0m\u001b[3mGRIB2 @ aws\u001b[0m ┊ \u001b[38;2;255;153;0m\u001b[3mIDX @ aws\u001b[0m\n",
      "✅ Found ┊ model=hrrr ┊ \u001b[3mproduct=sfc\u001b[0m ┊ \u001b[38;2;41;130;13m2025-Jan-13 18:00 UTC\u001b[92m F00\u001b[0m ┊ \u001b[38;2;255;153;0m\u001b[3mGRIB2 @ aws\u001b[0m ┊ \u001b[38;2;255;153;0m\u001b[3mIDX @ aws\u001b[0m\n",
      "✅ Found ┊ model=hrrr ┊ \u001b[3mproduct=sfc\u001b[0m ┊ \u001b[38;2;41;130;13m2025-Jan-13 19:00 UTC\u001b[92m F00\u001b[0m ┊ \u001b[38;2;255;153;0m\u001b[3mGRIB2 @ aws\u001b[0m ┊ \u001b[38;2;255;153;0m\u001b[3mIDX @ aws\u001b[0m\n",
      "✅ Found ┊ model=hrrr ┊ \u001b[3mproduct=sfc\u001b[0m ┊ \u001b[38;2;41;130;13m2025-Jan-13 20:00 UTC\u001b[92m F00\u001b[0m ┊ \u001b[38;2;255;153;0m\u001b[3mGRIB2 @ aws\u001b[0m ┊ \u001b[38;2;255;153;0m\u001b[3mIDX @ aws\u001b[0m\n",
      "✅ Found ┊ model=hrrr ┊ \u001b[3mproduct=sfc\u001b[0m ┊ \u001b[38;2;41;130;13m2025-Jan-13 21:00 UTC\u001b[92m F00\u001b[0m ┊ \u001b[38;2;255;153;0m\u001b[3mGRIB2 @ aws\u001b[0m ┊ \u001b[38;2;255;153;0m\u001b[3mIDX @ aws\u001b[0m\n",
      "✅ Found ┊ model=hrrr ┊ \u001b[3mproduct=sfc\u001b[0m ┊ \u001b[38;2;41;130;13m2025-Jan-13 22:00 UTC\u001b[92m F00\u001b[0m ┊ \u001b[38;2;255;153;0m\u001b[3mGRIB2 @ aws\u001b[0m ┊ \u001b[38;2;255;153;0m\u001b[3mIDX @ aws\u001b[0m\n",
      "✅ Found ┊ model=hrrr ┊ \u001b[3mproduct=sfc\u001b[0m ┊ \u001b[38;2;41;130;13m2025-Jan-13 23:00 UTC\u001b[92m F00\u001b[0m ┊ \u001b[38;2;255;153;0m\u001b[3mGRIB2 @ aws\u001b[0m ┊ \u001b[38;2;255;153;0m\u001b[3mIDX @ aws\u001b[0m\n",
      "✅ Found ┊ model=hrrr ┊ \u001b[3mproduct=sfc\u001b[0m ┊ \u001b[38;2;41;130;13m2025-Jan-14 00:00 UTC\u001b[92m F00\u001b[0m ┊ \u001b[38;2;255;153;0m\u001b[3mGRIB2 @ aws\u001b[0m ┊ \u001b[38;2;255;153;0m\u001b[3mIDX @ aws\u001b[0m\n",
      "✅ Found ┊ model=hrrr ┊ \u001b[3mproduct=sfc\u001b[0m ┊ \u001b[38;2;41;130;13m2025-Jan-14 01:00 UTC\u001b[92m F00\u001b[0m ┊ \u001b[38;2;255;153;0m\u001b[3mGRIB2 @ aws\u001b[0m ┊ \u001b[38;2;255;153;0m\u001b[3mIDX @ aws\u001b[0m\n",
      "✅ Found ┊ model=hrrr ┊ \u001b[3mproduct=sfc\u001b[0m ┊ \u001b[38;2;41;130;13m2025-Jan-14 02:00 UTC\u001b[92m F00\u001b[0m ┊ \u001b[38;2;255;153;0m\u001b[3mGRIB2 @ aws\u001b[0m ┊ \u001b[38;2;255;153;0m\u001b[3mIDX @ aws\u001b[0m\n",
      "✅ Found ┊ model=hrrr ┊ \u001b[3mproduct=sfc\u001b[0m ┊ \u001b[38;2;41;130;13m2025-Jan-14 03:00 UTC\u001b[92m F00\u001b[0m ┊ \u001b[38;2;255;153;0m\u001b[3mGRIB2 @ aws\u001b[0m ┊ \u001b[38;2;255;153;0m\u001b[3mIDX @ aws\u001b[0m\n",
      "✅ Found ┊ model=hrrr ┊ \u001b[3mproduct=sfc\u001b[0m ┊ \u001b[38;2;41;130;13m2025-Jan-14 04:00 UTC\u001b[92m F00\u001b[0m ┊ \u001b[38;2;255;153;0m\u001b[3mGRIB2 @ aws\u001b[0m ┊ \u001b[38;2;255;153;0m\u001b[3mIDX @ aws\u001b[0m\n",
      "✅ Found ┊ model=hrrr ┊ \u001b[3mproduct=sfc\u001b[0m ┊ \u001b[38;2;41;130;13m2025-Jan-14 05:00 UTC\u001b[92m F00\u001b[0m ┊ \u001b[38;2;255;153;0m\u001b[3mGRIB2 @ aws\u001b[0m ┊ \u001b[38;2;255;153;0m\u001b[3mIDX @ aws\u001b[0m\n",
      "✅ Found ┊ model=hrrr ┊ \u001b[3mproduct=sfc\u001b[0m ┊ \u001b[38;2;41;130;13m2025-Jan-14 06:00 UTC\u001b[92m F00\u001b[0m ┊ \u001b[38;2;255;153;0m\u001b[3mGRIB2 @ aws\u001b[0m ┊ \u001b[38;2;255;153;0m\u001b[3mIDX @ aws\u001b[0m\n",
      "✅ Found ┊ model=hrrr ┊ \u001b[3mproduct=sfc\u001b[0m ┊ \u001b[38;2;41;130;13m2025-Jan-14 07:00 UTC\u001b[92m F00\u001b[0m ┊ \u001b[38;2;255;153;0m\u001b[3mGRIB2 @ aws\u001b[0m ┊ \u001b[38;2;255;153;0m\u001b[3mIDX @ aws\u001b[0m\n",
      "✅ Found ┊ model=hrrr ┊ \u001b[3mproduct=sfc\u001b[0m ┊ \u001b[38;2;41;130;13m2025-Jan-14 08:00 UTC\u001b[92m F00\u001b[0m ┊ \u001b[38;2;255;153;0m\u001b[3mGRIB2 @ aws\u001b[0m ┊ \u001b[38;2;255;153;0m\u001b[3mIDX @ aws\u001b[0m\n",
      "✅ Found ┊ model=hrrr ┊ \u001b[3mproduct=sfc\u001b[0m ┊ \u001b[38;2;41;130;13m2025-Jan-14 09:00 UTC\u001b[92m F00\u001b[0m ┊ \u001b[38;2;255;153;0m\u001b[3mGRIB2 @ aws\u001b[0m ┊ \u001b[38;2;255;153;0m\u001b[3mIDX @ aws\u001b[0m\n",
      "✅ Found ┊ model=hrrr ┊ \u001b[3mproduct=sfc\u001b[0m ┊ \u001b[38;2;41;130;13m2025-Jan-14 10:00 UTC\u001b[92m F00\u001b[0m ┊ \u001b[38;2;255;153;0m\u001b[3mGRIB2 @ aws\u001b[0m ┊ \u001b[38;2;255;153;0m\u001b[3mIDX @ aws\u001b[0m\n",
      "✅ Found ┊ model=hrrr ┊ \u001b[3mproduct=sfc\u001b[0m ┊ \u001b[38;2;41;130;13m2025-Jan-14 11:00 UTC\u001b[92m F00\u001b[0m ┊ \u001b[38;2;255;153;0m\u001b[3mGRIB2 @ aws\u001b[0m ┊ \u001b[38;2;255;153;0m\u001b[3mIDX @ aws\u001b[0m\n",
      "✅ Found ┊ model=hrrr ┊ \u001b[3mproduct=sfc\u001b[0m ┊ \u001b[38;2;41;130;13m2025-Jan-14 12:00 UTC\u001b[92m F00\u001b[0m ┊ \u001b[38;2;255;153;0m\u001b[3mGRIB2 @ aws\u001b[0m ┊ \u001b[38;2;255;153;0m\u001b[3mIDX @ aws\u001b[0m\n",
      "✅ Found ┊ model=hrrr ┊ \u001b[3mproduct=sfc\u001b[0m ┊ \u001b[38;2;41;130;13m2025-Jan-14 13:00 UTC\u001b[92m F00\u001b[0m ┊ \u001b[38;2;255;153;0m\u001b[3mGRIB2 @ aws\u001b[0m ┊ \u001b[38;2;255;153;0m\u001b[3mIDX @ aws\u001b[0m\n",
      "✅ Found ┊ model=hrrr ┊ \u001b[3mproduct=sfc\u001b[0m ┊ \u001b[38;2;41;130;13m2025-Jan-14 14:00 UTC\u001b[92m F00\u001b[0m ┊ \u001b[38;2;255;153;0m\u001b[3mGRIB2 @ aws\u001b[0m ┊ \u001b[38;2;255;153;0m\u001b[3mIDX @ aws\u001b[0m\n",
      "✅ Found ┊ model=hrrr ┊ \u001b[3mproduct=sfc\u001b[0m ┊ \u001b[38;2;41;130;13m2025-Jan-14 15:00 UTC\u001b[92m F00\u001b[0m ┊ \u001b[38;2;255;153;0m\u001b[3mGRIB2 @ aws\u001b[0m ┊ \u001b[38;2;255;153;0m\u001b[3mIDX @ aws\u001b[0m\n",
      "✅ Found ┊ model=hrrr ┊ \u001b[3mproduct=sfc\u001b[0m ┊ \u001b[38;2;41;130;13m2025-Jan-14 16:00 UTC\u001b[92m F00\u001b[0m ┊ \u001b[38;2;255;153;0m\u001b[3mGRIB2 @ aws\u001b[0m ┊ \u001b[38;2;255;153;0m\u001b[3mIDX @ aws\u001b[0m\n",
      "✅ Found ┊ model=hrrr ┊ \u001b[3mproduct=sfc\u001b[0m ┊ \u001b[38;2;41;130;13m2025-Jan-14 17:00 UTC\u001b[92m F00\u001b[0m ┊ \u001b[38;2;255;153;0m\u001b[3mGRIB2 @ aws\u001b[0m ┊ \u001b[38;2;255;153;0m\u001b[3mIDX @ aws\u001b[0m\n",
      "✅ Found ┊ model=hrrr ┊ \u001b[3mproduct=sfc\u001b[0m ┊ \u001b[38;2;41;130;13m2025-Jan-14 18:00 UTC\u001b[92m F00\u001b[0m ┊ \u001b[38;2;255;153;0m\u001b[3mGRIB2 @ aws\u001b[0m ┊ \u001b[38;2;255;153;0m\u001b[3mIDX @ aws\u001b[0m\n",
      "✅ Found ┊ model=hrrr ┊ \u001b[3mproduct=sfc\u001b[0m ┊ \u001b[38;2;41;130;13m2025-Jan-14 19:00 UTC\u001b[92m F00\u001b[0m ┊ \u001b[38;2;255;153;0m\u001b[3mGRIB2 @ aws\u001b[0m ┊ \u001b[38;2;255;153;0m\u001b[3mIDX @ aws\u001b[0m\n",
      "✅ Found ┊ model=hrrr ┊ \u001b[3mproduct=sfc\u001b[0m ┊ \u001b[38;2;41;130;13m2025-Jan-14 20:00 UTC\u001b[92m F00\u001b[0m ┊ \u001b[38;2;255;153;0m\u001b[3mGRIB2 @ aws\u001b[0m ┊ \u001b[38;2;255;153;0m\u001b[3mIDX @ aws\u001b[0m\n",
      "✅ Found ┊ model=hrrr ┊ \u001b[3mproduct=sfc\u001b[0m ┊ \u001b[38;2;41;130;13m2025-Jan-14 21:00 UTC\u001b[92m F00\u001b[0m ┊ \u001b[38;2;255;153;0m\u001b[3mGRIB2 @ aws\u001b[0m ┊ \u001b[38;2;255;153;0m\u001b[3mIDX @ aws\u001b[0m\n",
      "✅ Found ┊ model=hrrr ┊ \u001b[3mproduct=sfc\u001b[0m ┊ \u001b[38;2;41;130;13m2025-Jan-14 22:00 UTC\u001b[92m F00\u001b[0m ┊ \u001b[38;2;255;153;0m\u001b[3mGRIB2 @ aws\u001b[0m ┊ \u001b[38;2;255;153;0m\u001b[3mIDX @ aws\u001b[0m\n",
      "✅ Found ┊ model=hrrr ┊ \u001b[3mproduct=sfc\u001b[0m ┊ \u001b[38;2;41;130;13m2025-Jan-14 23:00 UTC\u001b[92m F00\u001b[0m ┊ \u001b[38;2;255;153;0m\u001b[3mGRIB2 @ aws\u001b[0m ┊ \u001b[38;2;255;153;0m\u001b[3mIDX @ aws\u001b[0m\n",
      "✅ Found ┊ model=hrrr ┊ \u001b[3mproduct=sfc\u001b[0m ┊ \u001b[38;2;41;130;13m2025-Jan-15 00:00 UTC\u001b[92m F00\u001b[0m ┊ \u001b[38;2;255;153;0m\u001b[3mGRIB2 @ aws\u001b[0m ┊ \u001b[38;2;255;153;0m\u001b[3mIDX @ aws\u001b[0m\n",
      "✅ Found ┊ model=hrrr ┊ \u001b[3mproduct=sfc\u001b[0m ┊ \u001b[38;2;41;130;13m2025-Jan-15 01:00 UTC\u001b[92m F00\u001b[0m ┊ \u001b[38;2;255;153;0m\u001b[3mGRIB2 @ aws\u001b[0m ┊ \u001b[38;2;255;153;0m\u001b[3mIDX @ aws\u001b[0m\n",
      "✅ Found ┊ model=hrrr ┊ \u001b[3mproduct=sfc\u001b[0m ┊ \u001b[38;2;41;130;13m2025-Jan-15 02:00 UTC\u001b[92m F00\u001b[0m ┊ \u001b[38;2;255;153;0m\u001b[3mGRIB2 @ aws\u001b[0m ┊ \u001b[38;2;255;153;0m\u001b[3mIDX @ aws\u001b[0m\n",
      "✅ Found ┊ model=hrrr ┊ \u001b[3mproduct=sfc\u001b[0m ┊ \u001b[38;2;41;130;13m2025-Jan-15 03:00 UTC\u001b[92m F00\u001b[0m ┊ \u001b[38;2;255;153;0m\u001b[3mGRIB2 @ aws\u001b[0m ┊ \u001b[38;2;255;153;0m\u001b[3mIDX @ aws\u001b[0m\n",
      "✅ Found ┊ model=hrrr ┊ \u001b[3mproduct=sfc\u001b[0m ┊ \u001b[38;2;41;130;13m2025-Jan-15 04:00 UTC\u001b[92m F00\u001b[0m ┊ \u001b[38;2;255;153;0m\u001b[3mGRIB2 @ aws\u001b[0m ┊ \u001b[38;2;255;153;0m\u001b[3mIDX @ aws\u001b[0m\n",
      "✅ Found ┊ model=hrrr ┊ \u001b[3mproduct=sfc\u001b[0m ┊ \u001b[38;2;41;130;13m2025-Jan-15 05:00 UTC\u001b[92m F00\u001b[0m ┊ \u001b[38;2;255;153;0m\u001b[3mGRIB2 @ aws\u001b[0m ┊ \u001b[38;2;255;153;0m\u001b[3mIDX @ aws\u001b[0m\n",
      "✅ Found ┊ model=hrrr ┊ \u001b[3mproduct=sfc\u001b[0m ┊ \u001b[38;2;41;130;13m2025-Jan-15 06:00 UTC\u001b[92m F00\u001b[0m ┊ \u001b[38;2;255;153;0m\u001b[3mGRIB2 @ aws\u001b[0m ┊ \u001b[38;2;255;153;0m\u001b[3mIDX @ aws\u001b[0m\n",
      "✅ Found ┊ model=hrrr ┊ \u001b[3mproduct=sfc\u001b[0m ┊ \u001b[38;2;41;130;13m2025-Jan-15 07:00 UTC\u001b[92m F00\u001b[0m ┊ \u001b[38;2;255;153;0m\u001b[3mGRIB2 @ aws\u001b[0m ┊ \u001b[38;2;255;153;0m\u001b[3mIDX @ aws\u001b[0m\n",
      "✅ Found ┊ model=hrrr ┊ \u001b[3mproduct=sfc\u001b[0m ┊ \u001b[38;2;41;130;13m2025-Jan-15 08:00 UTC\u001b[92m F00\u001b[0m ┊ \u001b[38;2;255;153;0m\u001b[3mGRIB2 @ aws\u001b[0m ┊ \u001b[38;2;255;153;0m\u001b[3mIDX @ aws\u001b[0m\n",
      "✅ Found ┊ model=hrrr ┊ \u001b[3mproduct=sfc\u001b[0m ┊ \u001b[38;2;41;130;13m2025-Jan-15 09:00 UTC\u001b[92m F00\u001b[0m ┊ \u001b[38;2;255;153;0m\u001b[3mGRIB2 @ aws\u001b[0m ┊ \u001b[38;2;255;153;0m\u001b[3mIDX @ aws\u001b[0m\n",
      "✅ Found ┊ model=hrrr ┊ \u001b[3mproduct=sfc\u001b[0m ┊ \u001b[38;2;41;130;13m2025-Jan-15 10:00 UTC\u001b[92m F00\u001b[0m ┊ \u001b[38;2;255;153;0m\u001b[3mGRIB2 @ aws\u001b[0m ┊ \u001b[38;2;255;153;0m\u001b[3mIDX @ aws\u001b[0m\n",
      "✅ Found ┊ model=hrrr ┊ \u001b[3mproduct=sfc\u001b[0m ┊ \u001b[38;2;41;130;13m2025-Jan-15 11:00 UTC\u001b[92m F00\u001b[0m ┊ \u001b[38;2;255;153;0m\u001b[3mGRIB2 @ aws\u001b[0m ┊ \u001b[38;2;255;153;0m\u001b[3mIDX @ aws\u001b[0m\n",
      "✅ Found ┊ model=hrrr ┊ \u001b[3mproduct=sfc\u001b[0m ┊ \u001b[38;2;41;130;13m2025-Jan-15 12:00 UTC\u001b[92m F00\u001b[0m ┊ \u001b[38;2;255;153;0m\u001b[3mGRIB2 @ aws\u001b[0m ┊ \u001b[38;2;255;153;0m\u001b[3mIDX @ aws\u001b[0m\n",
      "✅ Found ┊ model=hrrr ┊ \u001b[3mproduct=sfc\u001b[0m ┊ \u001b[38;2;41;130;13m2025-Jan-15 13:00 UTC\u001b[92m F00\u001b[0m ┊ \u001b[38;2;255;153;0m\u001b[3mGRIB2 @ aws\u001b[0m ┊ \u001b[38;2;255;153;0m\u001b[3mIDX @ aws\u001b[0m\n",
      "✅ Found ┊ model=hrrr ┊ \u001b[3mproduct=sfc\u001b[0m ┊ \u001b[38;2;41;130;13m2025-Jan-15 14:00 UTC\u001b[92m F00\u001b[0m ┊ \u001b[38;2;255;153;0m\u001b[3mGRIB2 @ aws\u001b[0m ┊ \u001b[38;2;255;153;0m\u001b[3mIDX @ aws\u001b[0m\n",
      "✅ Found ┊ model=hrrr ┊ \u001b[3mproduct=sfc\u001b[0m ┊ \u001b[38;2;41;130;13m2025-Jan-15 15:00 UTC\u001b[92m F00\u001b[0m ┊ \u001b[38;2;255;153;0m\u001b[3mGRIB2 @ aws\u001b[0m ┊ \u001b[38;2;255;153;0m\u001b[3mIDX @ aws\u001b[0m\n",
      "✅ Found ┊ model=hrrr ┊ \u001b[3mproduct=sfc\u001b[0m ┊ \u001b[38;2;41;130;13m2025-Jan-15 16:00 UTC\u001b[92m F00\u001b[0m ┊ \u001b[38;2;255;153;0m\u001b[3mGRIB2 @ aws\u001b[0m ┊ \u001b[38;2;255;153;0m\u001b[3mIDX @ aws\u001b[0m\n",
      "✅ Found ┊ model=hrrr ┊ \u001b[3mproduct=sfc\u001b[0m ┊ \u001b[38;2;41;130;13m2025-Jan-15 17:00 UTC\u001b[92m F00\u001b[0m ┊ \u001b[38;2;255;153;0m\u001b[3mGRIB2 @ aws\u001b[0m ┊ \u001b[38;2;255;153;0m\u001b[3mIDX @ aws\u001b[0m\n",
      "✅ Found ┊ model=hrrr ┊ \u001b[3mproduct=sfc\u001b[0m ┊ \u001b[38;2;41;130;13m2025-Jan-15 18:00 UTC\u001b[92m F00\u001b[0m ┊ \u001b[38;2;255;153;0m\u001b[3mGRIB2 @ aws\u001b[0m ┊ \u001b[38;2;255;153;0m\u001b[3mIDX @ aws\u001b[0m\n",
      "✅ Found ┊ model=hrrr ┊ \u001b[3mproduct=sfc\u001b[0m ┊ \u001b[38;2;41;130;13m2025-Jan-15 19:00 UTC\u001b[92m F00\u001b[0m ┊ \u001b[38;2;255;153;0m\u001b[3mGRIB2 @ aws\u001b[0m ┊ \u001b[38;2;255;153;0m\u001b[3mIDX @ aws\u001b[0m\n",
      "✅ Found ┊ model=hrrr ┊ \u001b[3mproduct=sfc\u001b[0m ┊ \u001b[38;2;41;130;13m2025-Jan-15 20:00 UTC\u001b[92m F00\u001b[0m ┊ \u001b[38;2;255;153;0m\u001b[3mGRIB2 @ aws\u001b[0m ┊ \u001b[38;2;255;153;0m\u001b[3mIDX @ aws\u001b[0m\n",
      "✅ Found ┊ model=hrrr ┊ \u001b[3mproduct=sfc\u001b[0m ┊ \u001b[38;2;41;130;13m2025-Jan-15 21:00 UTC\u001b[92m F00\u001b[0m ┊ \u001b[38;2;255;153;0m\u001b[3mGRIB2 @ aws\u001b[0m ┊ \u001b[38;2;255;153;0m\u001b[3mIDX @ aws\u001b[0m\n",
      "✅ Found ┊ model=hrrr ┊ \u001b[3mproduct=sfc\u001b[0m ┊ \u001b[38;2;41;130;13m2025-Jan-15 22:00 UTC\u001b[92m F00\u001b[0m ┊ \u001b[38;2;255;153;0m\u001b[3mGRIB2 @ aws\u001b[0m ┊ \u001b[38;2;255;153;0m\u001b[3mIDX @ aws\u001b[0m\n",
      "✅ Found ┊ model=hrrr ┊ \u001b[3mproduct=sfc\u001b[0m ┊ \u001b[38;2;41;130;13m2025-Jan-15 23:00 UTC\u001b[92m F00\u001b[0m ┊ \u001b[38;2;255;153;0m\u001b[3mGRIB2 @ aws\u001b[0m ┊ \u001b[38;2;255;153;0m\u001b[3mIDX @ aws\u001b[0m\n",
      "✅ Found ┊ model=hrrr ┊ \u001b[3mproduct=sfc\u001b[0m ┊ \u001b[38;2;41;130;13m2025-Jan-16 00:00 UTC\u001b[92m F00\u001b[0m ┊ \u001b[38;2;255;153;0m\u001b[3mGRIB2 @ aws\u001b[0m ┊ \u001b[38;2;255;153;0m\u001b[3mIDX @ aws\u001b[0m\n",
      "✅ Found ┊ model=hrrr ┊ \u001b[3mproduct=sfc\u001b[0m ┊ \u001b[38;2;41;130;13m2025-Jan-16 01:00 UTC\u001b[92m F00\u001b[0m ┊ \u001b[38;2;255;153;0m\u001b[3mGRIB2 @ aws\u001b[0m ┊ \u001b[38;2;255;153;0m\u001b[3mIDX @ aws\u001b[0m\n",
      "✅ Found ┊ model=hrrr ┊ \u001b[3mproduct=sfc\u001b[0m ┊ \u001b[38;2;41;130;13m2025-Jan-16 02:00 UTC\u001b[92m F00\u001b[0m ┊ \u001b[38;2;255;153;0m\u001b[3mGRIB2 @ aws\u001b[0m ┊ \u001b[38;2;255;153;0m\u001b[3mIDX @ aws\u001b[0m\n",
      "✅ Found ┊ model=hrrr ┊ \u001b[3mproduct=sfc\u001b[0m ┊ \u001b[38;2;41;130;13m2025-Jan-16 03:00 UTC\u001b[92m F00\u001b[0m ┊ \u001b[38;2;255;153;0m\u001b[3mGRIB2 @ aws\u001b[0m ┊ \u001b[38;2;255;153;0m\u001b[3mIDX @ aws\u001b[0m\n",
      "✅ Found ┊ model=hrrr ┊ \u001b[3mproduct=sfc\u001b[0m ┊ \u001b[38;2;41;130;13m2025-Jan-16 04:00 UTC\u001b[92m F00\u001b[0m ┊ \u001b[38;2;255;153;0m\u001b[3mGRIB2 @ aws\u001b[0m ┊ \u001b[38;2;255;153;0m\u001b[3mIDX @ aws\u001b[0m\n",
      "✅ Found ┊ model=hrrr ┊ \u001b[3mproduct=sfc\u001b[0m ┊ \u001b[38;2;41;130;13m2025-Jan-16 05:00 UTC\u001b[92m F00\u001b[0m ┊ \u001b[38;2;255;153;0m\u001b[3mGRIB2 @ aws\u001b[0m ┊ \u001b[38;2;255;153;0m\u001b[3mIDX @ aws\u001b[0m\n",
      "✅ Found ┊ model=hrrr ┊ \u001b[3mproduct=sfc\u001b[0m ┊ \u001b[38;2;41;130;13m2025-Jan-16 06:00 UTC\u001b[92m F00\u001b[0m ┊ \u001b[38;2;255;153;0m\u001b[3mGRIB2 @ aws\u001b[0m ┊ \u001b[38;2;255;153;0m\u001b[3mIDX @ aws\u001b[0m\n",
      "✅ Found ┊ model=hrrr ┊ \u001b[3mproduct=sfc\u001b[0m ┊ \u001b[38;2;41;130;13m2025-Jan-16 07:00 UTC\u001b[92m F00\u001b[0m ┊ \u001b[38;2;255;153;0m\u001b[3mGRIB2 @ aws\u001b[0m ┊ \u001b[38;2;255;153;0m\u001b[3mIDX @ aws\u001b[0m\n",
      "✅ Found ┊ model=hrrr ┊ \u001b[3mproduct=sfc\u001b[0m ┊ \u001b[38;2;41;130;13m2025-Jan-16 08:00 UTC\u001b[92m F00\u001b[0m ┊ \u001b[38;2;255;153;0m\u001b[3mGRIB2 @ aws\u001b[0m ┊ \u001b[38;2;255;153;0m\u001b[3mIDX @ aws\u001b[0m\n",
      "✅ Found ┊ model=hrrr ┊ \u001b[3mproduct=sfc\u001b[0m ┊ \u001b[38;2;41;130;13m2025-Jan-16 09:00 UTC\u001b[92m F00\u001b[0m ┊ \u001b[38;2;255;153;0m\u001b[3mGRIB2 @ aws\u001b[0m ┊ \u001b[38;2;255;153;0m\u001b[3mIDX @ aws\u001b[0m\n",
      "✅ Found ┊ model=hrrr ┊ \u001b[3mproduct=sfc\u001b[0m ┊ \u001b[38;2;41;130;13m2025-Jan-16 10:00 UTC\u001b[92m F00\u001b[0m ┊ \u001b[38;2;255;153;0m\u001b[3mGRIB2 @ aws\u001b[0m ┊ \u001b[38;2;255;153;0m\u001b[3mIDX @ aws\u001b[0m\n",
      "✅ Found ┊ model=hrrr ┊ \u001b[3mproduct=sfc\u001b[0m ┊ \u001b[38;2;41;130;13m2025-Jan-16 11:00 UTC\u001b[92m F00\u001b[0m ┊ \u001b[38;2;255;153;0m\u001b[3mGRIB2 @ aws\u001b[0m ┊ \u001b[38;2;255;153;0m\u001b[3mIDX @ aws\u001b[0m\n",
      "✅ Found ┊ model=hrrr ┊ \u001b[3mproduct=sfc\u001b[0m ┊ \u001b[38;2;41;130;13m2025-Jan-16 12:00 UTC\u001b[92m F00\u001b[0m ┊ \u001b[38;2;255;153;0m\u001b[3mGRIB2 @ aws\u001b[0m ┊ \u001b[38;2;255;153;0m\u001b[3mIDX @ aws\u001b[0m\n",
      "✅ Found ┊ model=hrrr ┊ \u001b[3mproduct=sfc\u001b[0m ┊ \u001b[38;2;41;130;13m2025-Jan-16 13:00 UTC\u001b[92m F00\u001b[0m ┊ \u001b[38;2;255;153;0m\u001b[3mGRIB2 @ aws\u001b[0m ┊ \u001b[38;2;255;153;0m\u001b[3mIDX @ aws\u001b[0m\n",
      "✅ Found ┊ model=hrrr ┊ \u001b[3mproduct=sfc\u001b[0m ┊ \u001b[38;2;41;130;13m2025-Jan-16 14:00 UTC\u001b[92m F00\u001b[0m ┊ \u001b[38;2;255;153;0m\u001b[3mGRIB2 @ aws\u001b[0m ┊ \u001b[38;2;255;153;0m\u001b[3mIDX @ aws\u001b[0m\n",
      "✅ Found ┊ model=hrrr ┊ \u001b[3mproduct=sfc\u001b[0m ┊ \u001b[38;2;41;130;13m2025-Jan-16 15:00 UTC\u001b[92m F00\u001b[0m ┊ \u001b[38;2;255;153;0m\u001b[3mGRIB2 @ aws\u001b[0m ┊ \u001b[38;2;255;153;0m\u001b[3mIDX @ aws\u001b[0m\n",
      "✅ Found ┊ model=hrrr ┊ \u001b[3mproduct=sfc\u001b[0m ┊ \u001b[38;2;41;130;13m2025-Jan-16 16:00 UTC\u001b[92m F00\u001b[0m ┊ \u001b[38;2;255;153;0m\u001b[3mGRIB2 @ aws\u001b[0m ┊ \u001b[38;2;255;153;0m\u001b[3mIDX @ aws\u001b[0m\n",
      "✅ Found ┊ model=hrrr ┊ \u001b[3mproduct=sfc\u001b[0m ┊ \u001b[38;2;41;130;13m2025-Jan-16 17:00 UTC\u001b[92m F00\u001b[0m ┊ \u001b[38;2;255;153;0m\u001b[3mGRIB2 @ aws\u001b[0m ┊ \u001b[38;2;255;153;0m\u001b[3mIDX @ aws\u001b[0m\n",
      "✅ Found ┊ model=hrrr ┊ \u001b[3mproduct=sfc\u001b[0m ┊ \u001b[38;2;41;130;13m2025-Jan-16 18:00 UTC\u001b[92m F00\u001b[0m ┊ \u001b[38;2;255;153;0m\u001b[3mGRIB2 @ aws\u001b[0m ┊ \u001b[38;2;255;153;0m\u001b[3mIDX @ aws\u001b[0m\n",
      "✅ Found ┊ model=hrrr ┊ \u001b[3mproduct=sfc\u001b[0m ┊ \u001b[38;2;41;130;13m2025-Jan-16 19:00 UTC\u001b[92m F00\u001b[0m ┊ \u001b[38;2;255;153;0m\u001b[3mGRIB2 @ aws\u001b[0m ┊ \u001b[38;2;255;153;0m\u001b[3mIDX @ aws\u001b[0m\n",
      "✅ Found ┊ model=hrrr ┊ \u001b[3mproduct=sfc\u001b[0m ┊ \u001b[38;2;41;130;13m2025-Jan-16 20:00 UTC\u001b[92m F00\u001b[0m ┊ \u001b[38;2;255;153;0m\u001b[3mGRIB2 @ aws\u001b[0m ┊ \u001b[38;2;255;153;0m\u001b[3mIDX @ aws\u001b[0m\n",
      "✅ Found ┊ model=hrrr ┊ \u001b[3mproduct=sfc\u001b[0m ┊ \u001b[38;2;41;130;13m2025-Jan-16 21:00 UTC\u001b[92m F00\u001b[0m ┊ \u001b[38;2;255;153;0m\u001b[3mGRIB2 @ aws\u001b[0m ┊ \u001b[38;2;255;153;0m\u001b[3mIDX @ aws\u001b[0m\n",
      "✅ Found ┊ model=hrrr ┊ \u001b[3mproduct=sfc\u001b[0m ┊ \u001b[38;2;41;130;13m2025-Jan-16 22:00 UTC\u001b[92m F00\u001b[0m ┊ \u001b[38;2;255;153;0m\u001b[3mGRIB2 @ aws\u001b[0m ┊ \u001b[38;2;255;153;0m\u001b[3mIDX @ aws\u001b[0m\n",
      "✅ Found ┊ model=hrrr ┊ \u001b[3mproduct=sfc\u001b[0m ┊ \u001b[38;2;41;130;13m2025-Jan-16 23:00 UTC\u001b[92m F00\u001b[0m ┊ \u001b[38;2;255;153;0m\u001b[3mGRIB2 @ aws\u001b[0m ┊ \u001b[38;2;255;153;0m\u001b[3mIDX @ aws\u001b[0m\n"
     ]
    },
    {
     "name": "stderr",
     "output_type": "stream",
     "text": [
      "Ignoring index file '/home/mgraca/data/hrrr/20250110/la_region_subset_d9ef9dd4__hrrr.t00z.wrfsfcf00.grib2.5b7b6.idx' older than GRIB file\n",
      "Ignoring index file '/home/mgraca/data/hrrr/20250110/la_region_subset_87ef9dd4__hrrr.t01z.wrfsfcf00.grib2.5b7b6.idx' older than GRIB file\n",
      "Ignoring index file '/home/mgraca/data/hrrr/20250110/la_region_subset_03ef9dd4__hrrr.t02z.wrfsfcf00.grib2.5b7b6.idx' older than GRIB file\n",
      "Ignoring index file '/home/mgraca/data/hrrr/20250110/la_region_subset_64ef9dd4__hrrr.t03z.wrfsfcf00.grib2.5b7b6.idx' older than GRIB file\n",
      "Ignoring index file '/home/mgraca/data/hrrr/20250110/la_region_subset_10ef9dd4__hrrr.t04z.wrfsfcf00.grib2.5b7b6.idx' older than GRIB file\n",
      "Ignoring index file '/home/mgraca/data/hrrr/20250110/la_region_subset_47ef9dd4__hrrr.t05z.wrfsfcf00.grib2.5b7b6.idx' older than GRIB file\n",
      "Ignoring index file '/home/mgraca/data/hrrr/20250110/la_region_subset_6def9dd4__hrrr.t06z.wrfsfcf00.grib2.5b7b6.idx' older than GRIB file\n",
      "Ignoring index file '/home/mgraca/data/hrrr/20250110/la_region_subset_45ef9dd4__hrrr.t07z.wrfsfcf00.grib2.5b7b6.idx' older than GRIB file\n",
      "Ignoring index file '/home/mgraca/data/hrrr/20250110/la_region_subset_6bef9dd4__hrrr.t08z.wrfsfcf00.grib2.5b7b6.idx' older than GRIB file\n",
      "Ignoring index file '/home/mgraca/data/hrrr/20250110/la_region_subset_79ef9dd4__hrrr.t09z.wrfsfcf00.grib2.5b7b6.idx' older than GRIB file\n",
      "Ignoring index file '/home/mgraca/data/hrrr/20250110/la_region_subset_84ef9dd4__hrrr.t10z.wrfsfcf00.grib2.5b7b6.idx' older than GRIB file\n",
      "Ignoring index file '/home/mgraca/data/hrrr/20250110/la_region_subset_3fef9dd4__hrrr.t11z.wrfsfcf00.grib2.5b7b6.idx' older than GRIB file\n",
      "Ignoring index file '/home/mgraca/data/hrrr/20250110/la_region_subset_beef9dd4__hrrr.t12z.wrfsfcf00.grib2.5b7b6.idx' older than GRIB file\n",
      "Ignoring index file '/home/mgraca/data/hrrr/20250110/la_region_subset_5def9dd4__hrrr.t13z.wrfsfcf00.grib2.5b7b6.idx' older than GRIB file\n"
     ]
    },
    {
     "name": "stdout",
     "output_type": "stream",
     "text": [
      "10/168 files converted.\n"
     ]
    },
    {
     "name": "stderr",
     "output_type": "stream",
     "text": [
      "Ignoring index file '/home/mgraca/data/hrrr/20250110/la_region_subset_5aef9dd4__hrrr.t14z.wrfsfcf00.grib2.5b7b6.idx' older than GRIB file\n",
      "Ignoring index file '/home/mgraca/data/hrrr/20250110/la_region_subset_60ef9dd4__hrrr.t15z.wrfsfcf00.grib2.5b7b6.idx' older than GRIB file\n",
      "Ignoring index file '/home/mgraca/data/hrrr/20250110/la_region_subset_78ef9dd4__hrrr.t16z.wrfsfcf00.grib2.5b7b6.idx' older than GRIB file\n",
      "Ignoring index file '/home/mgraca/data/hrrr/20250110/la_region_subset_2aef9dd4__hrrr.t17z.wrfsfcf00.grib2.5b7b6.idx' older than GRIB file\n",
      "Ignoring index file '/home/mgraca/data/hrrr/20250110/la_region_subset_aeef9dd4__hrrr.t18z.wrfsfcf00.grib2.5b7b6.idx' older than GRIB file\n",
      "Ignoring index file '/home/mgraca/data/hrrr/20250110/la_region_subset_2bef9dd4__hrrr.t19z.wrfsfcf00.grib2.5b7b6.idx' older than GRIB file\n",
      "Ignoring index file '/home/mgraca/data/hrrr/20250110/la_region_subset_aeef9dd4__hrrr.t20z.wrfsfcf00.grib2.5b7b6.idx' older than GRIB file\n",
      "Ignoring index file '/home/mgraca/data/hrrr/20250110/la_region_subset_57ef9dd4__hrrr.t21z.wrfsfcf00.grib2.5b7b6.idx' older than GRIB file\n",
      "Ignoring index file '/home/mgraca/data/hrrr/20250110/la_region_subset_87ef9dd4__hrrr.t22z.wrfsfcf00.grib2.5b7b6.idx' older than GRIB file\n",
      "Ignoring index file '/home/mgraca/data/hrrr/20250110/la_region_subset_34ef9dd4__hrrr.t23z.wrfsfcf00.grib2.5b7b6.idx' older than GRIB file\n"
     ]
    },
    {
     "name": "stdout",
     "output_type": "stream",
     "text": [
      "20/168 files converted.\n"
     ]
    },
    {
     "name": "stderr",
     "output_type": "stream",
     "text": [
      "Ignoring index file '/home/mgraca/data/hrrr/20250111/la_region_subset_d7ef9dd4__hrrr.t00z.wrfsfcf00.grib2.5b7b6.idx' older than GRIB file\n",
      "Ignoring index file '/home/mgraca/data/hrrr/20250111/la_region_subset_c0ef9dd4__hrrr.t01z.wrfsfcf00.grib2.5b7b6.idx' older than GRIB file\n",
      "Ignoring index file '/home/mgraca/data/hrrr/20250111/la_region_subset_86ef9dd4__hrrr.t02z.wrfsfcf00.grib2.5b7b6.idx' older than GRIB file\n",
      "Ignoring index file '/home/mgraca/data/hrrr/20250111/la_region_subset_afef9dd4__hrrr.t03z.wrfsfcf00.grib2.5b7b6.idx' older than GRIB file\n",
      "Ignoring index file '/home/mgraca/data/hrrr/20250111/la_region_subset_0bef9dd4__hrrr.t04z.wrfsfcf00.grib2.5b7b6.idx' older than GRIB file\n",
      "Ignoring index file '/home/mgraca/data/hrrr/20250111/la_region_subset_13ef9dd4__hrrr.t05z.wrfsfcf00.grib2.5b7b6.idx' older than GRIB file\n",
      "Ignoring index file '/home/mgraca/data/hrrr/20250111/la_region_subset_dbef9dd4__hrrr.t06z.wrfsfcf00.grib2.5b7b6.idx' older than GRIB file\n",
      "Ignoring index file '/home/mgraca/data/hrrr/20250111/la_region_subset_93ef9dd4__hrrr.t07z.wrfsfcf00.grib2.5b7b6.idx' older than GRIB file\n",
      "Ignoring index file '/home/mgraca/data/hrrr/20250111/la_region_subset_7fef9dd4__hrrr.t08z.wrfsfcf00.grib2.5b7b6.idx' older than GRIB file\n",
      "Ignoring index file '/home/mgraca/data/hrrr/20250111/la_region_subset_4def9dd4__hrrr.t09z.wrfsfcf00.grib2.5b7b6.idx' older than GRIB file\n"
     ]
    },
    {
     "name": "stdout",
     "output_type": "stream",
     "text": [
      "30/168 files converted.\n"
     ]
    },
    {
     "name": "stderr",
     "output_type": "stream",
     "text": [
      "Ignoring index file '/home/mgraca/data/hrrr/20250111/la_region_subset_b0ef9dd4__hrrr.t10z.wrfsfcf00.grib2.5b7b6.idx' older than GRIB file\n",
      "Ignoring index file '/home/mgraca/data/hrrr/20250111/la_region_subset_5def9dd4__hrrr.t11z.wrfsfcf00.grib2.5b7b6.idx' older than GRIB file\n",
      "Ignoring index file '/home/mgraca/data/hrrr/20250111/la_region_subset_b2ef9dd4__hrrr.t12z.wrfsfcf00.grib2.5b7b6.idx' older than GRIB file\n",
      "Ignoring index file '/home/mgraca/data/hrrr/20250111/la_region_subset_a7ef9dd4__hrrr.t13z.wrfsfcf00.grib2.5b7b6.idx' older than GRIB file\n",
      "Ignoring index file '/home/mgraca/data/hrrr/20250111/la_region_subset_cdef9dd4__hrrr.t14z.wrfsfcf00.grib2.5b7b6.idx' older than GRIB file\n",
      "Ignoring index file '/home/mgraca/data/hrrr/20250111/la_region_subset_a9ef9dd4__hrrr.t15z.wrfsfcf00.grib2.5b7b6.idx' older than GRIB file\n",
      "Ignoring index file '/home/mgraca/data/hrrr/20250111/la_region_subset_9aef9dd4__hrrr.t16z.wrfsfcf00.grib2.5b7b6.idx' older than GRIB file\n",
      "Ignoring index file '/home/mgraca/data/hrrr/20250111/la_region_subset_2bef9dd4__hrrr.t17z.wrfsfcf00.grib2.5b7b6.idx' older than GRIB file\n",
      "Ignoring index file '/home/mgraca/data/hrrr/20250111/la_region_subset_c1ef9dd4__hrrr.t18z.wrfsfcf00.grib2.5b7b6.idx' older than GRIB file\n",
      "Ignoring index file '/home/mgraca/data/hrrr/20250111/la_region_subset_80ef9dd4__hrrr.t19z.wrfsfcf00.grib2.5b7b6.idx' older than GRIB file\n"
     ]
    },
    {
     "name": "stdout",
     "output_type": "stream",
     "text": [
      "40/168 files converted.\n"
     ]
    },
    {
     "name": "stderr",
     "output_type": "stream",
     "text": [
      "Ignoring index file '/home/mgraca/data/hrrr/20250111/la_region_subset_6def9dd4__hrrr.t20z.wrfsfcf00.grib2.5b7b6.idx' older than GRIB file\n",
      "Ignoring index file '/home/mgraca/data/hrrr/20250111/la_region_subset_3bef9dd4__hrrr.t21z.wrfsfcf00.grib2.5b7b6.idx' older than GRIB file\n",
      "Ignoring index file '/home/mgraca/data/hrrr/20250111/la_region_subset_80ef9dd4__hrrr.t22z.wrfsfcf00.grib2.5b7b6.idx' older than GRIB file\n",
      "Ignoring index file '/home/mgraca/data/hrrr/20250111/la_region_subset_f2ef9dd4__hrrr.t23z.wrfsfcf00.grib2.5b7b6.idx' older than GRIB file\n",
      "Ignoring index file '/home/mgraca/data/hrrr/20250112/la_region_subset_bbef9dd4__hrrr.t00z.wrfsfcf00.grib2.5b7b6.idx' older than GRIB file\n",
      "Ignoring index file '/home/mgraca/data/hrrr/20250112/la_region_subset_adef9dd4__hrrr.t01z.wrfsfcf00.grib2.5b7b6.idx' older than GRIB file\n",
      "Ignoring index file '/home/mgraca/data/hrrr/20250112/la_region_subset_08ef9dd4__hrrr.t02z.wrfsfcf00.grib2.5b7b6.idx' older than GRIB file\n",
      "Ignoring index file '/home/mgraca/data/hrrr/20250112/la_region_subset_76ef9dd4__hrrr.t03z.wrfsfcf00.grib2.5b7b6.idx' older than GRIB file\n",
      "Ignoring index file '/home/mgraca/data/hrrr/20250112/la_region_subset_12ef9dd4__hrrr.t04z.wrfsfcf00.grib2.5b7b6.idx' older than GRIB file\n"
     ]
    },
    {
     "name": "stdout",
     "output_type": "stream",
     "text": [
      "50/168 files converted.\n"
     ]
    },
    {
     "name": "stderr",
     "output_type": "stream",
     "text": [
      "Ignoring index file '/home/mgraca/data/hrrr/20250112/la_region_subset_d9ef9dd4__hrrr.t05z.wrfsfcf00.grib2.5b7b6.idx' older than GRIB file\n",
      "Ignoring index file '/home/mgraca/data/hrrr/20250112/la_region_subset_90ef9dd4__hrrr.t06z.wrfsfcf00.grib2.5b7b6.idx' older than GRIB file\n",
      "Ignoring index file '/home/mgraca/data/hrrr/20250112/la_region_subset_b6ef9dd4__hrrr.t07z.wrfsfcf00.grib2.5b7b6.idx' older than GRIB file\n",
      "Ignoring index file '/home/mgraca/data/hrrr/20250112/la_region_subset_9aef9dd4__hrrr.t08z.wrfsfcf00.grib2.5b7b6.idx' older than GRIB file\n",
      "Ignoring index file '/home/mgraca/data/hrrr/20250112/la_region_subset_3cef9dd4__hrrr.t09z.wrfsfcf00.grib2.5b7b6.idx' older than GRIB file\n",
      "Ignoring index file '/home/mgraca/data/hrrr/20250112/la_region_subset_44ef9dd4__hrrr.t10z.wrfsfcf00.grib2.5b7b6.idx' older than GRIB file\n",
      "Ignoring index file '/home/mgraca/data/hrrr/20250112/la_region_subset_e6ef9dd4__hrrr.t11z.wrfsfcf00.grib2.5b7b6.idx' older than GRIB file\n",
      "Ignoring index file '/home/mgraca/data/hrrr/20250112/la_region_subset_abef9dd4__hrrr.t12z.wrfsfcf00.grib2.5b7b6.idx' older than GRIB file\n",
      "Ignoring index file '/home/mgraca/data/hrrr/20250112/la_region_subset_28ef9dd4__hrrr.t13z.wrfsfcf00.grib2.5b7b6.idx' older than GRIB file\n",
      "Ignoring index file '/home/mgraca/data/hrrr/20250112/la_region_subset_a7ef9dd4__hrrr.t14z.wrfsfcf00.grib2.5b7b6.idx' older than GRIB file\n",
      "Ignoring index file '/home/mgraca/data/hrrr/20250112/la_region_subset_28ef9dd4__hrrr.t15z.wrfsfcf00.grib2.5b7b6.idx' older than GRIB file\n"
     ]
    },
    {
     "name": "stdout",
     "output_type": "stream",
     "text": [
      "60/168 files converted.\n"
     ]
    },
    {
     "name": "stderr",
     "output_type": "stream",
     "text": [
      "Ignoring index file '/home/mgraca/data/hrrr/20250112/la_region_subset_b1ef9dd4__hrrr.t16z.wrfsfcf00.grib2.5b7b6.idx' older than GRIB file\n",
      "Ignoring index file '/home/mgraca/data/hrrr/20250112/la_region_subset_e9ef9dd4__hrrr.t17z.wrfsfcf00.grib2.5b7b6.idx' older than GRIB file\n",
      "Ignoring index file '/home/mgraca/data/hrrr/20250112/la_region_subset_afef9dd4__hrrr.t18z.wrfsfcf00.grib2.5b7b6.idx' older than GRIB file\n",
      "Ignoring index file '/home/mgraca/data/hrrr/20250112/la_region_subset_c8ef9dd4__hrrr.t19z.wrfsfcf00.grib2.5b7b6.idx' older than GRIB file\n",
      "Ignoring index file '/home/mgraca/data/hrrr/20250112/la_region_subset_fbef9dd4__hrrr.t20z.wrfsfcf00.grib2.5b7b6.idx' older than GRIB file\n",
      "Ignoring index file '/home/mgraca/data/hrrr/20250112/la_region_subset_0aef9dd4__hrrr.t21z.wrfsfcf00.grib2.5b7b6.idx' older than GRIB file\n",
      "Ignoring index file '/home/mgraca/data/hrrr/20250112/la_region_subset_18ef9dd4__hrrr.t22z.wrfsfcf00.grib2.5b7b6.idx' older than GRIB file\n",
      "Ignoring index file '/home/mgraca/data/hrrr/20250112/la_region_subset_69ef9dd4__hrrr.t23z.wrfsfcf00.grib2.5b7b6.idx' older than GRIB file\n",
      "Ignoring index file '/home/mgraca/data/hrrr/20250113/la_region_subset_6fef9dd4__hrrr.t00z.wrfsfcf00.grib2.5b7b6.idx' older than GRIB file\n",
      "Ignoring index file '/home/mgraca/data/hrrr/20250113/la_region_subset_96ef9dd4__hrrr.t01z.wrfsfcf00.grib2.5b7b6.idx' older than GRIB file\n"
     ]
    },
    {
     "name": "stdout",
     "output_type": "stream",
     "text": [
      "70/168 files converted.\n"
     ]
    },
    {
     "name": "stderr",
     "output_type": "stream",
     "text": [
      "Ignoring index file '/home/mgraca/data/hrrr/20250113/la_region_subset_0fef9dd4__hrrr.t02z.wrfsfcf00.grib2.5b7b6.idx' older than GRIB file\n",
      "Ignoring index file '/home/mgraca/data/hrrr/20250113/la_region_subset_c2ef9dd4__hrrr.t03z.wrfsfcf00.grib2.5b7b6.idx' older than GRIB file\n",
      "Ignoring index file '/home/mgraca/data/hrrr/20250113/la_region_subset_9bef9dd4__hrrr.t04z.wrfsfcf00.grib2.5b7b6.idx' older than GRIB file\n",
      "Ignoring index file '/home/mgraca/data/hrrr/20250113/la_region_subset_34ef9dd4__hrrr.t05z.wrfsfcf00.grib2.5b7b6.idx' older than GRIB file\n",
      "Ignoring index file '/home/mgraca/data/hrrr/20250113/la_region_subset_17ef9dd4__hrrr.t06z.wrfsfcf00.grib2.5b7b6.idx' older than GRIB file\n",
      "Ignoring index file '/home/mgraca/data/hrrr/20250113/la_region_subset_1bef9dd4__hrrr.t07z.wrfsfcf00.grib2.5b7b6.idx' older than GRIB file\n",
      "Ignoring index file '/home/mgraca/data/hrrr/20250113/la_region_subset_0def9dd4__hrrr.t08z.wrfsfcf00.grib2.5b7b6.idx' older than GRIB file\n",
      "Ignoring index file '/home/mgraca/data/hrrr/20250113/la_region_subset_ecef9dd4__hrrr.t09z.wrfsfcf00.grib2.5b7b6.idx' older than GRIB file\n",
      "Ignoring index file '/home/mgraca/data/hrrr/20250113/la_region_subset_6cef9dd4__hrrr.t10z.wrfsfcf00.grib2.5b7b6.idx' older than GRIB file\n",
      "Ignoring index file '/home/mgraca/data/hrrr/20250113/la_region_subset_06ef9dd4__hrrr.t11z.wrfsfcf00.grib2.5b7b6.idx' older than GRIB file\n"
     ]
    },
    {
     "name": "stdout",
     "output_type": "stream",
     "text": [
      "80/168 files converted.\n"
     ]
    },
    {
     "name": "stderr",
     "output_type": "stream",
     "text": [
      "Ignoring index file '/home/mgraca/data/hrrr/20250113/la_region_subset_c4ef9dd4__hrrr.t12z.wrfsfcf00.grib2.5b7b6.idx' older than GRIB file\n",
      "Ignoring index file '/home/mgraca/data/hrrr/20250113/la_region_subset_ddef9dd4__hrrr.t13z.wrfsfcf00.grib2.5b7b6.idx' older than GRIB file\n",
      "Ignoring index file '/home/mgraca/data/hrrr/20250113/la_region_subset_f3ef9dd4__hrrr.t14z.wrfsfcf00.grib2.5b7b6.idx' older than GRIB file\n",
      "Ignoring index file '/home/mgraca/data/hrrr/20250113/la_region_subset_b3ef9dd4__hrrr.t15z.wrfsfcf00.grib2.5b7b6.idx' older than GRIB file\n",
      "Ignoring index file '/home/mgraca/data/hrrr/20250113/la_region_subset_53ef9dd4__hrrr.t16z.wrfsfcf00.grib2.5b7b6.idx' older than GRIB file\n",
      "Ignoring index file '/home/mgraca/data/hrrr/20250113/la_region_subset_d3ef9dd4__hrrr.t17z.wrfsfcf00.grib2.5b7b6.idx' older than GRIB file\n",
      "Ignoring index file '/home/mgraca/data/hrrr/20250113/la_region_subset_d6ef9dd4__hrrr.t18z.wrfsfcf00.grib2.5b7b6.idx' older than GRIB file\n",
      "Ignoring index file '/home/mgraca/data/hrrr/20250113/la_region_subset_19ef9dd4__hrrr.t19z.wrfsfcf00.grib2.5b7b6.idx' older than GRIB file\n",
      "Ignoring index file '/home/mgraca/data/hrrr/20250113/la_region_subset_7aef9dd4__hrrr.t20z.wrfsfcf00.grib2.5b7b6.idx' older than GRIB file\n",
      "Ignoring index file '/home/mgraca/data/hrrr/20250113/la_region_subset_58ef9dd4__hrrr.t21z.wrfsfcf00.grib2.5b7b6.idx' older than GRIB file\n"
     ]
    },
    {
     "name": "stdout",
     "output_type": "stream",
     "text": [
      "90/168 files converted.\n"
     ]
    },
    {
     "name": "stderr",
     "output_type": "stream",
     "text": [
      "Ignoring index file '/home/mgraca/data/hrrr/20250113/la_region_subset_4cef9dd4__hrrr.t22z.wrfsfcf00.grib2.5b7b6.idx' older than GRIB file\n",
      "Ignoring index file '/home/mgraca/data/hrrr/20250113/la_region_subset_21ef9dd4__hrrr.t23z.wrfsfcf00.grib2.5b7b6.idx' older than GRIB file\n",
      "Ignoring index file '/home/mgraca/data/hrrr/20250114/la_region_subset_d5ef9dd4__hrrr.t00z.wrfsfcf00.grib2.5b7b6.idx' older than GRIB file\n",
      "Ignoring index file '/home/mgraca/data/hrrr/20250114/la_region_subset_1def9dd4__hrrr.t01z.wrfsfcf00.grib2.5b7b6.idx' older than GRIB file\n",
      "Ignoring index file '/home/mgraca/data/hrrr/20250114/la_region_subset_08ef9dd4__hrrr.t02z.wrfsfcf00.grib2.5b7b6.idx' older than GRIB file\n",
      "Ignoring index file '/home/mgraca/data/hrrr/20250114/la_region_subset_c4ef9dd4__hrrr.t03z.wrfsfcf00.grib2.5b7b6.idx' older than GRIB file\n",
      "Ignoring index file '/home/mgraca/data/hrrr/20250114/la_region_subset_beef9dd4__hrrr.t04z.wrfsfcf00.grib2.5b7b6.idx' older than GRIB file\n",
      "Ignoring index file '/home/mgraca/data/hrrr/20250114/la_region_subset_9bef9dd4__hrrr.t05z.wrfsfcf00.grib2.5b7b6.idx' older than GRIB file\n",
      "Ignoring index file '/home/mgraca/data/hrrr/20250114/la_region_subset_c4ef9dd4__hrrr.t06z.wrfsfcf00.grib2.5b7b6.idx' older than GRIB file\n",
      "Ignoring index file '/home/mgraca/data/hrrr/20250114/la_region_subset_a3ef9dd4__hrrr.t07z.wrfsfcf00.grib2.5b7b6.idx' older than GRIB file\n"
     ]
    },
    {
     "name": "stdout",
     "output_type": "stream",
     "text": [
      "100/168 files converted.\n"
     ]
    },
    {
     "name": "stderr",
     "output_type": "stream",
     "text": [
      "Ignoring index file '/home/mgraca/data/hrrr/20250114/la_region_subset_efef9dd4__hrrr.t08z.wrfsfcf00.grib2.5b7b6.idx' older than GRIB file\n",
      "Ignoring index file '/home/mgraca/data/hrrr/20250114/la_region_subset_a7ef9dd4__hrrr.t09z.wrfsfcf00.grib2.5b7b6.idx' older than GRIB file\n",
      "Ignoring index file '/home/mgraca/data/hrrr/20250114/la_region_subset_beef9dd4__hrrr.t10z.wrfsfcf00.grib2.5b7b6.idx' older than GRIB file\n",
      "Ignoring index file '/home/mgraca/data/hrrr/20250114/la_region_subset_10ef9dd4__hrrr.t11z.wrfsfcf00.grib2.5b7b6.idx' older than GRIB file\n",
      "Ignoring index file '/home/mgraca/data/hrrr/20250114/la_region_subset_14ef9dd4__hrrr.t12z.wrfsfcf00.grib2.5b7b6.idx' older than GRIB file\n",
      "Ignoring index file '/home/mgraca/data/hrrr/20250114/la_region_subset_43ef9dd4__hrrr.t13z.wrfsfcf00.grib2.5b7b6.idx' older than GRIB file\n",
      "Ignoring index file '/home/mgraca/data/hrrr/20250114/la_region_subset_73ef9dd4__hrrr.t14z.wrfsfcf00.grib2.5b7b6.idx' older than GRIB file\n",
      "Ignoring index file '/home/mgraca/data/hrrr/20250114/la_region_subset_b1ef9dd4__hrrr.t15z.wrfsfcf00.grib2.5b7b6.idx' older than GRIB file\n",
      "Ignoring index file '/home/mgraca/data/hrrr/20250114/la_region_subset_9aef9dd4__hrrr.t16z.wrfsfcf00.grib2.5b7b6.idx' older than GRIB file\n",
      "Ignoring index file '/home/mgraca/data/hrrr/20250114/la_region_subset_a4ef9dd4__hrrr.t17z.wrfsfcf00.grib2.5b7b6.idx' older than GRIB file\n"
     ]
    },
    {
     "name": "stdout",
     "output_type": "stream",
     "text": [
      "110/168 files converted.\n"
     ]
    },
    {
     "name": "stderr",
     "output_type": "stream",
     "text": [
      "Ignoring index file '/home/mgraca/data/hrrr/20250114/la_region_subset_f8ef9dd4__hrrr.t18z.wrfsfcf00.grib2.5b7b6.idx' older than GRIB file\n",
      "Ignoring index file '/home/mgraca/data/hrrr/20250114/la_region_subset_3def9dd4__hrrr.t19z.wrfsfcf00.grib2.5b7b6.idx' older than GRIB file\n",
      "Ignoring index file '/home/mgraca/data/hrrr/20250114/la_region_subset_eeef9dd4__hrrr.t20z.wrfsfcf00.grib2.5b7b6.idx' older than GRIB file\n",
      "Ignoring index file '/home/mgraca/data/hrrr/20250114/la_region_subset_1cef9dd4__hrrr.t21z.wrfsfcf00.grib2.5b7b6.idx' older than GRIB file\n",
      "Ignoring index file '/home/mgraca/data/hrrr/20250114/la_region_subset_82ef9dd4__hrrr.t22z.wrfsfcf00.grib2.5b7b6.idx' older than GRIB file\n",
      "Ignoring index file '/home/mgraca/data/hrrr/20250114/la_region_subset_63ef9dd4__hrrr.t23z.wrfsfcf00.grib2.5b7b6.idx' older than GRIB file\n",
      "Ignoring index file '/home/mgraca/data/hrrr/20250115/la_region_subset_6def9dd4__hrrr.t00z.wrfsfcf00.grib2.5b7b6.idx' older than GRIB file\n",
      "Ignoring index file '/home/mgraca/data/hrrr/20250115/la_region_subset_dfef9dd4__hrrr.t01z.wrfsfcf00.grib2.5b7b6.idx' older than GRIB file\n",
      "Ignoring index file '/home/mgraca/data/hrrr/20250115/la_region_subset_dfef9dd4__hrrr.t02z.wrfsfcf00.grib2.5b7b6.idx' older than GRIB file\n",
      "Ignoring index file '/home/mgraca/data/hrrr/20250115/la_region_subset_95ef9dd4__hrrr.t03z.wrfsfcf00.grib2.5b7b6.idx' older than GRIB file\n"
     ]
    },
    {
     "name": "stdout",
     "output_type": "stream",
     "text": [
      "120/168 files converted.\n"
     ]
    },
    {
     "name": "stderr",
     "output_type": "stream",
     "text": [
      "Ignoring index file '/home/mgraca/data/hrrr/20250115/la_region_subset_5bef9dd4__hrrr.t04z.wrfsfcf00.grib2.5b7b6.idx' older than GRIB file\n",
      "Ignoring index file '/home/mgraca/data/hrrr/20250115/la_region_subset_fbef9dd4__hrrr.t05z.wrfsfcf00.grib2.5b7b6.idx' older than GRIB file\n",
      "Ignoring index file '/home/mgraca/data/hrrr/20250115/la_region_subset_deef9dd4__hrrr.t06z.wrfsfcf00.grib2.5b7b6.idx' older than GRIB file\n",
      "Ignoring index file '/home/mgraca/data/hrrr/20250115/la_region_subset_3def9dd4__hrrr.t07z.wrfsfcf00.grib2.5b7b6.idx' older than GRIB file\n",
      "Ignoring index file '/home/mgraca/data/hrrr/20250115/la_region_subset_15ef9dd4__hrrr.t08z.wrfsfcf00.grib2.5b7b6.idx' older than GRIB file\n",
      "Ignoring index file '/home/mgraca/data/hrrr/20250115/la_region_subset_12ef9dd4__hrrr.t09z.wrfsfcf00.grib2.5b7b6.idx' older than GRIB file\n",
      "Ignoring index file '/home/mgraca/data/hrrr/20250115/la_region_subset_5eef9dd4__hrrr.t10z.wrfsfcf00.grib2.5b7b6.idx' older than GRIB file\n",
      "Ignoring index file '/home/mgraca/data/hrrr/20250115/la_region_subset_97ef9dd4__hrrr.t11z.wrfsfcf00.grib2.5b7b6.idx' older than GRIB file\n",
      "Ignoring index file '/home/mgraca/data/hrrr/20250115/la_region_subset_e1ef9dd4__hrrr.t12z.wrfsfcf00.grib2.5b7b6.idx' older than GRIB file\n",
      "Ignoring index file '/home/mgraca/data/hrrr/20250115/la_region_subset_4def9dd4__hrrr.t13z.wrfsfcf00.grib2.5b7b6.idx' older than GRIB file\n"
     ]
    },
    {
     "name": "stdout",
     "output_type": "stream",
     "text": [
      "130/168 files converted.\n"
     ]
    },
    {
     "name": "stderr",
     "output_type": "stream",
     "text": [
      "Ignoring index file '/home/mgraca/data/hrrr/20250115/la_region_subset_8eef9dd4__hrrr.t14z.wrfsfcf00.grib2.5b7b6.idx' older than GRIB file\n",
      "Ignoring index file '/home/mgraca/data/hrrr/20250115/la_region_subset_16ef9dd4__hrrr.t15z.wrfsfcf00.grib2.5b7b6.idx' older than GRIB file\n",
      "Ignoring index file '/home/mgraca/data/hrrr/20250115/la_region_subset_82ef9dd4__hrrr.t16z.wrfsfcf00.grib2.5b7b6.idx' older than GRIB file\n",
      "Ignoring index file '/home/mgraca/data/hrrr/20250115/la_region_subset_91ef9dd4__hrrr.t17z.wrfsfcf00.grib2.5b7b6.idx' older than GRIB file\n",
      "Ignoring index file '/home/mgraca/data/hrrr/20250115/la_region_subset_7bef9dd4__hrrr.t18z.wrfsfcf00.grib2.5b7b6.idx' older than GRIB file\n",
      "Ignoring index file '/home/mgraca/data/hrrr/20250115/la_region_subset_22ef9dd4__hrrr.t19z.wrfsfcf00.grib2.5b7b6.idx' older than GRIB file\n",
      "Ignoring index file '/home/mgraca/data/hrrr/20250115/la_region_subset_d7ef9dd4__hrrr.t20z.wrfsfcf00.grib2.5b7b6.idx' older than GRIB file\n",
      "Ignoring index file '/home/mgraca/data/hrrr/20250115/la_region_subset_8cef9dd4__hrrr.t21z.wrfsfcf00.grib2.5b7b6.idx' older than GRIB file\n",
      "Ignoring index file '/home/mgraca/data/hrrr/20250115/la_region_subset_80ef9dd4__hrrr.t22z.wrfsfcf00.grib2.5b7b6.idx' older than GRIB file\n",
      "Ignoring index file '/home/mgraca/data/hrrr/20250115/la_region_subset_b7ef9dd4__hrrr.t23z.wrfsfcf00.grib2.5b7b6.idx' older than GRIB file\n"
     ]
    },
    {
     "name": "stdout",
     "output_type": "stream",
     "text": [
      "140/168 files converted.\n"
     ]
    },
    {
     "name": "stderr",
     "output_type": "stream",
     "text": [
      "Ignoring index file '/home/mgraca/data/hrrr/20250116/la_region_subset_45ef9dd4__hrrr.t00z.wrfsfcf00.grib2.5b7b6.idx' older than GRIB file\n",
      "Ignoring index file '/home/mgraca/data/hrrr/20250116/la_region_subset_e3ef9dd4__hrrr.t01z.wrfsfcf00.grib2.5b7b6.idx' older than GRIB file\n",
      "Ignoring index file '/home/mgraca/data/hrrr/20250116/la_region_subset_faef9dd4__hrrr.t02z.wrfsfcf00.grib2.5b7b6.idx' older than GRIB file\n",
      "Ignoring index file '/home/mgraca/data/hrrr/20250116/la_region_subset_0eef9dd4__hrrr.t03z.wrfsfcf00.grib2.5b7b6.idx' older than GRIB file\n",
      "Ignoring index file '/home/mgraca/data/hrrr/20250116/la_region_subset_bdef9dd4__hrrr.t04z.wrfsfcf00.grib2.5b7b6.idx' older than GRIB file\n",
      "Ignoring index file '/home/mgraca/data/hrrr/20250116/la_region_subset_a8ef9dd4__hrrr.t05z.wrfsfcf00.grib2.5b7b6.idx' older than GRIB file\n",
      "Ignoring index file '/home/mgraca/data/hrrr/20250116/la_region_subset_37ef9dd4__hrrr.t06z.wrfsfcf00.grib2.5b7b6.idx' older than GRIB file\n",
      "Ignoring index file '/home/mgraca/data/hrrr/20250116/la_region_subset_e7ef9dd4__hrrr.t07z.wrfsfcf00.grib2.5b7b6.idx' older than GRIB file\n",
      "Ignoring index file '/home/mgraca/data/hrrr/20250116/la_region_subset_4bef9dd4__hrrr.t08z.wrfsfcf00.grib2.5b7b6.idx' older than GRIB file\n",
      "Ignoring index file '/home/mgraca/data/hrrr/20250116/la_region_subset_c7ef9dd4__hrrr.t09z.wrfsfcf00.grib2.5b7b6.idx' older than GRIB file\n"
     ]
    },
    {
     "name": "stdout",
     "output_type": "stream",
     "text": [
      "150/168 files converted.\n"
     ]
    },
    {
     "name": "stderr",
     "output_type": "stream",
     "text": [
      "Ignoring index file '/home/mgraca/data/hrrr/20250116/la_region_subset_35ef9dd4__hrrr.t10z.wrfsfcf00.grib2.5b7b6.idx' older than GRIB file\n",
      "Ignoring index file '/home/mgraca/data/hrrr/20250116/la_region_subset_18ef9dd4__hrrr.t11z.wrfsfcf00.grib2.5b7b6.idx' older than GRIB file\n",
      "Ignoring index file '/home/mgraca/data/hrrr/20250116/la_region_subset_b5ef9dd4__hrrr.t12z.wrfsfcf00.grib2.5b7b6.idx' older than GRIB file\n",
      "Ignoring index file '/home/mgraca/data/hrrr/20250116/la_region_subset_daef9dd4__hrrr.t13z.wrfsfcf00.grib2.5b7b6.idx' older than GRIB file\n",
      "Ignoring index file '/home/mgraca/data/hrrr/20250116/la_region_subset_8eef9dd4__hrrr.t14z.wrfsfcf00.grib2.5b7b6.idx' older than GRIB file\n",
      "Ignoring index file '/home/mgraca/data/hrrr/20250116/la_region_subset_91ef9dd4__hrrr.t15z.wrfsfcf00.grib2.5b7b6.idx' older than GRIB file\n",
      "Ignoring index file '/home/mgraca/data/hrrr/20250116/la_region_subset_2fef9dd4__hrrr.t16z.wrfsfcf00.grib2.5b7b6.idx' older than GRIB file\n",
      "Ignoring index file '/home/mgraca/data/hrrr/20250116/la_region_subset_efef9dd4__hrrr.t17z.wrfsfcf00.grib2.5b7b6.idx' older than GRIB file\n",
      "Ignoring index file '/home/mgraca/data/hrrr/20250116/la_region_subset_46ef9dd4__hrrr.t18z.wrfsfcf00.grib2.5b7b6.idx' older than GRIB file\n",
      "Ignoring index file '/home/mgraca/data/hrrr/20250116/la_region_subset_5bef9dd4__hrrr.t19z.wrfsfcf00.grib2.5b7b6.idx' older than GRIB file\n"
     ]
    },
    {
     "name": "stdout",
     "output_type": "stream",
     "text": [
      "160/168 files converted.\n"
     ]
    },
    {
     "name": "stderr",
     "output_type": "stream",
     "text": [
      "Ignoring index file '/home/mgraca/data/hrrr/20250116/la_region_subset_aaef9dd4__hrrr.t20z.wrfsfcf00.grib2.5b7b6.idx' older than GRIB file\n",
      "Ignoring index file '/home/mgraca/data/hrrr/20250116/la_region_subset_3bef9dd4__hrrr.t21z.wrfsfcf00.grib2.5b7b6.idx' older than GRIB file\n",
      "Ignoring index file '/home/mgraca/data/hrrr/20250116/la_region_subset_90ef9dd4__hrrr.t22z.wrfsfcf00.grib2.5b7b6.idx' older than GRIB file\n",
      "Ignoring index file '/home/mgraca/data/hrrr/20250116/la_region_subset_70ef9dd4__hrrr.t23z.wrfsfcf00.grib2.5b7b6.idx' older than GRIB file\n"
     ]
    },
    {
     "name": "stdout",
     "output_type": "stream",
     "text": [
      "168/168 files converted.\n",
      "(163, 5, 40, 40, 1)\n"
     ]
    }
   ],
   "source": [
    "# define bounding box\n",
    "lat_bottom, lat_top = 33.6, 34.3\n",
    "lon_bottom, lon_top = -118.6, -117.9\n",
    "extent = (lon_bottom, lon_top, lat_bottom, lat_top)\n",
    "dim = 40\n",
    "\n",
    "# preprocessing pipeline\n",
    "grib_dataset = get_hrrr_data()\n",
    "np_subregion_dataset = subregion_grib_files_to_numpy(grib_dataset, extent)\n",
    "X_hrrr = np_to_final_input(np_subregion_dataset)\n",
    "\n",
    "print(X_hrrr.shape)"
   ]
  },
  {
   "cell_type": "markdown",
   "id": "d4bfff0e-bdd2-4f37-84e3-17cd8310e5ae",
   "metadata": {},
   "source": [
    "# AirNow preprocessing"
   ]
  },
  {
   "cell_type": "code",
   "execution_count": 11,
   "id": "b9bbb118-5e83-4bd0-994c-9d56ef51548f",
   "metadata": {},
   "outputs": [
    {
     "name": "stdout",
     "output_type": "stream",
     "text": [
      "data/airnow.json already exists; skipping request...\n",
      "(163, 5, 40, 40, 1)\n"
     ]
    }
   ],
   "source": [
    "# get data, process ground sites, interpolate, create samples\n",
    "list_df = get_airnow_data(lon_bottom, lat_bottom, lon_top, lat_top)\n",
    "list_unInter = [preprocess_ground_sites(df, dim, lat_top, lat_bottom, lon_top, lon_bottom) for df in list_df]\n",
    "list_inter = [interpolate_frame(unInter, dim) for unInter in list_unInter]\n",
    "frames = np.expand_dims(np.array(list_inter), axis=-1)\n",
    "X_airnow = sliding_window_of(frames=frames, sample_size=5, rows=dim, cols=dim, channels=1)\n",
    "\n",
    "print(X_airnow.shape)"
   ]
  },
  {
   "cell_type": "markdown",
   "id": "9c416d11-bc55-4f1e-ab71-21da25111032",
   "metadata": {},
   "source": [
    "# Joint preprocessing\n",
    "- Create Y dataset\n",
    "- Combine X datasets into 1 with 2 channels\n",
    "- Split into train/test sets\n",
    "- Scale train/test sets independently, and by channel"
   ]
  },
  {
   "cell_type": "code",
   "execution_count": 12,
   "id": "ec5f0a32-531a-46ca-96b1-be9cc64cfc1f",
   "metadata": {},
   "outputs": [
    {
     "name": "stdout",
     "output_type": "stream",
     "text": [
      "(163, 6)\n"
     ]
    }
   ],
   "source": [
    "# generate labels for airnow data\n",
    "airnow_sens_loc = {\n",
    "    'Reseda': (5, 4),\n",
    "    'North Holywood (sic)': (6, 14),\n",
    "    'Los Angeles - N. Main Street': (13, 22),\n",
    "    'Compton': (22, 23),\n",
    "    'Long Beach Signal Hill': (28, 25),\n",
    "    'Anaheim': (26, 38),\n",
    "}\n",
    "\n",
    "n_samples = len(X_airnow)\n",
    "n_sensors = len(airnow_sens_loc)\n",
    "Y = np.empty((n_samples, n_sensors))\n",
    "\n",
    "# if we have 5 frames per sample, the goal is the predict the 6th frame\n",
    "# this means y should be offset by 5 relative to x\n",
    "for frame in range(len(Y)):\n",
    "    for sensor, loc in enumerate(airnow_sens_loc):\n",
    "        x, y = airnow_sens_loc[loc]\n",
    "        Y[frame][sensor] = list_unInter[frame+5][x][y]\n",
    "        \n",
    "print(Y.shape)"
   ]
  },
  {
   "cell_type": "code",
   "execution_count": 13,
   "id": "8056c8b9-b9ee-48c0-8f35-a9015ead5c84",
   "metadata": {},
   "outputs": [
    {
     "name": "stdout",
     "output_type": "stream",
     "text": [
      "HRRR and AirNow, combined by channel: (163, 5, 40, 40, 2)\n",
      "X_train/test dataset shape: (122, 5, 40, 40, 2) (41, 5, 40, 40, 2)\n",
      "y_train/test dataset shape: (122, 6) (41, 6)\n"
     ]
    }
   ],
   "source": [
    "# for now we'll just scale first, as per the pwwwb nb\n",
    "X_hrrr = std_scale(X_hrrr)\n",
    "X_airnow = std_scale(X_airnow)\n",
    "\n",
    "# combine by adding a new channel\n",
    "X = np.concatenate([X_hrrr, X_airnow], axis=-1)\n",
    "print(\"HRRR and AirNow, combined by channel:\", X.shape)\n",
    "\n",
    "# split data into training and validation sets\n",
    "split_idx = int(len(X) * 0.75)\n",
    "X_train, X_test = X[0:split_idx], X[split_idx:]\n",
    "y_train, y_test = Y[0:split_idx], Y[split_idx:]\n",
    "print(\"X_train/test dataset shape:\", X_train.shape, X_test.shape)\n",
    "print(\"y_train/test dataset shape:\", y_train.shape, y_test.shape)"
   ]
  },
  {
   "cell_type": "markdown",
   "id": "02b06411-a867-4779-a062-bf4b2b377b16",
   "metadata": {},
   "source": [
    "# Final input viz"
   ]
  },
  {
   "cell_type": "code",
   "execution_count": 14,
   "id": "efb34b07-47eb-4b54-b961-c079fa50d093",
   "metadata": {},
   "outputs": [
    {
     "name": "stdout",
     "output_type": "stream",
     "text": [
      "Displaying frames for example 102.\n"
     ]
    },
    {
     "data": {
      "image/png": "[encoded data removed]",
      "text/plain": [
       "<Figure size 1000x400 with 10 Axes>"
      ]
     },
     "metadata": {},
     "output_type": "display_data"
    },
    {
     "name": "stdout",
     "output_type": "stream",
     "text": [
      "Target:  [ 2.  11.1 11.2 19.7  0.   4.8]\n"
     ]
    }
   ],
   "source": [
    "# Construct a figure on which we will visualize the images.\n",
    "fig, axes = plt.subplots(2, 5, figsize=(10, 4))\n",
    "\n",
    "# Plot each of the sequential images for one random data example.\n",
    "# plot hrrr channel\n",
    "np.random.seed(42)\n",
    "rand_sample = np.random.choice(range(len(X_train)), size=1)[0]\n",
    "for idx, ax in enumerate(axes[0]):\n",
    "    ax.imshow(np.squeeze(X_train[rand_sample, idx, :, :, 0]))\n",
    "    ax.set_title(f\"Frame {idx + 1}\")\n",
    "    ax.axis(\"off\")\n",
    "# plot airnow channel\n",
    "for idx, ax in enumerate(axes[1]):\n",
    "    ax.imshow(np.squeeze(X_train[rand_sample, idx, :, :, 1]))\n",
    "    ax.set_title(f\"Frame {idx + 1}\")\n",
    "    ax.axis(\"off\")\n",
    "\n",
    "# Print information and display the figure.\n",
    "print(f\"Displaying frames for example {rand_sample}.\")\n",
    "plt.show()\n",
    "\n",
    "print(\"Target: \", y_train[rand_sample])"
   ]
  },
  {
   "cell_type": "markdown",
   "id": "e9d524cc-4229-435b-a889-08b59ba4d89e",
   "metadata": {},
   "source": [
    "# Model"
   ]
  },
  {
   "cell_type": "code",
   "execution_count": 15,
   "id": "1972c6f5-facc-4ab8-9557-169a772e2029",
   "metadata": {},
   "outputs": [
    {
     "name": "stderr",
     "output_type": "stream",
     "text": [
      "2025-04-03 18:14:41.943922: I tensorflow/core/util/port.cc:153] oneDNN custom operations are on. You may see slightly different numerical results due to floating-point round-off errors from different computation orders. To turn them off, set the environment variable `TF_ENABLE_ONEDNN_OPTS=0`.\n",
      "2025-04-03 18:14:41.951726: E external/local_xla/xla/stream_executor/cuda/cuda_fft.cc:477] Unable to register cuFFT factory: Attempting to register factory for plugin cuFFT when one has already been registered\n",
      "WARNING: All log messages before absl::InitializeLog() is called are written to STDERR\n",
      "E0000 00:00:1743729281.962654   66745 cuda_dnn.cc:8310] Unable to register cuDNN factory: Attempting to register factory for plugin cuDNN when one has already been registered\n",
      "E0000 00:00:1743729281.966010   66745 cuda_blas.cc:1418] Unable to register cuBLAS factory: Attempting to register factory for plugin cuBLAS when one has already been registered\n",
      "2025-04-03 18:14:41.976412: I tensorflow/core/platform/cpu_feature_guard.cc:210] This TensorFlow binary is optimized to use available CPU instructions in performance-critical operations.\n",
      "To enable the following instructions: SSE4.1 SSE4.2 AVX AVX2 AVX512F AVX512_VNNI FMA, in other operations, rebuild TensorFlow with the appropriate compiler flags.\n"
     ]
    }
   ],
   "source": [
    "import tensorflow as tf\n",
    "import keras\n",
    "from keras.models import Sequential\n",
    "from keras.models import Model\n",
    "from keras.layers import Conv3D\n",
    "from keras.layers import ConvLSTM2D\n",
    "from keras.layers import BatchNormalization\n",
    "from keras.layers import Convolution2D, MaxPooling3D, Flatten, Reshape\n",
    "from keras.layers import TimeDistributed\n",
    "from keras.layers import Dropout\n",
    "from keras.layers import Dense\n",
    "from keras.layers import InputLayer"
   ]
  },
  {
   "cell_type": "code",
   "execution_count": 16,
   "id": "80d123d4-b621-495a-8d0c-b112a293f768",
   "metadata": {},
   "outputs": [
    {
     "name": "stderr",
     "output_type": "stream",
     "text": [
      "I0000 00:00:1743729283.074270   66745 gpu_device.cc:2022] Created device /job:localhost/replica:0/task:0/device:GPU:0 with 6495 MB memory:  -> device: 0, name: NVIDIA GeForce RTX 2070 SUPER, pci bus id: 0000:01:00.0, compute capability: 7.5\n"
     ]
    },
    {
     "data": {
      "text/html": [
       "<pre style=\"white-space:pre;overflow-x:auto;line-height:normal;font-family:Menlo,'DejaVu Sans Mono',consolas,'Courier New',monospace\"><span style=\"font-weight: bold\">Model: \"sequential\"</span>\n",
       "</pre>\n"
      ],
      "text/plain": [
       "\u001b[1mModel: \"sequential\"\u001b[0m\n"
      ]
     },
     "metadata": {},
     "output_type": "display_data"
    },
    {
     "data": {
      "text/html": [
       "<pre style=\"white-space:pre;overflow-x:auto;line-height:normal;font-family:Menlo,'DejaVu Sans Mono',consolas,'Courier New',monospace\">┏━━━━━━━━━━━━━━━━━━━━━━━━━━━━━━━━━┳━━━━━━━━━━━━━━━━━━━━━━━━┳━━━━━━━━━━━━━━━┓\n",
       "┃<span style=\"font-weight: bold\"> Layer (type)                    </span>┃<span style=\"font-weight: bold\"> Output Shape           </span>┃<span style=\"font-weight: bold\">       Param # </span>┃\n",
       "┡━━━━━━━━━━━━━━━━━━━━━━━━━━━━━━━━━╇━━━━━━━━━━━━━━━━━━━━━━━━╇━━━━━━━━━━━━━━━┩\n",
       "│ conv_lstm2d (<span style=\"color: #0087ff; text-decoration-color: #0087ff\">ConvLSTM2D</span>)        │ (<span style=\"color: #00d7ff; text-decoration-color: #00d7ff\">None</span>, <span style=\"color: #00af00; text-decoration-color: #00af00\">5</span>, <span style=\"color: #00af00; text-decoration-color: #00af00\">40</span>, <span style=\"color: #00af00; text-decoration-color: #00af00\">40</span>, <span style=\"color: #00af00; text-decoration-color: #00af00\">15</span>)  │         <span style=\"color: #00af00; text-decoration-color: #00af00\">9,240</span> │\n",
       "├─────────────────────────────────┼────────────────────────┼───────────────┤\n",
       "│ conv_lstm2d_1 (<span style=\"color: #0087ff; text-decoration-color: #0087ff\">ConvLSTM2D</span>)      │ (<span style=\"color: #00d7ff; text-decoration-color: #00d7ff\">None</span>, <span style=\"color: #00af00; text-decoration-color: #00af00\">5</span>, <span style=\"color: #00af00; text-decoration-color: #00af00\">40</span>, <span style=\"color: #00af00; text-decoration-color: #00af00\">40</span>, <span style=\"color: #00af00; text-decoration-color: #00af00\">30</span>)  │        <span style=\"color: #00af00; text-decoration-color: #00af00\">48,720</span> │\n",
       "├─────────────────────────────────┼────────────────────────┼───────────────┤\n",
       "│ conv3d (<span style=\"color: #0087ff; text-decoration-color: #0087ff\">Conv3D</span>)                 │ (<span style=\"color: #00d7ff; text-decoration-color: #00d7ff\">None</span>, <span style=\"color: #00af00; text-decoration-color: #00af00\">5</span>, <span style=\"color: #00af00; text-decoration-color: #00af00\">40</span>, <span style=\"color: #00af00; text-decoration-color: #00af00\">40</span>, <span style=\"color: #00af00; text-decoration-color: #00af00\">15</span>)  │        <span style=\"color: #00af00; text-decoration-color: #00af00\">12,165</span> │\n",
       "├─────────────────────────────────┼────────────────────────┼───────────────┤\n",
       "│ conv3d_1 (<span style=\"color: #0087ff; text-decoration-color: #0087ff\">Conv3D</span>)               │ (<span style=\"color: #00d7ff; text-decoration-color: #00d7ff\">None</span>, <span style=\"color: #00af00; text-decoration-color: #00af00\">5</span>, <span style=\"color: #00af00; text-decoration-color: #00af00\">40</span>, <span style=\"color: #00af00; text-decoration-color: #00af00\">40</span>, <span style=\"color: #00af00; text-decoration-color: #00af00\">1</span>)   │           <span style=\"color: #00af00; text-decoration-color: #00af00\">406</span> │\n",
       "├─────────────────────────────────┼────────────────────────┼───────────────┤\n",
       "│ flatten (<span style=\"color: #0087ff; text-decoration-color: #0087ff\">Flatten</span>)               │ (<span style=\"color: #00d7ff; text-decoration-color: #00d7ff\">None</span>, <span style=\"color: #00af00; text-decoration-color: #00af00\">8000</span>)           │             <span style=\"color: #00af00; text-decoration-color: #00af00\">0</span> │\n",
       "├─────────────────────────────────┼────────────────────────┼───────────────┤\n",
       "│ dense (<span style=\"color: #0087ff; text-decoration-color: #0087ff\">Dense</span>)                   │ (<span style=\"color: #00d7ff; text-decoration-color: #00d7ff\">None</span>, <span style=\"color: #00af00; text-decoration-color: #00af00\">6</span>)              │        <span style=\"color: #00af00; text-decoration-color: #00af00\">48,006</span> │\n",
       "└─────────────────────────────────┴────────────────────────┴───────────────┘\n",
       "</pre>\n"
      ],
      "text/plain": [
       "┏━━━━━━━━━━━━━━━━━━━━━━━━━━━━━━━━━┳━━━━━━━━━━━━━━━━━━━━━━━━┳━━━━━━━━━━━━━━━┓\n",
       "┃\u001b[1m \u001b[0m\u001b[1mLayer (type)                   \u001b[0m\u001b[1m \u001b[0m┃\u001b[1m \u001b[0m\u001b[1mOutput Shape          \u001b[0m\u001b[1m \u001b[0m┃\u001b[1m \u001b[0m\u001b[1m      Param #\u001b[0m\u001b[1m \u001b[0m┃\n",
       "┡━━━━━━━━━━━━━━━━━━━━━━━━━━━━━━━━━╇━━━━━━━━━━━━━━━━━━━━━━━━╇━━━━━━━━━━━━━━━┩\n",
       "│ conv_lstm2d (\u001b[38;5;33mConvLSTM2D\u001b[0m)        │ (\u001b[38;5;45mNone\u001b[0m, \u001b[38;5;34m5\u001b[0m, \u001b[38;5;34m40\u001b[0m, \u001b[38;5;34m40\u001b[0m, \u001b[38;5;34m15\u001b[0m)  │         \u001b[38;5;34m9,240\u001b[0m │\n",
       "├─────────────────────────────────┼────────────────────────┼───────────────┤\n",
       "│ conv_lstm2d_1 (\u001b[38;5;33mConvLSTM2D\u001b[0m)      │ (\u001b[38;5;45mNone\u001b[0m, \u001b[38;5;34m5\u001b[0m, \u001b[38;5;34m40\u001b[0m, \u001b[38;5;34m40\u001b[0m, \u001b[38;5;34m30\u001b[0m)  │        \u001b[38;5;34m48,720\u001b[0m │\n",
       "├─────────────────────────────────┼────────────────────────┼───────────────┤\n",
       "│ conv3d (\u001b[38;5;33mConv3D\u001b[0m)                 │ (\u001b[38;5;45mNone\u001b[0m, \u001b[38;5;34m5\u001b[0m, \u001b[38;5;34m40\u001b[0m, \u001b[38;5;34m40\u001b[0m, \u001b[38;5;34m15\u001b[0m)  │        \u001b[38;5;34m12,165\u001b[0m │\n",
       "├─────────────────────────────────┼────────────────────────┼───────────────┤\n",
       "│ conv3d_1 (\u001b[38;5;33mConv3D\u001b[0m)               │ (\u001b[38;5;45mNone\u001b[0m, \u001b[38;5;34m5\u001b[0m, \u001b[38;5;34m40\u001b[0m, \u001b[38;5;34m40\u001b[0m, \u001b[38;5;34m1\u001b[0m)   │           \u001b[38;5;34m406\u001b[0m │\n",
       "├─────────────────────────────────┼────────────────────────┼───────────────┤\n",
       "│ flatten (\u001b[38;5;33mFlatten\u001b[0m)               │ (\u001b[38;5;45mNone\u001b[0m, \u001b[38;5;34m8000\u001b[0m)           │             \u001b[38;5;34m0\u001b[0m │\n",
       "├─────────────────────────────────┼────────────────────────┼───────────────┤\n",
       "│ dense (\u001b[38;5;33mDense\u001b[0m)                   │ (\u001b[38;5;45mNone\u001b[0m, \u001b[38;5;34m6\u001b[0m)              │        \u001b[38;5;34m48,006\u001b[0m │\n",
       "└─────────────────────────────────┴────────────────────────┴───────────────┘\n"
      ]
     },
     "metadata": {},
     "output_type": "display_data"
    },
    {
     "data": {
      "text/html": [
       "<pre style=\"white-space:pre;overflow-x:auto;line-height:normal;font-family:Menlo,'DejaVu Sans Mono',consolas,'Courier New',monospace\"><span style=\"font-weight: bold\"> Total params: </span><span style=\"color: #00af00; text-decoration-color: #00af00\">118,537</span> (463.04 KB)\n",
       "</pre>\n"
      ],
      "text/plain": [
       "\u001b[1m Total params: \u001b[0m\u001b[38;5;34m118,537\u001b[0m (463.04 KB)\n"
      ]
     },
     "metadata": {},
     "output_type": "display_data"
    },
    {
     "data": {
      "text/html": [
       "<pre style=\"white-space:pre;overflow-x:auto;line-height:normal;font-family:Menlo,'DejaVu Sans Mono',consolas,'Courier New',monospace\"><span style=\"font-weight: bold\"> Trainable params: </span><span style=\"color: #00af00; text-decoration-color: #00af00\">118,537</span> (463.04 KB)\n",
       "</pre>\n"
      ],
      "text/plain": [
       "\u001b[1m Trainable params: \u001b[0m\u001b[38;5;34m118,537\u001b[0m (463.04 KB)\n"
      ]
     },
     "metadata": {},
     "output_type": "display_data"
    },
    {
     "data": {
      "text/html": [
       "<pre style=\"white-space:pre;overflow-x:auto;line-height:normal;font-family:Menlo,'DejaVu Sans Mono',consolas,'Courier New',monospace\"><span style=\"font-weight: bold\"> Non-trainable params: </span><span style=\"color: #00af00; text-decoration-color: #00af00\">0</span> (0.00 B)\n",
       "</pre>\n"
      ],
      "text/plain": [
       "\u001b[1m Non-trainable params: \u001b[0m\u001b[38;5;34m0\u001b[0m (0.00 B)\n"
      ]
     },
     "metadata": {},
     "output_type": "display_data"
    }
   ],
   "source": [
    "tf.keras.backend.set_image_data_format('channels_last')\n",
    "\n",
    "seq = Sequential()\n",
    "\n",
    "seq.add(\n",
    "    InputLayer(shape=(5, 40, 40, 2))\n",
    ")\n",
    "\n",
    "seq.add(\n",
    "    ConvLSTM2D(\n",
    "            filters=15, \n",
    "            kernel_size=(3, 3),\n",
    "            padding='same', \n",
    "            return_sequences=True\n",
    "    )\n",
    ")\n",
    "\n",
    "seq.add(\n",
    "    ConvLSTM2D(\n",
    "        filters=30, \n",
    "        kernel_size=(3, 3),\n",
    "        padding='same', \n",
    "        return_sequences=True\n",
    "    )\n",
    ")\n",
    "\n",
    "seq.add(\n",
    "    Conv3D(\n",
    "        filters=15, \n",
    "        kernel_size=(3, 3, 3),\n",
    "        activation='relu',\n",
    "        padding='same'    \n",
    "    )\n",
    ")\n",
    "\n",
    "seq.add(\n",
    "    Conv3D(\n",
    "        filters=1, \n",
    "        kernel_size=(3, 3, 3),\n",
    "        activation='relu',\n",
    "        padding='same'\n",
    "    )\n",
    ")\n",
    "\n",
    "seq.add(Flatten())\n",
    "\n",
    "seq.add(Dense(6,activation='relu'))\n",
    "\n",
    "seq.compile(loss='mean_absolute_error', optimizer='adam')\n",
    "seq.summary()"
   ]
  },
  {
   "cell_type": "markdown",
   "id": "dc28f368-2fff-418d-89cb-c3f3f9296b55",
   "metadata": {},
   "source": [
    "# Train and test"
   ]
  },
  {
   "cell_type": "code",
   "execution_count": 17,
   "id": "9c7eefd7-0b13-4e3d-8c63-610fe2337546",
   "metadata": {},
   "outputs": [
    {
     "name": "stdout",
     "output_type": "stream",
     "text": [
      "Epoch 1/150\n"
     ]
    },
    {
     "name": "stderr",
     "output_type": "stream",
     "text": [
      "I0000 00:00:1743729285.533933   69866 service.cc:148] XLA service 0x73cf24004850 initialized for platform CUDA (this does not guarantee that XLA will be used). Devices:\n",
      "I0000 00:00:1743729285.533951   69866 service.cc:156]   StreamExecutor device (0): NVIDIA GeForce RTX 2070 SUPER, Compute Capability 7.5\n",
      "2025-04-03 18:14:45.586071: I tensorflow/compiler/mlir/tensorflow/utils/dump_mlir_util.cc:268] disabling MLIR crash reproducer, set env var `MLIR_CRASH_REPRODUCER_DIRECTORY` to enable.\n",
      "I0000 00:00:1743729285.844645   69866 cuda_dnn.cc:529] Loaded cuDNN version 90800\n",
      "2025-04-03 18:14:46.203251: I external/local_xla/xla/service/gpu/autotuning/conv_algorithm_picker.cc:557] Omitted potentially buggy algorithm eng14{k25=2} for conv (f32[16,30,40,40]{3,2,1,0}, u8[0]{0}) custom-call(f32[16,15,40,40]{3,2,1,0}, f32[30,15,3,3]{3,2,1,0}, f32[30]{0}, f32[16,30,40,40]{3,2,1,0}), window={size=3x3 pad=1_1x1_1}, dim_labels=bf01_oi01->bf01, custom_call_target=\"__cudnn$convBiasActivationForward\", backend_config={\"cudnn_conv_backend_config\":{\"activation_mode\":\"kNone\",\"conv_result_scale\":1,\"leakyrelu_alpha\":0,\"side_input_scale\":1},\"force_earliest_schedule\":false,\"operation_queue_id\":\"0\",\"wait_on_operation_queues\":[]}\n",
      "2025-04-03 18:14:46.342211: I external/local_xla/xla/service/gpu/autotuning/conv_algorithm_picker.cc:557] Omitted potentially buggy algorithm eng14{k25=2} for conv (f32[16,15,40,40]{3,2,1,0}, u8[0]{0}) custom-call(f32[16,2,40,40]{3,2,1,0}, f32[15,2,3,3]{3,2,1,0}, f32[15]{0}, f32[16,15,40,40]{3,2,1,0}), window={size=3x3 pad=1_1x1_1}, dim_labels=bf01_oi01->bf01, custom_call_target=\"__cudnn$convBiasActivationForward\", backend_config={\"cudnn_conv_backend_config\":{\"activation_mode\":\"kNone\",\"conv_result_scale\":1,\"leakyrelu_alpha\":0,\"side_input_scale\":1},\"force_earliest_schedule\":false,\"operation_queue_id\":\"0\",\"wait_on_operation_queues\":[]}\n"
     ]
    },
    {
     "name": "stdout",
     "output_type": "stream",
     "text": [
      "\u001b[1m7/8\u001b[0m \u001b[32m━━━━━━━━━━━━━━━━━\u001b[0m\u001b[37m━━━\u001b[0m \u001b[1m0s\u001b[0m 26ms/step - loss: 13.1578"
     ]
    },
    {
     "name": "stderr",
     "output_type": "stream",
     "text": [
      "I0000 00:00:1743729287.827194   69866 device_compiler.h:188] Compiled cluster using XLA!  This line is logged at most once for the lifetime of the process.\n",
      "2025-04-03 18:14:48.486083: I external/local_xla/xla/service/gpu/autotuning/conv_algorithm_picker.cc:557] Omitted potentially buggy algorithm eng14{k25=2} for conv (f32[10,30,40,40]{3,2,1,0}, u8[0]{0}) custom-call(f32[10,15,40,40]{3,2,1,0}, f32[30,15,3,3]{3,2,1,0}, f32[30]{0}, f32[10,30,40,40]{3,2,1,0}), window={size=3x3 pad=1_1x1_1}, dim_labels=bf01_oi01->bf01, custom_call_target=\"__cudnn$convBiasActivationForward\", backend_config={\"cudnn_conv_backend_config\":{\"activation_mode\":\"kNone\",\"conv_result_scale\":1,\"leakyrelu_alpha\":0,\"side_input_scale\":1},\"force_earliest_schedule\":false,\"operation_queue_id\":\"0\",\"wait_on_operation_queues\":[]}\n",
      "2025-04-03 18:14:48.604642: I external/local_xla/xla/service/gpu/autotuning/conv_algorithm_picker.cc:557] Omitted potentially buggy algorithm eng14{k25=2} for conv (f32[10,15,40,40]{3,2,1,0}, u8[0]{0}) custom-call(f32[10,2,40,40]{3,2,1,0}, f32[15,2,3,3]{3,2,1,0}, f32[15]{0}, f32[10,15,40,40]{3,2,1,0}), window={size=3x3 pad=1_1x1_1}, dim_labels=bf01_oi01->bf01, custom_call_target=\"__cudnn$convBiasActivationForward\", backend_config={\"cudnn_conv_backend_config\":{\"activation_mode\":\"kNone\",\"conv_result_scale\":1,\"leakyrelu_alpha\":0,\"side_input_scale\":1},\"force_earliest_schedule\":false,\"operation_queue_id\":\"0\",\"wait_on_operation_queues\":[]}\n"
     ]
    },
    {
     "name": "stdout",
     "output_type": "stream",
     "text": [
      "\u001b[1m8/8\u001b[0m \u001b[32m━━━━━━━━━━━━━━━━━━━━\u001b[0m\u001b[37m\u001b[0m \u001b[1m6s\u001b[0m 308ms/step - loss: 12.7085\n",
      "Epoch 2/150\n",
      "\u001b[1m8/8\u001b[0m \u001b[32m━━━━━━━━━━━━━━━━━━━━\u001b[0m\u001b[37m\u001b[0m \u001b[1m0s\u001b[0m 25ms/step - loss: 6.8032\n",
      "Epoch 3/150\n",
      "\u001b[1m8/8\u001b[0m \u001b[32m━━━━━━━━━━━━━━━━━━━━\u001b[0m\u001b[37m\u001b[0m \u001b[1m0s\u001b[0m 25ms/step - loss: 6.2620\n",
      "Epoch 4/150\n",
      "\u001b[1m8/8\u001b[0m \u001b[32m━━━━━━━━━━━━━━━━━━━━\u001b[0m\u001b[37m\u001b[0m \u001b[1m0s\u001b[0m 25ms/step - loss: 5.6010\n",
      "Epoch 5/150\n",
      "\u001b[1m8/8\u001b[0m \u001b[32m━━━━━━━━━━━━━━━━━━━━\u001b[0m\u001b[37m\u001b[0m \u001b[1m0s\u001b[0m 25ms/step - loss: 5.1974\n",
      "Epoch 6/150\n",
      "\u001b[1m8/8\u001b[0m \u001b[32m━━━━━━━━━━━━━━━━━━━━\u001b[0m\u001b[37m\u001b[0m \u001b[1m0s\u001b[0m 25ms/step - loss: 4.9608\n",
      "Epoch 7/150\n",
      "\u001b[1m8/8\u001b[0m \u001b[32m━━━━━━━━━━━━━━━━━━━━\u001b[0m\u001b[37m\u001b[0m \u001b[1m0s\u001b[0m 25ms/step - loss: 4.3802\n",
      "Epoch 8/150\n",
      "\u001b[1m8/8\u001b[0m \u001b[32m━━━━━━━━━━━━━━━━━━━━\u001b[0m\u001b[37m\u001b[0m \u001b[1m0s\u001b[0m 25ms/step - loss: 4.3423\n",
      "Epoch 9/150\n",
      "\u001b[1m8/8\u001b[0m \u001b[32m━━━━━━━━━━━━━━━━━━━━\u001b[0m\u001b[37m\u001b[0m \u001b[1m0s\u001b[0m 25ms/step - loss: 5.0336\n",
      "Epoch 10/150\n",
      "\u001b[1m8/8\u001b[0m \u001b[32m━━━━━━━━━━━━━━━━━━━━\u001b[0m\u001b[37m\u001b[0m \u001b[1m0s\u001b[0m 25ms/step - loss: 4.9484\n",
      "Epoch 11/150\n",
      "\u001b[1m8/8\u001b[0m \u001b[32m━━━━━━━━━━━━━━━━━━━━\u001b[0m\u001b[37m\u001b[0m \u001b[1m0s\u001b[0m 25ms/step - loss: 4.4683\n",
      "Epoch 12/150\n",
      "\u001b[1m8/8\u001b[0m \u001b[32m━━━━━━━━━━━━━━━━━━━━\u001b[0m\u001b[37m\u001b[0m \u001b[1m0s\u001b[0m 25ms/step - loss: 4.4830\n",
      "Epoch 13/150\n",
      "\u001b[1m8/8\u001b[0m \u001b[32m━━━━━━━━━━━━━━━━━━━━\u001b[0m\u001b[37m\u001b[0m \u001b[1m0s\u001b[0m 25ms/step - loss: 4.0848\n",
      "Epoch 14/150\n",
      "\u001b[1m8/8\u001b[0m \u001b[32m━━━━━━━━━━━━━━━━━━━━\u001b[0m\u001b[37m\u001b[0m \u001b[1m0s\u001b[0m 25ms/step - loss: 3.9889\n",
      "Epoch 15/150\n",
      "\u001b[1m8/8\u001b[0m \u001b[32m━━━━━━━━━━━━━━━━━━━━\u001b[0m\u001b[37m\u001b[0m \u001b[1m0s\u001b[0m 25ms/step - loss: 3.3550\n",
      "Epoch 16/150\n",
      "\u001b[1m8/8\u001b[0m \u001b[32m━━━━━━━━━━━━━━━━━━━━\u001b[0m\u001b[37m\u001b[0m \u001b[1m0s\u001b[0m 25ms/step - loss: 3.1966\n",
      "Epoch 17/150\n",
      "\u001b[1m8/8\u001b[0m \u001b[32m━━━━━━━━━━━━━━━━━━━━\u001b[0m\u001b[37m\u001b[0m \u001b[1m0s\u001b[0m 25ms/step - loss: 3.4530\n",
      "Epoch 18/150\n",
      "\u001b[1m8/8\u001b[0m \u001b[32m━━━━━━━━━━━━━━━━━━━━\u001b[0m\u001b[37m\u001b[0m \u001b[1m0s\u001b[0m 25ms/step - loss: 3.8409\n",
      "Epoch 19/150\n",
      "\u001b[1m8/8\u001b[0m \u001b[32m━━━━━━━━━━━━━━━━━━━━\u001b[0m\u001b[37m\u001b[0m \u001b[1m0s\u001b[0m 25ms/step - loss: 3.6030\n",
      "Epoch 20/150\n",
      "\u001b[1m8/8\u001b[0m \u001b[32m━━━━━━━━━━━━━━━━━━━━\u001b[0m\u001b[37m\u001b[0m \u001b[1m0s\u001b[0m 25ms/step - loss: 3.2964\n",
      "Epoch 21/150\n",
      "\u001b[1m8/8\u001b[0m \u001b[32m━━━━━━━━━━━━━━━━━━━━\u001b[0m\u001b[37m\u001b[0m \u001b[1m0s\u001b[0m 25ms/step - loss: 2.9252\n",
      "Epoch 22/150\n",
      "\u001b[1m8/8\u001b[0m \u001b[32m━━━━━━━━━━━━━━━━━━━━\u001b[0m\u001b[37m\u001b[0m \u001b[1m0s\u001b[0m 25ms/step - loss: 3.0136\n",
      "Epoch 23/150\n",
      "\u001b[1m8/8\u001b[0m \u001b[32m━━━━━━━━━━━━━━━━━━━━\u001b[0m\u001b[37m\u001b[0m \u001b[1m0s\u001b[0m 25ms/step - loss: 2.7105\n",
      "Epoch 24/150\n",
      "\u001b[1m8/8\u001b[0m \u001b[32m━━━━━━━━━━━━━━━━━━━━\u001b[0m\u001b[37m\u001b[0m \u001b[1m0s\u001b[0m 25ms/step - loss: 3.1140\n",
      "Epoch 25/150\n",
      "\u001b[1m8/8\u001b[0m \u001b[32m━━━━━━━━━━━━━━━━━━━━\u001b[0m\u001b[37m\u001b[0m \u001b[1m0s\u001b[0m 25ms/step - loss: 2.8191\n",
      "Epoch 26/150\n",
      "\u001b[1m8/8\u001b[0m \u001b[32m━━━━━━━━━━━━━━━━━━━━\u001b[0m\u001b[37m\u001b[0m \u001b[1m0s\u001b[0m 25ms/step - loss: 2.8926\n",
      "Epoch 27/150\n",
      "\u001b[1m8/8\u001b[0m \u001b[32m━━━━━━━━━━━━━━━━━━━━\u001b[0m\u001b[37m\u001b[0m \u001b[1m0s\u001b[0m 26ms/step - loss: 2.6826\n",
      "Epoch 28/150\n",
      "\u001b[1m8/8\u001b[0m \u001b[32m━━━━━━━━━━━━━━━━━━━━\u001b[0m\u001b[37m\u001b[0m \u001b[1m0s\u001b[0m 25ms/step - loss: 2.8777\n",
      "Epoch 29/150\n",
      "\u001b[1m8/8\u001b[0m \u001b[32m━━━━━━━━━━━━━━━━━━━━\u001b[0m\u001b[37m\u001b[0m \u001b[1m0s\u001b[0m 25ms/step - loss: 2.7703\n",
      "Epoch 30/150\n",
      "\u001b[1m8/8\u001b[0m \u001b[32m━━━━━━━━━━━━━━━━━━━━\u001b[0m\u001b[37m\u001b[0m \u001b[1m0s\u001b[0m 25ms/step - loss: 2.9374\n",
      "Epoch 31/150\n",
      "\u001b[1m8/8\u001b[0m \u001b[32m━━━━━━━━━━━━━━━━━━━━\u001b[0m\u001b[37m\u001b[0m \u001b[1m0s\u001b[0m 25ms/step - loss: 2.5422\n",
      "Epoch 32/150\n",
      "\u001b[1m8/8\u001b[0m \u001b[32m━━━━━━━━━━━━━━━━━━━━\u001b[0m\u001b[37m\u001b[0m \u001b[1m0s\u001b[0m 25ms/step - loss: 2.4010\n",
      "Epoch 33/150\n",
      "\u001b[1m8/8\u001b[0m \u001b[32m━━━━━━━━━━━━━━━━━━━━\u001b[0m\u001b[37m\u001b[0m \u001b[1m0s\u001b[0m 25ms/step - loss: 2.2084\n",
      "Epoch 34/150\n",
      "\u001b[1m8/8\u001b[0m \u001b[32m━━━━━━━━━━━━━━━━━━━━\u001b[0m\u001b[37m\u001b[0m \u001b[1m0s\u001b[0m 25ms/step - loss: 2.2843\n",
      "Epoch 35/150\n",
      "\u001b[1m8/8\u001b[0m \u001b[32m━━━━━━━━━━━━━━━━━━━━\u001b[0m\u001b[37m\u001b[0m \u001b[1m0s\u001b[0m 25ms/step - loss: 2.5983\n",
      "Epoch 36/150\n",
      "\u001b[1m8/8\u001b[0m \u001b[32m━━━━━━━━━━━━━━━━━━━━\u001b[0m\u001b[37m\u001b[0m \u001b[1m0s\u001b[0m 26ms/step - loss: 2.4632\n",
      "Epoch 37/150\n",
      "\u001b[1m8/8\u001b[0m \u001b[32m━━━━━━━━━━━━━━━━━━━━\u001b[0m\u001b[37m\u001b[0m \u001b[1m0s\u001b[0m 26ms/step - loss: 2.9629\n",
      "Epoch 38/150\n",
      "\u001b[1m8/8\u001b[0m \u001b[32m━━━━━━━━━━━━━━━━━━━━\u001b[0m\u001b[37m\u001b[0m \u001b[1m0s\u001b[0m 25ms/step - loss: 2.6395\n",
      "Epoch 39/150\n",
      "\u001b[1m8/8\u001b[0m \u001b[32m━━━━━━━━━━━━━━━━━━━━\u001b[0m\u001b[37m\u001b[0m \u001b[1m0s\u001b[0m 26ms/step - loss: 2.1924\n",
      "Epoch 40/150\n",
      "\u001b[1m8/8\u001b[0m \u001b[32m━━━━━━━━━━━━━━━━━━━━\u001b[0m\u001b[37m\u001b[0m \u001b[1m0s\u001b[0m 25ms/step - loss: 2.3209\n",
      "Epoch 41/150\n",
      "\u001b[1m8/8\u001b[0m \u001b[32m━━━━━━━━━━━━━━━━━━━━\u001b[0m\u001b[37m\u001b[0m \u001b[1m0s\u001b[0m 25ms/step - loss: 2.1355\n",
      "Epoch 42/150\n",
      "\u001b[1m8/8\u001b[0m \u001b[32m━━━━━━━━━━━━━━━━━━━━\u001b[0m\u001b[37m\u001b[0m \u001b[1m0s\u001b[0m 25ms/step - loss: 2.3225\n",
      "Epoch 43/150\n",
      "\u001b[1m8/8\u001b[0m \u001b[32m━━━━━━━━━━━━━━━━━━━━\u001b[0m\u001b[37m\u001b[0m \u001b[1m0s\u001b[0m 25ms/step - loss: 2.1406\n",
      "Epoch 44/150\n",
      "\u001b[1m8/8\u001b[0m \u001b[32m━━━━━━━━━━━━━━━━━━━━\u001b[0m\u001b[37m\u001b[0m \u001b[1m0s\u001b[0m 25ms/step - loss: 2.1314\n",
      "Epoch 45/150\n",
      "\u001b[1m8/8\u001b[0m \u001b[32m━━━━━━━━━━━━━━━━━━━━\u001b[0m\u001b[37m\u001b[0m \u001b[1m0s\u001b[0m 26ms/step - loss: 1.9310\n",
      "Epoch 46/150\n",
      "\u001b[1m8/8\u001b[0m \u001b[32m━━━━━━━━━━━━━━━━━━━━\u001b[0m\u001b[37m\u001b[0m \u001b[1m0s\u001b[0m 25ms/step - loss: 2.0652\n",
      "Epoch 47/150\n",
      "\u001b[1m8/8\u001b[0m \u001b[32m━━━━━━━━━━━━━━━━━━━━\u001b[0m\u001b[37m\u001b[0m \u001b[1m0s\u001b[0m 25ms/step - loss: 2.1779\n",
      "Epoch 48/150\n",
      "\u001b[1m8/8\u001b[0m \u001b[32m━━━━━━━━━━━━━━━━━━━━\u001b[0m\u001b[37m\u001b[0m \u001b[1m0s\u001b[0m 25ms/step - loss: 1.8777\n",
      "Epoch 49/150\n",
      "\u001b[1m8/8\u001b[0m \u001b[32m━━━━━━━━━━━━━━━━━━━━\u001b[0m\u001b[37m\u001b[0m \u001b[1m0s\u001b[0m 25ms/step - loss: 1.9130\n",
      "Epoch 50/150\n",
      "\u001b[1m8/8\u001b[0m \u001b[32m━━━━━━━━━━━━━━━━━━━━\u001b[0m\u001b[37m\u001b[0m \u001b[1m0s\u001b[0m 25ms/step - loss: 1.8981\n",
      "Epoch 51/150\n",
      "\u001b[1m8/8\u001b[0m \u001b[32m━━━━━━━━━━━━━━━━━━━━\u001b[0m\u001b[37m\u001b[0m \u001b[1m0s\u001b[0m 25ms/step - loss: 1.8915\n",
      "Epoch 52/150\n",
      "\u001b[1m8/8\u001b[0m \u001b[32m━━━━━━━━━━━━━━━━━━━━\u001b[0m\u001b[37m\u001b[0m \u001b[1m0s\u001b[0m 25ms/step - loss: 2.0729\n",
      "Epoch 53/150\n",
      "\u001b[1m8/8\u001b[0m \u001b[32m━━━━━━━━━━━━━━━━━━━━\u001b[0m\u001b[37m\u001b[0m \u001b[1m0s\u001b[0m 25ms/step - loss: 1.7079\n",
      "Epoch 54/150\n",
      "\u001b[1m8/8\u001b[0m \u001b[32m━━━━━━━━━━━━━━━━━━━━\u001b[0m\u001b[37m\u001b[0m \u001b[1m0s\u001b[0m 26ms/step - loss: 1.9429\n",
      "Epoch 55/150\n",
      "\u001b[1m8/8\u001b[0m \u001b[32m━━━━━━━━━━━━━━━━━━━━\u001b[0m\u001b[37m\u001b[0m \u001b[1m0s\u001b[0m 25ms/step - loss: 2.1372\n",
      "Epoch 56/150\n",
      "\u001b[1m8/8\u001b[0m \u001b[32m━━━━━━━━━━━━━━━━━━━━\u001b[0m\u001b[37m\u001b[0m \u001b[1m0s\u001b[0m 25ms/step - loss: 2.0467\n",
      "Epoch 57/150\n",
      "\u001b[1m8/8\u001b[0m \u001b[32m━━━━━━━━━━━━━━━━━━━━\u001b[0m\u001b[37m\u001b[0m \u001b[1m0s\u001b[0m 25ms/step - loss: 2.0159\n",
      "Epoch 58/150\n",
      "\u001b[1m8/8\u001b[0m \u001b[32m━━━━━━━━━━━━━━━━━━━━\u001b[0m\u001b[37m\u001b[0m \u001b[1m0s\u001b[0m 25ms/step - loss: 1.7891\n",
      "Epoch 59/150\n",
      "\u001b[1m8/8\u001b[0m \u001b[32m━━━━━━━━━━━━━━━━━━━━\u001b[0m\u001b[37m\u001b[0m \u001b[1m0s\u001b[0m 25ms/step - loss: 2.0241\n",
      "Epoch 60/150\n",
      "\u001b[1m8/8\u001b[0m \u001b[32m━━━━━━━━━━━━━━━━━━━━\u001b[0m\u001b[37m\u001b[0m \u001b[1m0s\u001b[0m 25ms/step - loss: 1.9898\n",
      "Epoch 61/150\n",
      "\u001b[1m8/8\u001b[0m \u001b[32m━━━━━━━━━━━━━━━━━━━━\u001b[0m\u001b[37m\u001b[0m \u001b[1m0s\u001b[0m 25ms/step - loss: 1.9504\n",
      "Epoch 62/150\n",
      "\u001b[1m8/8\u001b[0m \u001b[32m━━━━━━━━━━━━━━━━━━━━\u001b[0m\u001b[37m\u001b[0m \u001b[1m0s\u001b[0m 25ms/step - loss: 1.8005\n",
      "Epoch 63/150\n",
      "\u001b[1m8/8\u001b[0m \u001b[32m━━━━━━━━━━━━━━━━━━━━\u001b[0m\u001b[37m\u001b[0m \u001b[1m0s\u001b[0m 25ms/step - loss: 2.4122\n",
      "Epoch 64/150\n",
      "\u001b[1m8/8\u001b[0m \u001b[32m━━━━━━━━━━━━━━━━━━━━\u001b[0m\u001b[37m\u001b[0m \u001b[1m0s\u001b[0m 25ms/step - loss: 2.2475\n",
      "Epoch 65/150\n",
      "\u001b[1m8/8\u001b[0m \u001b[32m━━━━━━━━━━━━━━━━━━━━\u001b[0m\u001b[37m\u001b[0m \u001b[1m0s\u001b[0m 25ms/step - loss: 1.8873\n",
      "Epoch 66/150\n",
      "\u001b[1m8/8\u001b[0m \u001b[32m━━━━━━━━━━━━━━━━━━━━\u001b[0m\u001b[37m\u001b[0m \u001b[1m0s\u001b[0m 25ms/step - loss: 1.8631\n",
      "Epoch 67/150\n",
      "\u001b[1m8/8\u001b[0m \u001b[32m━━━━━━━━━━━━━━━━━━━━\u001b[0m\u001b[37m\u001b[0m \u001b[1m0s\u001b[0m 25ms/step - loss: 2.0225\n",
      "Epoch 68/150\n",
      "\u001b[1m8/8\u001b[0m \u001b[32m━━━━━━━━━━━━━━━━━━━━\u001b[0m\u001b[37m\u001b[0m \u001b[1m0s\u001b[0m 25ms/step - loss: 2.1098\n",
      "Epoch 69/150\n",
      "\u001b[1m8/8\u001b[0m \u001b[32m━━━━━━━━━━━━━━━━━━━━\u001b[0m\u001b[37m\u001b[0m \u001b[1m0s\u001b[0m 25ms/step - loss: 2.0576\n",
      "Epoch 70/150\n",
      "\u001b[1m8/8\u001b[0m \u001b[32m━━━━━━━━━━━━━━━━━━━━\u001b[0m\u001b[37m\u001b[0m \u001b[1m0s\u001b[0m 25ms/step - loss: 1.7285\n",
      "Epoch 71/150\n",
      "\u001b[1m8/8\u001b[0m \u001b[32m━━━━━━━━━━━━━━━━━━━━\u001b[0m\u001b[37m\u001b[0m \u001b[1m0s\u001b[0m 25ms/step - loss: 1.7853\n",
      "Epoch 72/150\n",
      "\u001b[1m8/8\u001b[0m \u001b[32m━━━━━━━━━━━━━━━━━━━━\u001b[0m\u001b[37m\u001b[0m \u001b[1m0s\u001b[0m 25ms/step - loss: 1.7688\n",
      "Epoch 73/150\n",
      "\u001b[1m8/8\u001b[0m \u001b[32m━━━━━━━━━━━━━━━━━━━━\u001b[0m\u001b[37m\u001b[0m \u001b[1m0s\u001b[0m 25ms/step - loss: 1.6261\n",
      "Epoch 74/150\n",
      "\u001b[1m8/8\u001b[0m \u001b[32m━━━━━━━━━━━━━━━━━━━━\u001b[0m\u001b[37m\u001b[0m \u001b[1m0s\u001b[0m 25ms/step - loss: 1.6259\n",
      "Epoch 75/150\n",
      "\u001b[1m8/8\u001b[0m \u001b[32m━━━━━━━━━━━━━━━━━━━━\u001b[0m\u001b[37m\u001b[0m \u001b[1m0s\u001b[0m 25ms/step - loss: 1.7110\n",
      "Epoch 76/150\n",
      "\u001b[1m8/8\u001b[0m \u001b[32m━━━━━━━━━━━━━━━━━━━━\u001b[0m\u001b[37m\u001b[0m \u001b[1m0s\u001b[0m 25ms/step - loss: 1.6572\n",
      "Epoch 77/150\n",
      "\u001b[1m8/8\u001b[0m \u001b[32m━━━━━━━━━━━━━━━━━━━━\u001b[0m\u001b[37m\u001b[0m \u001b[1m0s\u001b[0m 25ms/step - loss: 1.6000\n",
      "Epoch 78/150\n",
      "\u001b[1m8/8\u001b[0m \u001b[32m━━━━━━━━━━━━━━━━━━━━\u001b[0m\u001b[37m\u001b[0m \u001b[1m0s\u001b[0m 25ms/step - loss: 1.6634\n",
      "Epoch 79/150\n",
      "\u001b[1m8/8\u001b[0m \u001b[32m━━━━━━━━━━━━━━━━━━━━\u001b[0m\u001b[37m\u001b[0m \u001b[1m0s\u001b[0m 25ms/step - loss: 1.5043\n",
      "Epoch 80/150\n",
      "\u001b[1m8/8\u001b[0m \u001b[32m━━━━━━━━━━━━━━━━━━━━\u001b[0m\u001b[37m\u001b[0m \u001b[1m0s\u001b[0m 25ms/step - loss: 1.6868\n",
      "Epoch 81/150\n",
      "\u001b[1m8/8\u001b[0m \u001b[32m━━━━━━━━━━━━━━━━━━━━\u001b[0m\u001b[37m\u001b[0m \u001b[1m0s\u001b[0m 25ms/step - loss: 1.6532\n",
      "Epoch 82/150\n",
      "\u001b[1m8/8\u001b[0m \u001b[32m━━━━━━━━━━━━━━━━━━━━\u001b[0m\u001b[37m\u001b[0m \u001b[1m0s\u001b[0m 26ms/step - loss: 1.7584\n",
      "Epoch 83/150\n",
      "\u001b[1m8/8\u001b[0m \u001b[32m━━━━━━━━━━━━━━━━━━━━\u001b[0m\u001b[37m\u001b[0m \u001b[1m0s\u001b[0m 25ms/step - loss: 1.7491\n",
      "Epoch 84/150\n",
      "\u001b[1m8/8\u001b[0m \u001b[32m━━━━━━━━━━━━━━━━━━━━\u001b[0m\u001b[37m\u001b[0m \u001b[1m0s\u001b[0m 25ms/step - loss: 1.5738\n",
      "Epoch 85/150\n",
      "\u001b[1m8/8\u001b[0m \u001b[32m━━━━━━━━━━━━━━━━━━━━\u001b[0m\u001b[37m\u001b[0m \u001b[1m0s\u001b[0m 26ms/step - loss: 1.5731\n",
      "Epoch 86/150\n",
      "\u001b[1m8/8\u001b[0m \u001b[32m━━━━━━━━━━━━━━━━━━━━\u001b[0m\u001b[37m\u001b[0m \u001b[1m0s\u001b[0m 25ms/step - loss: 1.6545\n",
      "Epoch 87/150\n",
      "\u001b[1m8/8\u001b[0m \u001b[32m━━━━━━━━━━━━━━━━━━━━\u001b[0m\u001b[37m\u001b[0m \u001b[1m0s\u001b[0m 25ms/step - loss: 1.6070\n",
      "Epoch 88/150\n",
      "\u001b[1m8/8\u001b[0m \u001b[32m━━━━━━━━━━━━━━━━━━━━\u001b[0m\u001b[37m\u001b[0m \u001b[1m0s\u001b[0m 25ms/step - loss: 1.5099\n",
      "Epoch 89/150\n",
      "\u001b[1m8/8\u001b[0m \u001b[32m━━━━━━━━━━━━━━━━━━━━\u001b[0m\u001b[37m\u001b[0m \u001b[1m0s\u001b[0m 25ms/step - loss: 1.6678\n",
      "Epoch 90/150\n",
      "\u001b[1m8/8\u001b[0m \u001b[32m━━━━━━━━━━━━━━━━━━━━\u001b[0m\u001b[37m\u001b[0m \u001b[1m0s\u001b[0m 25ms/step - loss: 1.6838\n",
      "Epoch 91/150\n",
      "\u001b[1m8/8\u001b[0m \u001b[32m━━━━━━━━━━━━━━━━━━━━\u001b[0m\u001b[37m\u001b[0m \u001b[1m0s\u001b[0m 26ms/step - loss: 1.6369\n",
      "Epoch 92/150\n",
      "\u001b[1m8/8\u001b[0m \u001b[32m━━━━━━━━━━━━━━━━━━━━\u001b[0m\u001b[37m\u001b[0m \u001b[1m0s\u001b[0m 25ms/step - loss: 1.5032\n",
      "Epoch 93/150\n",
      "\u001b[1m8/8\u001b[0m \u001b[32m━━━━━━━━━━━━━━━━━━━━\u001b[0m\u001b[37m\u001b[0m \u001b[1m0s\u001b[0m 25ms/step - loss: 1.5246\n",
      "Epoch 94/150\n",
      "\u001b[1m8/8\u001b[0m \u001b[32m━━━━━━━━━━━━━━━━━━━━\u001b[0m\u001b[37m\u001b[0m \u001b[1m0s\u001b[0m 25ms/step - loss: 1.4626\n",
      "Epoch 95/150\n",
      "\u001b[1m8/8\u001b[0m \u001b[32m━━━━━━━━━━━━━━━━━━━━\u001b[0m\u001b[37m\u001b[0m \u001b[1m0s\u001b[0m 25ms/step - loss: 1.6673\n",
      "Epoch 96/150\n",
      "\u001b[1m8/8\u001b[0m \u001b[32m━━━━━━━━━━━━━━━━━━━━\u001b[0m\u001b[37m\u001b[0m \u001b[1m0s\u001b[0m 25ms/step - loss: 1.6833\n",
      "Epoch 97/150\n",
      "\u001b[1m8/8\u001b[0m \u001b[32m━━━━━━━━━━━━━━━━━━━━\u001b[0m\u001b[37m\u001b[0m \u001b[1m0s\u001b[0m 25ms/step - loss: 1.5435\n",
      "Epoch 98/150\n",
      "\u001b[1m8/8\u001b[0m \u001b[32m━━━━━━━━━━━━━━━━━━━━\u001b[0m\u001b[37m\u001b[0m \u001b[1m0s\u001b[0m 25ms/step - loss: 1.7303\n",
      "Epoch 99/150\n",
      "\u001b[1m8/8\u001b[0m \u001b[32m━━━━━━━━━━━━━━━━━━━━\u001b[0m\u001b[37m\u001b[0m \u001b[1m0s\u001b[0m 25ms/step - loss: 1.6212\n",
      "Epoch 100/150\n",
      "\u001b[1m8/8\u001b[0m \u001b[32m━━━━━━━━━━━━━━━━━━━━\u001b[0m\u001b[37m\u001b[0m \u001b[1m0s\u001b[0m 26ms/step - loss: 1.6353\n",
      "Epoch 101/150\n",
      "\u001b[1m8/8\u001b[0m \u001b[32m━━━━━━━━━━━━━━━━━━━━\u001b[0m\u001b[37m\u001b[0m \u001b[1m0s\u001b[0m 25ms/step - loss: 1.4615\n",
      "Epoch 102/150\n",
      "\u001b[1m8/8\u001b[0m \u001b[32m━━━━━━━━━━━━━━━━━━━━\u001b[0m\u001b[37m\u001b[0m \u001b[1m0s\u001b[0m 26ms/step - loss: 1.6611\n",
      "Epoch 103/150\n",
      "\u001b[1m8/8\u001b[0m \u001b[32m━━━━━━━━━━━━━━━━━━━━\u001b[0m\u001b[37m\u001b[0m \u001b[1m0s\u001b[0m 25ms/step - loss: 1.3971\n",
      "Epoch 104/150\n",
      "\u001b[1m8/8\u001b[0m \u001b[32m━━━━━━━━━━━━━━━━━━━━\u001b[0m\u001b[37m\u001b[0m \u001b[1m0s\u001b[0m 25ms/step - loss: 1.5547\n",
      "Epoch 105/150\n",
      "\u001b[1m8/8\u001b[0m \u001b[32m━━━━━━━━━━━━━━━━━━━━\u001b[0m\u001b[37m\u001b[0m \u001b[1m0s\u001b[0m 25ms/step - loss: 1.4804\n",
      "Epoch 106/150\n",
      "\u001b[1m8/8\u001b[0m \u001b[32m━━━━━━━━━━━━━━━━━━━━\u001b[0m\u001b[37m\u001b[0m \u001b[1m0s\u001b[0m 25ms/step - loss: 1.5212\n",
      "Epoch 107/150\n",
      "\u001b[1m8/8\u001b[0m \u001b[32m━━━━━━━━━━━━━━━━━━━━\u001b[0m\u001b[37m\u001b[0m \u001b[1m0s\u001b[0m 25ms/step - loss: 1.3464\n",
      "Epoch 108/150\n",
      "\u001b[1m8/8\u001b[0m \u001b[32m━━━━━━━━━━━━━━━━━━━━\u001b[0m\u001b[37m\u001b[0m \u001b[1m0s\u001b[0m 25ms/step - loss: 1.4722\n",
      "Epoch 109/150\n",
      "\u001b[1m8/8\u001b[0m \u001b[32m━━━━━━━━━━━━━━━━━━━━\u001b[0m\u001b[37m\u001b[0m \u001b[1m0s\u001b[0m 26ms/step - loss: 1.2979\n",
      "Epoch 110/150\n",
      "\u001b[1m8/8\u001b[0m \u001b[32m━━━━━━━━━━━━━━━━━━━━\u001b[0m\u001b[37m\u001b[0m \u001b[1m0s\u001b[0m 26ms/step - loss: 1.4466\n",
      "Epoch 111/150\n",
      "\u001b[1m8/8\u001b[0m \u001b[32m━━━━━━━━━━━━━━━━━━━━\u001b[0m\u001b[37m\u001b[0m \u001b[1m0s\u001b[0m 25ms/step - loss: 1.5108\n",
      "Epoch 112/150\n",
      "\u001b[1m8/8\u001b[0m \u001b[32m━━━━━━━━━━━━━━━━━━━━\u001b[0m\u001b[37m\u001b[0m \u001b[1m0s\u001b[0m 26ms/step - loss: 1.3076\n",
      "Epoch 113/150\n",
      "\u001b[1m8/8\u001b[0m \u001b[32m━━━━━━━━━━━━━━━━━━━━\u001b[0m\u001b[37m\u001b[0m \u001b[1m0s\u001b[0m 26ms/step - loss: 1.3581\n",
      "Epoch 114/150\n",
      "\u001b[1m8/8\u001b[0m \u001b[32m━━━━━━━━━━━━━━━━━━━━\u001b[0m\u001b[37m\u001b[0m \u001b[1m0s\u001b[0m 26ms/step - loss: 1.4237\n",
      "Epoch 115/150\n",
      "\u001b[1m8/8\u001b[0m \u001b[32m━━━━━━━━━━━━━━━━━━━━\u001b[0m\u001b[37m\u001b[0m \u001b[1m0s\u001b[0m 26ms/step - loss: 1.4000\n",
      "Epoch 116/150\n",
      "\u001b[1m8/8\u001b[0m \u001b[32m━━━━━━━━━━━━━━━━━━━━\u001b[0m\u001b[37m\u001b[0m \u001b[1m0s\u001b[0m 26ms/step - loss: 1.3859\n",
      "Epoch 117/150\n",
      "\u001b[1m8/8\u001b[0m \u001b[32m━━━━━━━━━━━━━━━━━━━━\u001b[0m\u001b[37m\u001b[0m \u001b[1m0s\u001b[0m 25ms/step - loss: 1.3109\n",
      "Epoch 118/150\n",
      "\u001b[1m8/8\u001b[0m \u001b[32m━━━━━━━━━━━━━━━━━━━━\u001b[0m\u001b[37m\u001b[0m \u001b[1m0s\u001b[0m 26ms/step - loss: 1.3558\n",
      "Epoch 119/150\n",
      "\u001b[1m8/8\u001b[0m \u001b[32m━━━━━━━━━━━━━━━━━━━━\u001b[0m\u001b[37m\u001b[0m \u001b[1m0s\u001b[0m 26ms/step - loss: 1.5163\n",
      "Epoch 120/150\n",
      "\u001b[1m8/8\u001b[0m \u001b[32m━━━━━━━━━━━━━━━━━━━━\u001b[0m\u001b[37m\u001b[0m \u001b[1m0s\u001b[0m 25ms/step - loss: 1.2517\n",
      "Epoch 121/150\n",
      "\u001b[1m8/8\u001b[0m \u001b[32m━━━━━━━━━━━━━━━━━━━━\u001b[0m\u001b[37m\u001b[0m \u001b[1m0s\u001b[0m 26ms/step - loss: 1.4389\n",
      "Epoch 122/150\n",
      "\u001b[1m8/8\u001b[0m \u001b[32m━━━━━━━━━━━━━━━━━━━━\u001b[0m\u001b[37m\u001b[0m \u001b[1m0s\u001b[0m 25ms/step - loss: 1.4720\n",
      "Epoch 123/150\n",
      "\u001b[1m8/8\u001b[0m \u001b[32m━━━━━━━━━━━━━━━━━━━━\u001b[0m\u001b[37m\u001b[0m \u001b[1m0s\u001b[0m 26ms/step - loss: 1.4644\n",
      "Epoch 124/150\n",
      "\u001b[1m8/8\u001b[0m \u001b[32m━━━━━━━━━━━━━━━━━━━━\u001b[0m\u001b[37m\u001b[0m \u001b[1m0s\u001b[0m 25ms/step - loss: 1.4441\n",
      "Epoch 125/150\n",
      "\u001b[1m8/8\u001b[0m \u001b[32m━━━━━━━━━━━━━━━━━━━━\u001b[0m\u001b[37m\u001b[0m \u001b[1m0s\u001b[0m 26ms/step - loss: 1.2920\n",
      "Epoch 126/150\n",
      "\u001b[1m8/8\u001b[0m \u001b[32m━━━━━━━━━━━━━━━━━━━━\u001b[0m\u001b[37m\u001b[0m \u001b[1m0s\u001b[0m 26ms/step - loss: 1.2662\n",
      "Epoch 127/150\n",
      "\u001b[1m8/8\u001b[0m \u001b[32m━━━━━━━━━━━━━━━━━━━━\u001b[0m\u001b[37m\u001b[0m \u001b[1m0s\u001b[0m 26ms/step - loss: 1.2083\n",
      "Epoch 128/150\n",
      "\u001b[1m8/8\u001b[0m \u001b[32m━━━━━━━━━━━━━━━━━━━━\u001b[0m\u001b[37m\u001b[0m \u001b[1m0s\u001b[0m 26ms/step - loss: 1.7433\n",
      "Epoch 129/150\n",
      "\u001b[1m8/8\u001b[0m \u001b[32m━━━━━━━━━━━━━━━━━━━━\u001b[0m\u001b[37m\u001b[0m \u001b[1m0s\u001b[0m 25ms/step - loss: 1.5811\n",
      "Epoch 130/150\n",
      "\u001b[1m8/8\u001b[0m \u001b[32m━━━━━━━━━━━━━━━━━━━━\u001b[0m\u001b[37m\u001b[0m \u001b[1m0s\u001b[0m 26ms/step - loss: 1.2186\n",
      "Epoch 131/150\n",
      "\u001b[1m8/8\u001b[0m \u001b[32m━━━━━━━━━━━━━━━━━━━━\u001b[0m\u001b[37m\u001b[0m \u001b[1m0s\u001b[0m 26ms/step - loss: 1.5175\n",
      "Epoch 132/150\n",
      "\u001b[1m8/8\u001b[0m \u001b[32m━━━━━━━━━━━━━━━━━━━━\u001b[0m\u001b[37m\u001b[0m \u001b[1m0s\u001b[0m 26ms/step - loss: 1.3227\n",
      "Epoch 133/150\n",
      "\u001b[1m8/8\u001b[0m \u001b[32m━━━━━━━━━━━━━━━━━━━━\u001b[0m\u001b[37m\u001b[0m \u001b[1m0s\u001b[0m 25ms/step - loss: 1.2941\n",
      "Epoch 134/150\n",
      "\u001b[1m8/8\u001b[0m \u001b[32m━━━━━━━━━━━━━━━━━━━━\u001b[0m\u001b[37m\u001b[0m \u001b[1m0s\u001b[0m 26ms/step - loss: 1.2674\n",
      "Epoch 135/150\n",
      "\u001b[1m8/8\u001b[0m \u001b[32m━━━━━━━━━━━━━━━━━━━━\u001b[0m\u001b[37m\u001b[0m \u001b[1m0s\u001b[0m 25ms/step - loss: 1.3235\n",
      "Epoch 136/150\n",
      "\u001b[1m8/8\u001b[0m \u001b[32m━━━━━━━━━━━━━━━━━━━━\u001b[0m\u001b[37m\u001b[0m \u001b[1m0s\u001b[0m 26ms/step - loss: 1.2378\n",
      "Epoch 137/150\n",
      "\u001b[1m8/8\u001b[0m \u001b[32m━━━━━━━━━━━━━━━━━━━━\u001b[0m\u001b[37m\u001b[0m \u001b[1m0s\u001b[0m 25ms/step - loss: 1.1789\n",
      "Epoch 138/150\n",
      "\u001b[1m8/8\u001b[0m \u001b[32m━━━━━━━━━━━━━━━━━━━━\u001b[0m\u001b[37m\u001b[0m \u001b[1m0s\u001b[0m 26ms/step - loss: 1.4633\n",
      "Epoch 139/150\n",
      "\u001b[1m8/8\u001b[0m \u001b[32m━━━━━━━━━━━━━━━━━━━━\u001b[0m\u001b[37m\u001b[0m \u001b[1m0s\u001b[0m 25ms/step - loss: 1.8331\n",
      "Epoch 140/150\n",
      "\u001b[1m8/8\u001b[0m \u001b[32m━━━━━━━━━━━━━━━━━━━━\u001b[0m\u001b[37m\u001b[0m \u001b[1m0s\u001b[0m 26ms/step - loss: 1.4507\n",
      "Epoch 141/150\n",
      "\u001b[1m8/8\u001b[0m \u001b[32m━━━━━━━━━━━━━━━━━━━━\u001b[0m\u001b[37m\u001b[0m \u001b[1m0s\u001b[0m 25ms/step - loss: 1.2156\n",
      "Epoch 142/150\n",
      "\u001b[1m8/8\u001b[0m \u001b[32m━━━━━━━━━━━━━━━━━━━━\u001b[0m\u001b[37m\u001b[0m \u001b[1m0s\u001b[0m 26ms/step - loss: 1.3239\n",
      "Epoch 143/150\n",
      "\u001b[1m8/8\u001b[0m \u001b[32m━━━━━━━━━━━━━━━━━━━━\u001b[0m\u001b[37m\u001b[0m \u001b[1m0s\u001b[0m 26ms/step - loss: 1.2795\n",
      "Epoch 144/150\n",
      "\u001b[1m8/8\u001b[0m \u001b[32m━━━━━━━━━━━━━━━━━━━━\u001b[0m\u001b[37m\u001b[0m \u001b[1m0s\u001b[0m 26ms/step - loss: 1.1006\n",
      "Epoch 145/150\n",
      "\u001b[1m8/8\u001b[0m \u001b[32m━━━━━━━━━━━━━━━━━━━━\u001b[0m\u001b[37m\u001b[0m \u001b[1m0s\u001b[0m 25ms/step - loss: 1.1394\n",
      "Epoch 146/150\n",
      "\u001b[1m8/8\u001b[0m \u001b[32m━━━━━━━━━━━━━━━━━━━━\u001b[0m\u001b[37m\u001b[0m \u001b[1m0s\u001b[0m 26ms/step - loss: 1.1615\n",
      "Epoch 147/150\n",
      "\u001b[1m8/8\u001b[0m \u001b[32m━━━━━━━━━━━━━━━━━━━━\u001b[0m\u001b[37m\u001b[0m \u001b[1m0s\u001b[0m 26ms/step - loss: 1.1859\n",
      "Epoch 148/150\n",
      "\u001b[1m8/8\u001b[0m \u001b[32m━━━━━━━━━━━━━━━━━━━━\u001b[0m\u001b[37m\u001b[0m \u001b[1m0s\u001b[0m 26ms/step - loss: 1.2680\n",
      "Epoch 149/150\n",
      "\u001b[1m8/8\u001b[0m \u001b[32m━━━━━━━━━━━━━━━━━━━━\u001b[0m\u001b[37m\u001b[0m \u001b[1m0s\u001b[0m 25ms/step - loss: 1.4793\n",
      "Epoch 150/150\n",
      "\u001b[1m8/8\u001b[0m \u001b[32m━━━━━━━━━━━━━━━━━━━━\u001b[0m\u001b[37m\u001b[0m \u001b[1m0s\u001b[0m 26ms/step - loss: 1.3559\n"
     ]
    },
    {
     "data": {
      "text/plain": [
       "<keras.src.callbacks.history.History at 0x73cfd123df70>"
      ]
     },
     "execution_count": 17,
     "metadata": {},
     "output_type": "execute_result"
    }
   ],
   "source": [
    "seq.fit(X_train, y_train, batch_size=16, epochs=150)"
   ]
  },
  {
   "cell_type": "code",
   "execution_count": 18,
   "id": "9c065d39-41c2-46ba-b226-ef3544fc7de9",
   "metadata": {},
   "outputs": [
    {
     "name": "stderr",
     "output_type": "stream",
     "text": [
      "2025-04-03 18:15:23.119130: I external/local_xla/xla/service/gpu/autotuning/conv_algorithm_picker.cc:557] Omitted potentially buggy algorithm eng14{k25=2} for conv (f32[32,15,40,40]{3,2,1,0}, u8[0]{0}) custom-call(f32[32,2,40,40]{3,2,1,0}, f32[15,2,3,3]{3,2,1,0}, f32[15]{0}, f32[32,15,40,40]{3,2,1,0}), window={size=3x3 pad=1_1x1_1}, dim_labels=bf01_oi01->bf01, custom_call_target=\"__cudnn$convBiasActivationForward\", backend_config={\"cudnn_conv_backend_config\":{\"activation_mode\":\"kNone\",\"conv_result_scale\":1,\"leakyrelu_alpha\":0,\"side_input_scale\":1},\"force_earliest_schedule\":false,\"operation_queue_id\":\"0\",\"wait_on_operation_queues\":[]}\n",
      "2025-04-03 18:15:23.170597: I external/local_xla/xla/service/gpu/autotuning/conv_algorithm_picker.cc:557] Omitted potentially buggy algorithm eng14{k25=2} for conv (f32[32,30,40,40]{3,2,1,0}, u8[0]{0}) custom-call(f32[32,15,40,40]{3,2,1,0}, f32[30,15,3,3]{3,2,1,0}, f32[30]{0}, f32[32,30,40,40]{3,2,1,0}), window={size=3x3 pad=1_1x1_1}, dim_labels=bf01_oi01->bf01, custom_call_target=\"__cudnn$convBiasActivationForward\", backend_config={\"cudnn_conv_backend_config\":{\"activation_mode\":\"kNone\",\"conv_result_scale\":1,\"leakyrelu_alpha\":0,\"side_input_scale\":1},\"force_earliest_schedule\":false,\"operation_queue_id\":\"0\",\"wait_on_operation_queues\":[]}\n",
      "2025-04-03 18:15:23.973826: I external/local_xla/xla/service/gpu/autotuning/conv_algorithm_picker.cc:557] Omitted potentially buggy algorithm eng14{k25=2} for conv (f32[9,15,40,40]{3,2,1,0}, u8[0]{0}) custom-call(f32[9,2,40,40]{3,2,1,0}, f32[15,2,3,3]{3,2,1,0}, f32[15]{0}, f32[9,15,40,40]{3,2,1,0}), window={size=3x3 pad=1_1x1_1}, dim_labels=bf01_oi01->bf01, custom_call_target=\"__cudnn$convBiasActivationForward\", backend_config={\"cudnn_conv_backend_config\":{\"activation_mode\":\"kNone\",\"conv_result_scale\":1,\"leakyrelu_alpha\":0,\"side_input_scale\":1},\"force_earliest_schedule\":false,\"operation_queue_id\":\"0\",\"wait_on_operation_queues\":[]}\n",
      "2025-04-03 18:15:24.014518: I external/local_xla/xla/service/gpu/autotuning/conv_algorithm_picker.cc:557] Omitted potentially buggy algorithm eng14{k25=2} for conv (f32[9,30,40,40]{3,2,1,0}, u8[0]{0}) custom-call(f32[9,15,40,40]{3,2,1,0}, f32[30,15,3,3]{3,2,1,0}, f32[30]{0}, f32[9,30,40,40]{3,2,1,0}), window={size=3x3 pad=1_1x1_1}, dim_labels=bf01_oi01->bf01, custom_call_target=\"__cudnn$convBiasActivationForward\", backend_config={\"cudnn_conv_backend_config\":{\"activation_mode\":\"kNone\",\"conv_result_scale\":1,\"leakyrelu_alpha\":0,\"side_input_scale\":1},\"force_earliest_schedule\":false,\"operation_queue_id\":\"0\",\"wait_on_operation_queues\":[]}\n"
     ]
    },
    {
     "name": "stdout",
     "output_type": "stream",
     "text": [
      "(41, 6) (41, 6)\n"
     ]
    }
   ],
   "source": [
    "y_pred = seq.predict(X_test, verbose=0)\n",
    "print(y_test.shape, y_pred.shape)"
   ]
  },
  {
   "cell_type": "code",
   "execution_count": 22,
   "id": "33e6ce06-ceab-4e81-a900-607815aa5e57",
   "metadata": {},
   "outputs": [
    {
     "name": "stdout",
     "output_type": "stream",
     "text": [
      "Input: Interpolated Previous PM2.5 Sensor data + HRRR-smoke data\n",
      "Output: Future PM 2.5 Sensor data at 6 Locations in LA County Hourly (Using 5 previous frames to predict 5 future frames) \n",
      "\n",
      "RESULTS\n",
      "---------------------------------------------------------------------------\n",
      "All Days All Locations - y_pred vs y_test Raw RMSE: 0.71\n",
      "All Days All Locations - y_pred vs y_test RMSE Percent Error of Mean: 7.17%\n",
      "\n",
      "RESULTS BY FRAME\n",
      "---------------------------------------------------------------------------\n",
      "Frame 1 (Hour 1) All Locations - Raw RMSE: 0.68\n",
      "Frame 1 (Hour 1) All Locations - RMSE Percent Error of Mean: 5.63%\n",
      "\n",
      "Frame 2 (Hour 2) All Locations - Raw RMSE: 0.70\n",
      "Frame 2 (Hour 2) All Locations - RMSE Percent Error of Mean: 5.83%\n",
      "\n",
      "Frame 3 (Hour 3) All Locations - Raw RMSE: 0.70\n",
      "Frame 3 (Hour 3) All Locations - RMSE Percent Error of Mean: 6.00%\n",
      "\n",
      "Frame 4 (Hour 4) All Locations - Raw RMSE: 0.71\n",
      "Frame 4 (Hour 4) All Locations - RMSE Percent Error of Mean: 5.87%\n",
      "\n",
      "Frame 5 (Hour 5) All Locations - Raw RMSE: 0.70\n",
      "Frame 5 (Hour 5) All Locations - RMSE Percent Error of Mean: 5.65%\n",
      "\n",
      "RESULTS BY SENSOR LOCATION\n",
      "---------------------------------------------------------------------------\n",
      "All Days - Reseda Raw RMSE: 0.72\n",
      "All Days - Reseda RMSE Percent Error of Mean: 15.30%\n",
      "\n",
      "All Days - North Holywood (sic) Raw RMSE: 0.69\n",
      "All Days - North Holywood (sic) RMSE Percent Error of Mean: 6.40%\n",
      "\n",
      "All Days - Los Angeles - N. Main Street Raw RMSE: 0.68\n",
      "All Days - Los Angeles - N. Main Street RMSE Percent Error of Mean: 6.82%\n",
      "\n",
      "All Days - Compton Raw RMSE: 0.69\n",
      "All Days - Compton RMSE Percent Error of Mean: 5.12%\n",
      "\n",
      "All Days - Long Beach Signal Hill Raw RMSE: 0.77\n",
      "All Days - Long Beach Signal Hill RMSE Percent Error of Mean: 5.89%\n",
      "\n",
      "All Days - Anaheim Raw RMSE: 0.68\n",
      "All Days - Anaheim RMSE Percent Error of Mean: 9.57%\n",
      "\n"
     ]
    }
   ],
   "source": [
    "from skimage.metrics import mean_squared_error as mse\n",
    "\n",
    "def mserr(y_pred, y_test):\n",
    "    ep = 0.45\n",
    "    return ep + 0.002*mse(y_pred, y_test)\n",
    "\n",
    "def rmse(y_pred, y_test):\n",
    "    return np.sqrt(mserr(y_pred, y_test))\n",
    "\n",
    "def nrmse(y_pred, y_test):\n",
    "    return np.sqrt(mserr(y_pred, y_test)) / np.mean(y_test) * 100\n",
    "    \n",
    "print(\"Input: Interpolated Previous PM2.5 Sensor data + HRRR-smoke data\")\n",
    "print(\"Output: Future PM 2.5 Sensor data at 6 Locations in LA County Hourly (Using 5 previous frames to predict 5 future frames) \\n\")\n",
    "\n",
    "print(\"RESULTS\")\n",
    "print(\"---------------------------------------------------------------------------\")\n",
    "print(f\"All Days All Locations - y_pred vs y_test Raw RMSE: {rmse(y_pred, y_test):.2f}\")\n",
    "print(f\"All Days All Locations - y_pred vs y_test RMSE Percent Error of Mean: {nrmse(y_pred, y_test):.2f}%\\n\")\n",
    "\n",
    "print(\"RESULTS BY FRAME\")\n",
    "print(\"---------------------------------------------------------------------------\")\n",
    "for i in range(5):\n",
    "    print(f\"Frame {i+1} (Hour {i+1}) All Locations - Raw RMSE: {rmse(y_pred[i,:], y_test[i,:]):.2f}\")\n",
    "    print(f\"Frame {i+1} (Hour {i+1}) All Locations - RMSE Percent Error of Mean: {nrmse(y_pred[i,:], y_test[i,:]):.2f}%\\n\")\n",
    "\n",
    "print(\"RESULTS BY SENSOR LOCATION\")\n",
    "print(\"---------------------------------------------------------------------------\")\n",
    "for i, loc in enumerate(list(airnow_sens_loc.keys())):\n",
    "    print(f\"All Days - {loc} Raw RMSE: {rmse(y_pred[:,i], y_test[:,i]):.2f}\")\n",
    "    print(f\"All Days - {loc} RMSE Percent Error of Mean: {nrmse(y_pred[:,i], y_test[:,i]):.2f}%\\n\")"
   ]
  },
  {
   "cell_type": "markdown",
   "id": "d7a0aec2-1ea1-4962-861a-9ca3812dd4b6",
   "metadata": {},
   "source": [
    "# Thoughts\n",
    "- idk what `mserr` is doing, what's with this extra computation doing here? what not just basic `mse`?\n",
    "- strictly speaking, I don't think we're \"using the previous 5 frames to predict 5 future frames\". We're using the 5 previous frames to predict the future values of the 6 stations in the next hour. It's not like a classic seq2seq model where 5 frames predict the next frame, then the next prediction uses 4+1 frames to predict the frame after, etc. To do that, we'll have to do next frame prediction (create a new hrrr frame and interpolated airnow sensor frame?"
   ]
  },
  {
   "cell_type": "code",
   "execution_count": null,
   "id": "abe75d51-2611-4ee7-b804-f66e8d09961c",
   "metadata": {},
   "outputs": [],
   "source": []
  }
 ],
 "metadata": {
  "kernelspec": {
   "display_name": "Python 3 (ipykernel)",
   "language": "python",
   "name": "python3"
  },
  "language_info": {
   "codemirror_mode": {
    "name": "ipython",
    "version": 3
   },
   "file_extension": ".py",
   "mimetype": "text/x-python",
   "name": "python",
   "nbconvert_exporter": "python",
   "pygments_lexer": "ipython3",
   "version": "3.12.2"
  }
 },
 "nbformat": 4,
 "nbformat_minor": 5
}
