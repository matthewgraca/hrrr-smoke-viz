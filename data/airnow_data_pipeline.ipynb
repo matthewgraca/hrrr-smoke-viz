{
 "cells": [
  {
   "cell_type": "markdown",
   "id": "0f1450d6-93dc-4886-bedd-adf7b1e91fc1",
   "metadata": {},
   "source": [
    "# Caveats, differences from main PWWB repo, concerns\n",
    "- Bounding boxes are different. In other places it's: `-118.75, 33.5, -117.5, 34.5`, in others it's `33.6, 34.3, -118.6, -117.9`. I don't know why the differences are here, so I'll just use the later.\n",
    "- In the training notebook, the labels were just the stations, not the interpolated grid.\n",
    "    - I'm thinking we do the same: we have hrrr + interpolated airnow, and the label will be the 9 sensors. We can just interpolate the output if we want to.\n",
    "- I'm confused, we're predicting something called \"value\" instead of AQI. I don't know the relationship between these two numbers.\n",
    "    - also what is value vs aqi?? its not even on the docs https://docs.airnowapi.org/Data/docs like what"
   ]
  },
  {
   "cell_type": "markdown",
   "id": "b7b420e4-de0e-49f5-9111-fd2dff28fa9a",
   "metadata": {},
   "source": [
    "# Accessing the data\n",
    "Using the AirNow API, we'll request a json of the data we need."
   ]
  },
  {
   "cell_type": "code",
   "execution_count": null,
   "id": "16476c4e-d9e7-4275-93ea-b92473ad83ee",
   "metadata": {},
   "outputs": [],
   "source": [
    "import requests\n",
    "import json\n",
    "import pandas as pd\n",
    "import numpy as np\n",
    "import matplotlib.pyplot as plt\n",
    "import os\n",
    "\n",
    "# get airnow data\n",
    "if os.path.exists('airnow.json'):\n",
    "    print(\"airnow.json already exists; skipping request...\")\n",
    "else:\n",
    "    date_start = '2025-01-10T00'\n",
    "    date_end = '2025-01-16T23'\n",
    "    airnow_api_key = print(\"YOU NEED TO ADD YOUR API KEY!\")\n",
    "    URL = \"https://www.airnowapi.org/aq/data\"\n",
    "    \n",
    "    # location given here\n",
    "    \n",
    "    # defining a params dict for the parameters to be sent to the API\n",
    "    PARAMS = {\n",
    "        'startDate':date_start,\n",
    "        'endDate':date_end,\n",
    "        'parameters':'PM25',\n",
    "        'BBOX':'-118.75,33.5,-117.5,34.5',\n",
    "        'dataType':'B',\n",
    "        'format':'application/json',\n",
    "        'verbose':'0',\n",
    "        'monitorType':'2',\n",
    "        'includerawconcentrations':'1',\n",
    "        'API_KEY':airnow_api_key\n",
    "    }\n",
    "    \n",
    "    # sending get request and saving the response as response object\n",
    "    response = requests.get(url = URL, params = PARAMS)\n",
    "\n",
    "    # extracting data in json format\n",
    "    airnow_data = response.json()\n",
    "    with open('airnow.json', 'w') as file:\n",
    "        json.dump(airnow_data, file)\n",
    "        print(\"JSON data saved to airnow.json\")\n",
    "    \n",
    "# open json file and convert to dataframe\n",
    "with open('airnow.json', 'r') as file:\n",
    "    airnow_data = json.load(file)\n",
    "airnow_df = pd.json_normalize(airnow_data)\n",
    "airnow_df[0:20]"
   ]
  },
  {
   "cell_type": "markdown",
   "id": "8fe99c26-1d80-4064-8a65-a1000eab11b9",
   "metadata": {},
   "source": [
    "This should generate a URL like this:\n",
    "```\n",
    "https://www.airnowapi.org/aq/data/?startDate=2025-01-10T00&endDate=2025-01-16T23&parameters=PM25&BBOX=-118.6,33.6,-117.9,34.3&dataType=B&format=application/json&verbose=0&monitorType=2&includerawconcentrations=1&API_KEY=YOUR-API-KEY-HERE\n",
    "```\n",
    "\n",
    "You can also use a query tool from AirNow:\n",
    "- https://docs.airnowapi.org/Data/query"
   ]
  },
  {
   "cell_type": "code",
   "execution_count": null,
   "id": "0180fd59-0848-4a9e-b7b7-4e2e3abc3a66",
   "metadata": {},
   "outputs": [],
   "source": [
    "# group data by time; every element in the list is a single frame containing 9 stations\n",
    "list_df = [group for name, group in airnow_df.groupby('UTC')]\n",
    "print(f\"Number of frames: {len(list_df)}\")\n",
    "display(list_df[0])\n",
    "display(list_df[-1])"
   ]
  },
  {
   "cell_type": "markdown",
   "id": "a5316dba-b0fb-4841-aaa8-94ffba784ee0",
   "metadata": {},
   "source": [
    "# Interpolate"
   ]
  },
  {
   "cell_type": "code",
   "execution_count": null,
   "id": "e3f25f8a-cda4-48c7-baff-3e4181da033b",
   "metadata": {},
   "outputs": [],
   "source": [
    "def preprocess_ground_sites(df, dim, latMax, latMin, lonMax, lonMin):\n",
    "    latDist, lonDist = abs(latMax - latMin), abs(lonMax - lonMin)\n",
    "    unInter = np.zeros((dim,dim))\n",
    "    dfArr = np.array(df[['Latitude','Longitude','Value']])\n",
    "    for i in range(dfArr.shape[0]):\n",
    "        # Calculate x\n",
    "        x = int(((latMax - dfArr[i,0]) / latDist) * dim)\n",
    "        if x >= dim:\n",
    "            x = dim - 1\n",
    "        if x <= 0:\n",
    "            x = 0\n",
    "        # Calculate y\n",
    "        y = dim - int(((lonMax + abs(dfArr[i,1])) / lonDist) * dim)\n",
    "        if y >= dim:\n",
    "            y = dim - 1\n",
    "        if y <= 0:\n",
    "            y = 0\n",
    "        if dfArr[i,2] < 0:\n",
    "            unInter[x,y] = 0\n",
    "        else:\n",
    "            unInter[x,y] = dfArr[i,2]\n",
    "    return unInter"
   ]
  },
  {
   "cell_type": "code",
   "execution_count": null,
   "id": "b9e4bea1-c3a8-4eb5-ac55-d68904719217",
   "metadata": {},
   "outputs": [],
   "source": [
    "lat_bottom, lat_top = 33.6, 34.3\n",
    "lon_bottom, lon_top = -118.6, -117.9\n",
    "dim = 40\n",
    "\n",
    "# preprocess ground sites -- converting dataframe of stations into a grid\n",
    "list_unInter = [preprocess_ground_sites(df, dim, lat_top, lat_bottom, lon_top, lon_bottom) for df in list_df]\n",
    "\n",
    "# plot out 3 random images\n",
    "np.random.seed(42)\n",
    "print(\"Three random frames of Grid-based AirNow Data\")\n",
    "fig, axes = plt.subplots(1, 3, figsize=(10, 4))\n",
    "for idx, ax in enumerate(axes):\n",
    "    randIdx = np.random.choice(range(0, len(list_unInter)), replace=False)\n",
    "    ax.imshow(list_unInter[randIdx])\n",
    "    ax.set_title(f\"Time: {list_df[randIdx]['UTC'].iloc[0]}\")    \n",
    "\n",
    "plt.show()"
   ]
  },
  {
   "cell_type": "markdown",
   "id": "d388fdae-b0d3-4f39-b12e-783044a9aeee",
   "metadata": {},
   "source": [
    "By printing the x and y values in the preprocessing function, we find the locations of the sensors on the grid we've created.\n",
    "\n",
    "Furthermore, if we set `verbose=1` when we send our API request, we get location information for these sensors, under `SiteName`:\n",
    "- Simi Valley - Cochran Street: (1, 0)\n",
    "- Reseda: (5, 4)\n",
    "- Santa Clarita: (0, 5)\n",
    "- North Holywood (sic): (6, 14)\n",
    "- Los Angeles - N. Main Street: (13, 22)\n",
    "- Compton: (22, 23)\n",
    "- Long Beach Signal Hill: (28, 25)\n",
    "- Anaheim: (26, 38)\n",
    "- Glendora: (8, 39)"
   ]
  },
  {
   "cell_type": "code",
   "execution_count": null,
   "id": "3a6a34cc-3470-448e-b697-afa5345a5a66",
   "metadata": {},
   "outputs": [],
   "source": [
    "from scipy.interpolate import NearestNDInterpolator, LinearNDInterpolator\n",
    "\n",
    "def interpolate_frame(f, dim):\n",
    "    i = 0\n",
    "    interpolated = []\n",
    "    count = 0\n",
    "    idx = 0\n",
    "    x_list = []\n",
    "    y_list = []\n",
    "    values = []\n",
    "    for x in range(f.shape[0]):\n",
    "        for y in range(f.shape[1]):\n",
    "            if f[x,y] != 0:\n",
    "                x_list.append(x)\n",
    "                y_list.append(y)\n",
    "                values.append(f[x,y])\n",
    "    coords = list(zip(x_list,y_list))\n",
    "    try:\n",
    "        interp = NearestNDInterpolator(coords, values)\n",
    "        X = np.arange(0,dim)\n",
    "        Y = np.arange(0,dim)\n",
    "        X, Y = np.meshgrid(X, Y)\n",
    "        Z = interp(X, Y)\n",
    "    except ValueError:\n",
    "        Z = np.zeros((dim,dim))\n",
    "    interpolated = Z\n",
    "    count += 1\n",
    "    i += 1\n",
    "    interpolated = np.array(interpolated)\n",
    "    return interpolated"
   ]
  },
  {
   "cell_type": "code",
   "execution_count": null,
   "id": "dfac8b6c-d05f-4e9f-9376-d6bde7500cb4",
   "metadata": {},
   "outputs": [],
   "source": [
    "# interpolate\n",
    "list_inter = [interpolate_frame(unInter, dim) for unInter in list_unInter]\n",
    "\n",
    "# print 3 frames\n",
    "np.random.seed(42)\n",
    "print(\"Three random frames of Interpolated Grid-based AirNow Data\")\n",
    "fig, axes = plt.subplots(1, 3, figsize=(10, 4))\n",
    "for idx, ax in enumerate(axes):\n",
    "    randIdx = np.random.choice(range(0, len(list_inter)), replace=False)\n",
    "    ax.imshow(list_inter[randIdx])\n",
    "    ax.set_title(f\"Time: {list_df[randIdx]['UTC'].iloc[0]}\")    \n",
    "    \n",
    "plt.show()"
   ]
  },
  {
   "cell_type": "markdown",
   "id": "50e0c105-1361-4f15-a3bb-738d75ffaf67",
   "metadata": {},
   "source": [
    "# Scale"
   ]
  },
  {
   "cell_type": "code",
   "execution_count": null,
   "id": "9cf12806-4485-4ef2-a366-91c17ad8621a",
   "metadata": {},
   "outputs": [],
   "source": [
    "# we scale each sample relative to other samples\n",
    "def std_scale(data):\n",
    "    mean = np.mean(data)\n",
    "    var = np.var(data)\n",
    "    return (data - mean) / np.sqrt(var)\n",
    "    \n",
    "scaled_frames = std_scale(np.array(list_inter))\n",
    "\n",
    "# print 3 frames\n",
    "np.random.seed(42)\n",
    "print(\"Three random frames of Scaled Interpolated Grid-based AirNow Data\")\n",
    "fig, axes = plt.subplots(1, 3, figsize=(10, 4))\n",
    "for idx, ax in enumerate(axes):\n",
    "    randIdx = np.random.choice(range(0, len(scaled_frames)), replace=False)\n",
    "    ax.imshow(scaled_frames[randIdx])\n",
    "    ax.set_title(f\"Time: {list_df[randIdx]['UTC'].iloc[0]}\")    \n",
    "    \n",
    "plt.show()"
   ]
  },
  {
   "cell_type": "code",
   "execution_count": null,
   "id": "4de2e989-fd25-41d7-af15-04ed6a8e0f47",
   "metadata": {},
   "outputs": [],
   "source": [
    "# ensure actual scaling has occurred\n",
    "randIdx = np.random.choice(range(0, len(list_inter)), replace=False)\n",
    "print(f\"Examining data at frame {randIdx}\\n\")\n",
    "print(\"Interpolated data:\")\n",
    "print(list_inter[randIdx], '\\n')\n",
    "print(\"Interpolated and scaled data:\")\n",
    "print(scaled_frames[randIdx])"
   ]
  },
  {
   "cell_type": "markdown",
   "id": "a67d7e92-fd0c-43f0-a6ba-5524cdf1441c",
   "metadata": {},
   "source": [
    "# Visualizing preprocessed, interpolated, and scaled data"
   ]
  },
  {
   "cell_type": "code",
   "execution_count": null,
   "id": "e96b1e9d-b98e-4cf9-b6f6-0b9b08e0187e",
   "metadata": {},
   "outputs": [],
   "source": [
    "# compare all 3 levels\n",
    "randIdx = np.random.choice(range(0, len(list_inter)), replace=False)\n",
    "compare = [\n",
    "    (\"Preprocessed\", list_unInter[randIdx]), \n",
    "    (\"Interpolated\", list_inter[randIdx]), \n",
    "    (\"Scaled\", scaled_frames[randIdx])\n",
    "]\n",
    "print(f\"Frame: {randIdx}, Time: {list_df[randIdx]['UTC'].iloc[0]}\")\n",
    "fig, axes = plt.subplots(1, 3, figsize=(10, 4))\n",
    "for idx, ax in enumerate(axes):\n",
    "    ax.imshow(compare[idx][1])\n",
    "    ax.set_title(compare[idx][0])\n",
    "    ax.axis(\"off\")\n",
    "    \n",
    "plt.show()"
   ]
  },
  {
   "cell_type": "markdown",
   "id": "26062d3b-7013-4957-8016-4cf3b7a92ce0",
   "metadata": {},
   "source": [
    "# Convert data into 5D tensor"
   ]
  },
  {
   "cell_type": "code",
   "execution_count": null,
   "id": "c96313ec-50b5-469e-9496-d88106ef3e2a",
   "metadata": {},
   "outputs": [],
   "source": [
    "# create a channel axis\n",
    "print(f\"Shape of scaled frames: {scaled_frames.shape}\")\n",
    "\n",
    "frames = np.expand_dims(scaled_frames, axis=-1)\n",
    "\n",
    "print(f\"Shape of scaled frames with channel axis: {frames.shape}\")\n",
    "\n",
    "# create samples from frames\n",
    "def sliding_window_of(frames, sample_size, rows, cols, channels):\n",
    "    n_samples = len(frames) - sample_size\n",
    "    samples = np.empty((n_samples, sample_size, rows, cols, channels))\n",
    "    for i in range(n_samples):\n",
    "        samples[i] = np.array([frames[j] for j in range(i, i + sample_size)])\n",
    "    return samples\n",
    "\n",
    "complete_dataset = sliding_window_of(frames=frames, sample_size=6, rows=dim, cols=dim, channels=1)\n",
    "print(f\"Shape of the final input: {complete_dataset.shape}\")"
   ]
  },
  {
   "cell_type": "markdown",
   "id": "de4ef919-b876-4751-9f20-b71a8b0ac5b7",
   "metadata": {},
   "source": [
    "# Generate final input\n",
    "Lancaster: (35,25)\n",
    "Santa Clarita: (24, 13)\n",
    "Reseda: (18, 12)\n",
    "Glendora: (16,34)\n",
    "LA Main: (13,22)\n",
    "Long Beach: (5, 23)\n",
    "South Long Beach: (5,26)"
   ]
  },
  {
   "cell_type": "code",
   "execution_count": null,
   "id": "47fd0186-16ad-4290-b6c6-74ecc06a2ab5",
   "metadata": {},
   "outputs": [],
   "source": [
    "n_samples, n_frames, n_channels = 1, 1, 2\n",
    "payload = np.zeros((n_samples, n_frames, dim, dim, n_channels))\n",
    "payload[0, 0, :, :, 0] = frames\n",
    "# payload[0, 0, :, :, 1] = scaled_hrrr ??\n",
    "# also guessing that since this is from the inference script, shape will be (1, 1, 40, 40, 2); 1 sample, 1 frame (is not 5?), 40x40, 2 channels"
   ]
  },
  {
   "cell_type": "code",
   "execution_count": null,
   "id": "7ff0e8b3-7b74-4e06-ac49-6ea2efd609ae",
   "metadata": {},
   "outputs": [],
   "source": []
  }
 ],
 "metadata": {
  "kernelspec": {
   "display_name": "Python 3 (ipykernel)",
   "language": "python",
   "name": "python3"
  },
  "language_info": {
   "codemirror_mode": {
    "name": "ipython",
    "version": 3
   },
   "file_extension": ".py",
   "mimetype": "text/x-python",
   "name": "python",
   "nbconvert_exporter": "python",
   "pygments_lexer": "ipython3",
   "version": "3.13.2"
  }
 },
 "nbformat": 4,
 "nbformat_minor": 5
}
